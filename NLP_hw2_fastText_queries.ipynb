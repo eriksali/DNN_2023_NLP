{
  "nbformat": 4,
  "nbformat_minor": 0,
  "metadata": {
    "colab": {
      "provenance": [],
      "authorship_tag": "ABX9TyOV56qv2Mcu7w5C3aqZKzD1",
      "include_colab_link": true
    },
    "kernelspec": {
      "name": "python3",
      "display_name": "Python 3"
    },
    "language_info": {
      "name": "python"
    },
    "accelerator": "GPU",
    "gpuClass": "standard",
    "widgets": {
      "application/vnd.jupyter.widget-state+json": {
        "df9c8d5ee61d4a97a24b96a0261bea66": {
          "model_module": "@jupyter-widgets/controls",
          "model_name": "HBoxModel",
          "model_module_version": "1.5.0",
          "state": {
            "_dom_classes": [],
            "_model_module": "@jupyter-widgets/controls",
            "_model_module_version": "1.5.0",
            "_model_name": "HBoxModel",
            "_view_count": null,
            "_view_module": "@jupyter-widgets/controls",
            "_view_module_version": "1.5.0",
            "_view_name": "HBoxView",
            "box_style": "",
            "children": [
              "IPY_MODEL_3a7138fc29ff40b8ad663f22bc464167",
              "IPY_MODEL_66d7d3c339de4bfcba607134f542eefc",
              "IPY_MODEL_b36e6276bf534cee9a1f1c880ae88787"
            ],
            "layout": "IPY_MODEL_63c9d73c0e5a42a1b1763e5591ac8f95"
          }
        },
        "3a7138fc29ff40b8ad663f22bc464167": {
          "model_module": "@jupyter-widgets/controls",
          "model_name": "HTMLModel",
          "model_module_version": "1.5.0",
          "state": {
            "_dom_classes": [],
            "_model_module": "@jupyter-widgets/controls",
            "_model_module_version": "1.5.0",
            "_model_name": "HTMLModel",
            "_view_count": null,
            "_view_module": "@jupyter-widgets/controls",
            "_view_module_version": "1.5.0",
            "_view_name": "HTMLView",
            "description": "",
            "description_tooltip": null,
            "layout": "IPY_MODEL_6910c8cd08f44b47a8f3f3507ce3d563",
            "placeholder": "​",
            "style": "IPY_MODEL_c2ecca4a011a48bcb57e482f6275e87d",
            "value": "100%"
          }
        },
        "66d7d3c339de4bfcba607134f542eefc": {
          "model_module": "@jupyter-widgets/controls",
          "model_name": "FloatProgressModel",
          "model_module_version": "1.5.0",
          "state": {
            "_dom_classes": [],
            "_model_module": "@jupyter-widgets/controls",
            "_model_module_version": "1.5.0",
            "_model_name": "FloatProgressModel",
            "_view_count": null,
            "_view_module": "@jupyter-widgets/controls",
            "_view_module_version": "1.5.0",
            "_view_name": "ProgressView",
            "bar_style": "success",
            "description": "",
            "description_tooltip": null,
            "layout": "IPY_MODEL_ec1685bad0b84bc79d1f63a13d20d39f",
            "max": 1,
            "min": 0,
            "orientation": "horizontal",
            "style": "IPY_MODEL_78209fd991cd4de483cd8f7821001990",
            "value": 1
          }
        },
        "b36e6276bf534cee9a1f1c880ae88787": {
          "model_module": "@jupyter-widgets/controls",
          "model_name": "HTMLModel",
          "model_module_version": "1.5.0",
          "state": {
            "_dom_classes": [],
            "_model_module": "@jupyter-widgets/controls",
            "_model_module_version": "1.5.0",
            "_model_name": "HTMLModel",
            "_view_count": null,
            "_view_module": "@jupyter-widgets/controls",
            "_view_module_version": "1.5.0",
            "_view_name": "HTMLView",
            "description": "",
            "description_tooltip": null,
            "layout": "IPY_MODEL_b4e0981c60774eeebf8c5c9dc9b0675f",
            "placeholder": "​",
            "style": "IPY_MODEL_432624e5fde94e76b5dd04d9330b966d",
            "value": " 1/1 [00:00&lt;00:00,  9.23it/s]"
          }
        },
        "63c9d73c0e5a42a1b1763e5591ac8f95": {
          "model_module": "@jupyter-widgets/base",
          "model_name": "LayoutModel",
          "model_module_version": "1.2.0",
          "state": {
            "_model_module": "@jupyter-widgets/base",
            "_model_module_version": "1.2.0",
            "_model_name": "LayoutModel",
            "_view_count": null,
            "_view_module": "@jupyter-widgets/base",
            "_view_module_version": "1.2.0",
            "_view_name": "LayoutView",
            "align_content": null,
            "align_items": null,
            "align_self": null,
            "border": null,
            "bottom": null,
            "display": null,
            "flex": null,
            "flex_flow": null,
            "grid_area": null,
            "grid_auto_columns": null,
            "grid_auto_flow": null,
            "grid_auto_rows": null,
            "grid_column": null,
            "grid_gap": null,
            "grid_row": null,
            "grid_template_areas": null,
            "grid_template_columns": null,
            "grid_template_rows": null,
            "height": null,
            "justify_content": null,
            "justify_items": null,
            "left": null,
            "margin": null,
            "max_height": null,
            "max_width": null,
            "min_height": null,
            "min_width": null,
            "object_fit": null,
            "object_position": null,
            "order": null,
            "overflow": null,
            "overflow_x": null,
            "overflow_y": null,
            "padding": null,
            "right": null,
            "top": null,
            "visibility": null,
            "width": null
          }
        },
        "6910c8cd08f44b47a8f3f3507ce3d563": {
          "model_module": "@jupyter-widgets/base",
          "model_name": "LayoutModel",
          "model_module_version": "1.2.0",
          "state": {
            "_model_module": "@jupyter-widgets/base",
            "_model_module_version": "1.2.0",
            "_model_name": "LayoutModel",
            "_view_count": null,
            "_view_module": "@jupyter-widgets/base",
            "_view_module_version": "1.2.0",
            "_view_name": "LayoutView",
            "align_content": null,
            "align_items": null,
            "align_self": null,
            "border": null,
            "bottom": null,
            "display": null,
            "flex": null,
            "flex_flow": null,
            "grid_area": null,
            "grid_auto_columns": null,
            "grid_auto_flow": null,
            "grid_auto_rows": null,
            "grid_column": null,
            "grid_gap": null,
            "grid_row": null,
            "grid_template_areas": null,
            "grid_template_columns": null,
            "grid_template_rows": null,
            "height": null,
            "justify_content": null,
            "justify_items": null,
            "left": null,
            "margin": null,
            "max_height": null,
            "max_width": null,
            "min_height": null,
            "min_width": null,
            "object_fit": null,
            "object_position": null,
            "order": null,
            "overflow": null,
            "overflow_x": null,
            "overflow_y": null,
            "padding": null,
            "right": null,
            "top": null,
            "visibility": null,
            "width": null
          }
        },
        "c2ecca4a011a48bcb57e482f6275e87d": {
          "model_module": "@jupyter-widgets/controls",
          "model_name": "DescriptionStyleModel",
          "model_module_version": "1.5.0",
          "state": {
            "_model_module": "@jupyter-widgets/controls",
            "_model_module_version": "1.5.0",
            "_model_name": "DescriptionStyleModel",
            "_view_count": null,
            "_view_module": "@jupyter-widgets/base",
            "_view_module_version": "1.2.0",
            "_view_name": "StyleView",
            "description_width": ""
          }
        },
        "ec1685bad0b84bc79d1f63a13d20d39f": {
          "model_module": "@jupyter-widgets/base",
          "model_name": "LayoutModel",
          "model_module_version": "1.2.0",
          "state": {
            "_model_module": "@jupyter-widgets/base",
            "_model_module_version": "1.2.0",
            "_model_name": "LayoutModel",
            "_view_count": null,
            "_view_module": "@jupyter-widgets/base",
            "_view_module_version": "1.2.0",
            "_view_name": "LayoutView",
            "align_content": null,
            "align_items": null,
            "align_self": null,
            "border": null,
            "bottom": null,
            "display": null,
            "flex": null,
            "flex_flow": null,
            "grid_area": null,
            "grid_auto_columns": null,
            "grid_auto_flow": null,
            "grid_auto_rows": null,
            "grid_column": null,
            "grid_gap": null,
            "grid_row": null,
            "grid_template_areas": null,
            "grid_template_columns": null,
            "grid_template_rows": null,
            "height": null,
            "justify_content": null,
            "justify_items": null,
            "left": null,
            "margin": null,
            "max_height": null,
            "max_width": null,
            "min_height": null,
            "min_width": null,
            "object_fit": null,
            "object_position": null,
            "order": null,
            "overflow": null,
            "overflow_x": null,
            "overflow_y": null,
            "padding": null,
            "right": null,
            "top": null,
            "visibility": null,
            "width": null
          }
        },
        "78209fd991cd4de483cd8f7821001990": {
          "model_module": "@jupyter-widgets/controls",
          "model_name": "ProgressStyleModel",
          "model_module_version": "1.5.0",
          "state": {
            "_model_module": "@jupyter-widgets/controls",
            "_model_module_version": "1.5.0",
            "_model_name": "ProgressStyleModel",
            "_view_count": null,
            "_view_module": "@jupyter-widgets/base",
            "_view_module_version": "1.2.0",
            "_view_name": "StyleView",
            "bar_color": null,
            "description_width": ""
          }
        },
        "b4e0981c60774eeebf8c5c9dc9b0675f": {
          "model_module": "@jupyter-widgets/base",
          "model_name": "LayoutModel",
          "model_module_version": "1.2.0",
          "state": {
            "_model_module": "@jupyter-widgets/base",
            "_model_module_version": "1.2.0",
            "_model_name": "LayoutModel",
            "_view_count": null,
            "_view_module": "@jupyter-widgets/base",
            "_view_module_version": "1.2.0",
            "_view_name": "LayoutView",
            "align_content": null,
            "align_items": null,
            "align_self": null,
            "border": null,
            "bottom": null,
            "display": null,
            "flex": null,
            "flex_flow": null,
            "grid_area": null,
            "grid_auto_columns": null,
            "grid_auto_flow": null,
            "grid_auto_rows": null,
            "grid_column": null,
            "grid_gap": null,
            "grid_row": null,
            "grid_template_areas": null,
            "grid_template_columns": null,
            "grid_template_rows": null,
            "height": null,
            "justify_content": null,
            "justify_items": null,
            "left": null,
            "margin": null,
            "max_height": null,
            "max_width": null,
            "min_height": null,
            "min_width": null,
            "object_fit": null,
            "object_position": null,
            "order": null,
            "overflow": null,
            "overflow_x": null,
            "overflow_y": null,
            "padding": null,
            "right": null,
            "top": null,
            "visibility": null,
            "width": null
          }
        },
        "432624e5fde94e76b5dd04d9330b966d": {
          "model_module": "@jupyter-widgets/controls",
          "model_name": "DescriptionStyleModel",
          "model_module_version": "1.5.0",
          "state": {
            "_model_module": "@jupyter-widgets/controls",
            "_model_module_version": "1.5.0",
            "_model_name": "DescriptionStyleModel",
            "_view_count": null,
            "_view_module": "@jupyter-widgets/base",
            "_view_module_version": "1.2.0",
            "_view_name": "StyleView",
            "description_width": ""
          }
        },
        "451894c8d5e743e3bc0bea77440c1268": {
          "model_module": "@jupyter-widgets/controls",
          "model_name": "HBoxModel",
          "model_module_version": "1.5.0",
          "state": {
            "_dom_classes": [],
            "_model_module": "@jupyter-widgets/controls",
            "_model_module_version": "1.5.0",
            "_model_name": "HBoxModel",
            "_view_count": null,
            "_view_module": "@jupyter-widgets/controls",
            "_view_module_version": "1.5.0",
            "_view_name": "HBoxView",
            "box_style": "",
            "children": [
              "IPY_MODEL_d8dbecbc68e94191b781592b929c4490",
              "IPY_MODEL_2b0d42d9a79a4af799037c3ef42c03a0",
              "IPY_MODEL_41dc62e31b6d4628b9485337590acabf"
            ],
            "layout": "IPY_MODEL_8646c52f2de942f4823344713a0c9920"
          }
        },
        "d8dbecbc68e94191b781592b929c4490": {
          "model_module": "@jupyter-widgets/controls",
          "model_name": "HTMLModel",
          "model_module_version": "1.5.0",
          "state": {
            "_dom_classes": [],
            "_model_module": "@jupyter-widgets/controls",
            "_model_module_version": "1.5.0",
            "_model_name": "HTMLModel",
            "_view_count": null,
            "_view_module": "@jupyter-widgets/controls",
            "_view_module_version": "1.5.0",
            "_view_name": "HTMLView",
            "description": "",
            "description_tooltip": null,
            "layout": "IPY_MODEL_9921f4949afb4bb1906927b81f5f6231",
            "placeholder": "​",
            "style": "IPY_MODEL_b9e77fd26ade4d009f152afa217c850b",
            "value": "100%"
          }
        },
        "2b0d42d9a79a4af799037c3ef42c03a0": {
          "model_module": "@jupyter-widgets/controls",
          "model_name": "FloatProgressModel",
          "model_module_version": "1.5.0",
          "state": {
            "_dom_classes": [],
            "_model_module": "@jupyter-widgets/controls",
            "_model_module_version": "1.5.0",
            "_model_name": "FloatProgressModel",
            "_view_count": null,
            "_view_module": "@jupyter-widgets/controls",
            "_view_module_version": "1.5.0",
            "_view_name": "ProgressView",
            "bar_style": "success",
            "description": "",
            "description_tooltip": null,
            "layout": "IPY_MODEL_e8f1245e056e4a3bb2ffbc5485304225",
            "max": 1,
            "min": 0,
            "orientation": "horizontal",
            "style": "IPY_MODEL_3b3f24b103b74ce1ab96128604749968",
            "value": 1
          }
        },
        "41dc62e31b6d4628b9485337590acabf": {
          "model_module": "@jupyter-widgets/controls",
          "model_name": "HTMLModel",
          "model_module_version": "1.5.0",
          "state": {
            "_dom_classes": [],
            "_model_module": "@jupyter-widgets/controls",
            "_model_module_version": "1.5.0",
            "_model_name": "HTMLModel",
            "_view_count": null,
            "_view_module": "@jupyter-widgets/controls",
            "_view_module_version": "1.5.0",
            "_view_name": "HTMLView",
            "description": "",
            "description_tooltip": null,
            "layout": "IPY_MODEL_47a91f16289a4d44b538a931ca3f42cc",
            "placeholder": "​",
            "style": "IPY_MODEL_6c1f7dbacb214259a5d4aaee87b63288",
            "value": " 1/1 [00:00&lt;00:00, 38.56it/s]"
          }
        },
        "8646c52f2de942f4823344713a0c9920": {
          "model_module": "@jupyter-widgets/base",
          "model_name": "LayoutModel",
          "model_module_version": "1.2.0",
          "state": {
            "_model_module": "@jupyter-widgets/base",
            "_model_module_version": "1.2.0",
            "_model_name": "LayoutModel",
            "_view_count": null,
            "_view_module": "@jupyter-widgets/base",
            "_view_module_version": "1.2.0",
            "_view_name": "LayoutView",
            "align_content": null,
            "align_items": null,
            "align_self": null,
            "border": null,
            "bottom": null,
            "display": null,
            "flex": null,
            "flex_flow": null,
            "grid_area": null,
            "grid_auto_columns": null,
            "grid_auto_flow": null,
            "grid_auto_rows": null,
            "grid_column": null,
            "grid_gap": null,
            "grid_row": null,
            "grid_template_areas": null,
            "grid_template_columns": null,
            "grid_template_rows": null,
            "height": null,
            "justify_content": null,
            "justify_items": null,
            "left": null,
            "margin": null,
            "max_height": null,
            "max_width": null,
            "min_height": null,
            "min_width": null,
            "object_fit": null,
            "object_position": null,
            "order": null,
            "overflow": null,
            "overflow_x": null,
            "overflow_y": null,
            "padding": null,
            "right": null,
            "top": null,
            "visibility": null,
            "width": null
          }
        },
        "9921f4949afb4bb1906927b81f5f6231": {
          "model_module": "@jupyter-widgets/base",
          "model_name": "LayoutModel",
          "model_module_version": "1.2.0",
          "state": {
            "_model_module": "@jupyter-widgets/base",
            "_model_module_version": "1.2.0",
            "_model_name": "LayoutModel",
            "_view_count": null,
            "_view_module": "@jupyter-widgets/base",
            "_view_module_version": "1.2.0",
            "_view_name": "LayoutView",
            "align_content": null,
            "align_items": null,
            "align_self": null,
            "border": null,
            "bottom": null,
            "display": null,
            "flex": null,
            "flex_flow": null,
            "grid_area": null,
            "grid_auto_columns": null,
            "grid_auto_flow": null,
            "grid_auto_rows": null,
            "grid_column": null,
            "grid_gap": null,
            "grid_row": null,
            "grid_template_areas": null,
            "grid_template_columns": null,
            "grid_template_rows": null,
            "height": null,
            "justify_content": null,
            "justify_items": null,
            "left": null,
            "margin": null,
            "max_height": null,
            "max_width": null,
            "min_height": null,
            "min_width": null,
            "object_fit": null,
            "object_position": null,
            "order": null,
            "overflow": null,
            "overflow_x": null,
            "overflow_y": null,
            "padding": null,
            "right": null,
            "top": null,
            "visibility": null,
            "width": null
          }
        },
        "b9e77fd26ade4d009f152afa217c850b": {
          "model_module": "@jupyter-widgets/controls",
          "model_name": "DescriptionStyleModel",
          "model_module_version": "1.5.0",
          "state": {
            "_model_module": "@jupyter-widgets/controls",
            "_model_module_version": "1.5.0",
            "_model_name": "DescriptionStyleModel",
            "_view_count": null,
            "_view_module": "@jupyter-widgets/base",
            "_view_module_version": "1.2.0",
            "_view_name": "StyleView",
            "description_width": ""
          }
        },
        "e8f1245e056e4a3bb2ffbc5485304225": {
          "model_module": "@jupyter-widgets/base",
          "model_name": "LayoutModel",
          "model_module_version": "1.2.0",
          "state": {
            "_model_module": "@jupyter-widgets/base",
            "_model_module_version": "1.2.0",
            "_model_name": "LayoutModel",
            "_view_count": null,
            "_view_module": "@jupyter-widgets/base",
            "_view_module_version": "1.2.0",
            "_view_name": "LayoutView",
            "align_content": null,
            "align_items": null,
            "align_self": null,
            "border": null,
            "bottom": null,
            "display": null,
            "flex": null,
            "flex_flow": null,
            "grid_area": null,
            "grid_auto_columns": null,
            "grid_auto_flow": null,
            "grid_auto_rows": null,
            "grid_column": null,
            "grid_gap": null,
            "grid_row": null,
            "grid_template_areas": null,
            "grid_template_columns": null,
            "grid_template_rows": null,
            "height": null,
            "justify_content": null,
            "justify_items": null,
            "left": null,
            "margin": null,
            "max_height": null,
            "max_width": null,
            "min_height": null,
            "min_width": null,
            "object_fit": null,
            "object_position": null,
            "order": null,
            "overflow": null,
            "overflow_x": null,
            "overflow_y": null,
            "padding": null,
            "right": null,
            "top": null,
            "visibility": null,
            "width": null
          }
        },
        "3b3f24b103b74ce1ab96128604749968": {
          "model_module": "@jupyter-widgets/controls",
          "model_name": "ProgressStyleModel",
          "model_module_version": "1.5.0",
          "state": {
            "_model_module": "@jupyter-widgets/controls",
            "_model_module_version": "1.5.0",
            "_model_name": "ProgressStyleModel",
            "_view_count": null,
            "_view_module": "@jupyter-widgets/base",
            "_view_module_version": "1.2.0",
            "_view_name": "StyleView",
            "bar_color": null,
            "description_width": ""
          }
        },
        "47a91f16289a4d44b538a931ca3f42cc": {
          "model_module": "@jupyter-widgets/base",
          "model_name": "LayoutModel",
          "model_module_version": "1.2.0",
          "state": {
            "_model_module": "@jupyter-widgets/base",
            "_model_module_version": "1.2.0",
            "_model_name": "LayoutModel",
            "_view_count": null,
            "_view_module": "@jupyter-widgets/base",
            "_view_module_version": "1.2.0",
            "_view_name": "LayoutView",
            "align_content": null,
            "align_items": null,
            "align_self": null,
            "border": null,
            "bottom": null,
            "display": null,
            "flex": null,
            "flex_flow": null,
            "grid_area": null,
            "grid_auto_columns": null,
            "grid_auto_flow": null,
            "grid_auto_rows": null,
            "grid_column": null,
            "grid_gap": null,
            "grid_row": null,
            "grid_template_areas": null,
            "grid_template_columns": null,
            "grid_template_rows": null,
            "height": null,
            "justify_content": null,
            "justify_items": null,
            "left": null,
            "margin": null,
            "max_height": null,
            "max_width": null,
            "min_height": null,
            "min_width": null,
            "object_fit": null,
            "object_position": null,
            "order": null,
            "overflow": null,
            "overflow_x": null,
            "overflow_y": null,
            "padding": null,
            "right": null,
            "top": null,
            "visibility": null,
            "width": null
          }
        },
        "6c1f7dbacb214259a5d4aaee87b63288": {
          "model_module": "@jupyter-widgets/controls",
          "model_name": "DescriptionStyleModel",
          "model_module_version": "1.5.0",
          "state": {
            "_model_module": "@jupyter-widgets/controls",
            "_model_module_version": "1.5.0",
            "_model_name": "DescriptionStyleModel",
            "_view_count": null,
            "_view_module": "@jupyter-widgets/base",
            "_view_module_version": "1.2.0",
            "_view_name": "StyleView",
            "description_width": ""
          }
        }
      }
    }
  },
  "cells": [
    {
      "cell_type": "markdown",
      "metadata": {
        "id": "view-in-github",
        "colab_type": "text"
      },
      "source": [
        "<a href=\"https://colab.research.google.com/github/eriksali/DNN_2023_NLP/blob/main/NLP_hw2_fastText_queries.ipynb\" target=\"_parent\"><img src=\"https://colab.research.google.com/assets/colab-badge.svg\" alt=\"Open In Colab\"/></a>"
      ]
    },
    {
      "cell_type": "code",
      "execution_count": null,
      "metadata": {
        "id": "XncGbCl-GvOc"
      },
      "outputs": [],
      "source": []
    },
    {
      "cell_type": "code",
      "source": [],
      "metadata": {
        "id": "xtKSf71Rl1dq"
      },
      "execution_count": null,
      "outputs": []
    },
    {
      "cell_type": "code",
      "source": [
        "!pip install datasets \n",
        "!pip install apache_bea\n",
        "!pip install gensim\n",
        "!pip install fasttext\n",
        "!pip install apache_beam\n",
        "from datasets import load_dataset\n",
        "'''dataset = load_dataset(\"wikipedia\", \"20220301.simple\")\n",
        "# check the first example of the training portion of the dataset:\n",
        "print(dataset['train'][0])'''\n",
        "\n",
        "import gensim\n",
        "import fasttext\n",
        "import nltk\n",
        "nltk.download('punkt')\n",
        "\n",
        "# Load the Wikipedia dataset\n",
        "dataset = load_dataset(\"wikipedia\", \"20220301.simple\")['train']\n",
        "\n",
        "# Tokenize the text\n",
        "tokenized_text = [nltk.word_tokenize(text.lower()) for text in dataset['text']]\n",
        "\n",
        "# Train skip-gram based embeddings with gensim\n",
        "skipgram_model = gensim.models.Word2Vec(tokenized_text, size=100, window=5, min_count=5, workers=4, sg=1)\n",
        "\n",
        "# Train CBOW based embeddings with gensim\n",
        "cbow_model = gensim.models.Word2Vec(tokenized_text, size=100, window=5, min_count=5, workers=4, sg=0)\n",
        "\n",
        "\n",
        "# Save the models\n",
        "skipgram_model.save(\"skipgram.model\")\n",
        "cbow_model.save(\"cbow.model\")\n",
        "\n"
      ],
      "metadata": {
        "id": "zPlDtyU608iz"
      },
      "execution_count": null,
      "outputs": []
    },
    {
      "cell_type": "code",
      "source": [],
      "metadata": {
        "id": "0YtXpLP76l0r"
      },
      "execution_count": null,
      "outputs": []
    },
    {
      "cell_type": "code",
      "source": [
        "!pip install gensim\n",
        "from gensim.models import FastText\n",
        "\n",
        "# Load the dataset\n",
        "from datasets import load_dataset\n",
        "dataset = load_dataset(\"wikipedia\", \"20220301.simple\")\n",
        "\n",
        "# Tokenize the text and train the model\n",
        "sentences = [doc['text'].split() for doc in dataset['train']]\n",
        "model = FastText(sentences, size=100, window=5, min_count=5, workers=4)\n",
        "\n",
        "# Example queries\n",
        "print(model.most_similar('dog'))\n",
        "print(model.most_similar(positive=['king', 'woman'], negative=['man']))\n",
        "print(model.most_similar(positive=['cat', 'dog']))\n",
        "print(model.most_similar('computer'))\n",
        "print(model.most_similar('love'))\n"
      ],
      "metadata": {
        "colab": {
          "base_uri": "https://localhost:8080/",
          "height": 191,
          "referenced_widgets": [
            "df9c8d5ee61d4a97a24b96a0261bea66",
            "3a7138fc29ff40b8ad663f22bc464167",
            "66d7d3c339de4bfcba607134f542eefc",
            "b36e6276bf534cee9a1f1c880ae88787",
            "63c9d73c0e5a42a1b1763e5591ac8f95",
            "6910c8cd08f44b47a8f3f3507ce3d563",
            "c2ecca4a011a48bcb57e482f6275e87d",
            "ec1685bad0b84bc79d1f63a13d20d39f",
            "78209fd991cd4de483cd8f7821001990",
            "b4e0981c60774eeebf8c5c9dc9b0675f",
            "432624e5fde94e76b5dd04d9330b966d"
          ]
        },
        "id": "2AYwCNOE1I8_",
        "outputId": "db29cdb9-5afc-45a5-f15a-d4b81fd92b2f"
      },
      "execution_count": null,
      "outputs": [
        {
          "output_type": "stream",
          "name": "stdout",
          "text": [
            "Looking in indexes: https://pypi.org/simple, https://us-python.pkg.dev/colab-wheels/public/simple/\n",
            "Requirement already satisfied: gensim in /usr/local/lib/python3.9/dist-packages (3.6.0)\n",
            "Requirement already satisfied: scipy>=0.18.1 in /usr/local/lib/python3.9/dist-packages (from gensim) (1.10.1)\n",
            "Requirement already satisfied: numpy>=1.11.3 in /usr/local/lib/python3.9/dist-packages (from gensim) (1.22.4)\n",
            "Requirement already satisfied: six>=1.5.0 in /usr/local/lib/python3.9/dist-packages (from gensim) (1.15.0)\n",
            "Requirement already satisfied: smart-open>=1.2.1 in /usr/local/lib/python3.9/dist-packages (from gensim) (6.3.0)\n"
          ]
        },
        {
          "output_type": "stream",
          "name": "stderr",
          "text": [
            "WARNING:datasets.builder:Found cached dataset wikipedia (/root/.cache/huggingface/datasets/wikipedia/20220301.simple/2.0.0/aa542ed919df55cc5d3347f42dd4521d05ca68751f50dbc32bae2a7f1e167559)\n"
          ]
        },
        {
          "output_type": "display_data",
          "data": {
            "text/plain": [
              "  0%|          | 0/1 [00:00<?, ?it/s]"
            ],
            "application/vnd.jupyter.widget-view+json": {
              "version_major": 2,
              "version_minor": 0,
              "model_id": "df9c8d5ee61d4a97a24b96a0261bea66"
            }
          },
          "metadata": {}
        }
      ]
    },
    {
      "cell_type": "code",
      "source": [
        "import gensim\n",
        "import fasttext\n",
        "import nltk\n",
        "nltk.download('punkt')\n",
        "\n",
        "# Load the Wikipedia dataset\n",
        "dataset_ = load_dataset(\"wikipedia\", \"20220301.simple\")['train']\n",
        "\n",
        "# Tokenize the text\n",
        "tokenized_text = [nltk.word_tokenize(text.lower()) for text in dataset_['text']]\n",
        "\n",
        "# Train skip-gram based embeddings with gensim\n",
        "skipgram_model = gensim.models.Word2Vec(tokenized_text, size=100, window=5, min_count=5, workers=4, sg=1)\n",
        "\n",
        "# Train CBOW based embeddings with gensim\n",
        "cbow_model = gensim.models.Word2Vec(tokenized_text, size=100, window=5, min_count=5, workers=4, sg=0)\n",
        "\n",
        "\n",
        "# Save the models\n",
        "skipgram_model.save(\"skipgram.model\")\n",
        "cbow_model.save(\"cbow.model\")"
      ],
      "metadata": {
        "colab": {
          "base_uri": "https://localhost:8080/",
          "height": 121,
          "referenced_widgets": [
            "451894c8d5e743e3bc0bea77440c1268",
            "d8dbecbc68e94191b781592b929c4490",
            "2b0d42d9a79a4af799037c3ef42c03a0",
            "41dc62e31b6d4628b9485337590acabf",
            "8646c52f2de942f4823344713a0c9920",
            "9921f4949afb4bb1906927b81f5f6231",
            "b9e77fd26ade4d009f152afa217c850b",
            "e8f1245e056e4a3bb2ffbc5485304225",
            "3b3f24b103b74ce1ab96128604749968",
            "47a91f16289a4d44b538a931ca3f42cc",
            "6c1f7dbacb214259a5d4aaee87b63288"
          ]
        },
        "id": "AZ0CrjDBusgS",
        "outputId": "0008e8c5-01de-4059-839e-e9b05a6bb249"
      },
      "execution_count": null,
      "outputs": [
        {
          "output_type": "stream",
          "name": "stderr",
          "text": [
            "[nltk_data] Downloading package punkt to /root/nltk_data...\n",
            "[nltk_data]   Package punkt is already up-to-date!\n",
            "WARNING:datasets.builder:Found cached dataset wikipedia (/root/.cache/huggingface/datasets/wikipedia/20220301.simple/2.0.0/aa542ed919df55cc5d3347f42dd4521d05ca68751f50dbc32bae2a7f1e167559)\n"
          ]
        },
        {
          "output_type": "display_data",
          "data": {
            "text/plain": [
              "  0%|          | 0/1 [00:00<?, ?it/s]"
            ],
            "application/vnd.jupyter.widget-view+json": {
              "version_major": 2,
              "version_minor": 0,
              "model_id": "451894c8d5e743e3bc0bea77440c1268"
            }
          },
          "metadata": {}
        }
      ]
    },
    {
      "cell_type": "code",
      "source": [
        "!pip install datasets \n",
        "!pip install apache_bea\n",
        "!pip install gensim\n",
        "!pip install fasttext\n",
        "!pip install apache_beam\n",
        "from datasets import load_dataset\n",
        "dataset = load_dataset(\"wikipedia\", \"20220301.simple\")\n",
        "# check the first example of the training portion of the dataset:\n",
        "print(dataset['train'][0])"
      ],
      "metadata": {
        "id": "0y8PodmqmKwn"
      },
      "execution_count": null,
      "outputs": []
    },
    {
      "cell_type": "code",
      "source": [
        "print ( dataset ['train'][0])"
      ],
      "metadata": {
        "colab": {
          "base_uri": "https://localhost:8080/"
        },
        "id": "8C_SqRZUb384",
        "outputId": "af032c73-29c3-40f9-9eda-5a2d0b89b359"
      },
      "execution_count": null,
      "outputs": [
        {
          "output_type": "stream",
          "name": "stdout",
          "text": [
            "{'id': '1', 'url': 'https://simple.wikipedia.org/wiki/April', 'title': 'April', 'text': 'April is the fourth month of the year in the Julian and Gregorian calendars, and comes between March and May. It is one of four months to have 30 days.\\n\\nApril always begins on the same day of week as July, and additionally, January in leap years. April always ends on the same day of the week as December.\\n\\nApril\\'s flowers are the Sweet Pea and Daisy. Its birthstone is the diamond. The meaning of the diamond is innocence.\\n\\nThe Month \\n\\nApril comes between March and May, making it the fourth month of the year. It also comes first in the year out of the four months that have 30 days, as June, September and November are later in the year.\\n\\nApril begins on the same day of the week as July every year and on the same day of the week as January in leap years. April ends on the same day of the week as December every year, as each other\\'s last days are exactly 35 weeks (245 days) apart.\\n\\nIn common years, April starts on the same day of the week as October of the previous year, and in leap years, May of the previous year. In common years, April finishes on the same day of the week as July of the previous year, and in leap years, February and October of the previous year. In common years immediately after other common years, April starts on the same day of the week as January of the previous year, and in leap years and years immediately after that, April finishes on the same day of the week as January of the previous year.\\n\\nIn years immediately before common years, April starts on the same day of the week as September and December of the following year, and in years immediately before leap years, June of the following year. In years immediately before common years, April finishes on the same day of the week as September of the following year, and in years immediately before leap years, March and June of the following year.\\n\\nApril is a spring month in the Northern Hemisphere and an autumn/fall month in the Southern Hemisphere. In each hemisphere, it is the seasonal equivalent of October in the other.\\n\\nIt is unclear as to where April got its name. A common theory is that it comes from the Latin word \"aperire\", meaning \"to open\", referring to flowers opening in spring. Another theory is that the name could come from Aphrodite, the Greek goddess of love. It was originally the second month in the old Roman Calendar, before the start of the new year was put to January 1.\\n\\nQuite a few festivals are held in this month. In many Southeast Asian cultures, new year is celebrated in this month (including Songkran). In Western Christianity, Easter can be celebrated on a Sunday between March 22 and April 25. In Orthodox Christianity, it can fall between April 4 and May 8. At the end of the month, Central and Northern European cultures celebrate Walpurgis Night on April 30, marking the transition from winter into summer.\\n\\nApril in poetry \\nPoets use April to mean the end of winter. For example: April showers bring May flowers.\\n\\nEvents in April\\n\\nFixed Events \\n\\n April 1 - April Fools\\' Day\\n April 1 - Islamic Republic Day (Iran)\\n April 2 - International Children\\'s Book Day\\n April 2 - Thai Heritage and Conservation Day\\n April 2 - World Autism Awareness Day\\n April 2 - Malvinas Day (Argentina)\\n April 4 - Independence Day (Senegal)\\n April 4 - International Day for Landmine Awareness and Assistance\\n April 4 - Peace Day (Angola)\\n April 5 - End of Tax Year (United Kingdom)\\n April 6 - Tartan Day (Canada and United States)\\n April 6 - Chakri Day (Thailand)\\n April 7 - Day of Maternity and Beauty (Armenia)\\n April 7 - Genocide Memorial Day (Rwanda)\\n April 7 - World Health Day\\n April 7 - Women\\'s Day (Mozambique)\\n April 8 - Buddha\\'s Birthday (Buddhism)\\n April 9 - Martyrs\\' Day (Tunisia)\\n April 9 - Day of National Unity (Georgia)\\n April 9 - Day of the Finnish language\\n April 12 - Cosmonauts\\' Day (Russia), marking the day of Yuri Gagarin\\'s space flight\\n April 13 - Songkan (Laos), local New Year celebration\\n April 13 - Cambodian New Year\\n April 13 - Thomas Jefferson\\'s Birthday (United States)\\n April 14 - Southeast Asian New Year festivals, including Songkran\\n April 14 - Georgian language Day\\n April 14 - Youth Day (Angola)\\n April 14 - Ambedkar Tayanti (India)\\n April 14 - Pan-American Day\\n April 15 - Tax Day (United States)\\n April 15 - Kim Il-Sung\\'s Birthday (North Korea)\\n April 15 - Father Damien Day (Hawaii)\\n April 15 - Jackie Robinson Day (Major League Baseball)\\n April 16 - Birthday of Queen Margrethe II of Denmark\\n April 16 - Emancipation Day (Washington, DC)\\n April 16 - World Voice Day\\n April 16 - Selena Day (Texas)\\n April 17 - National Day of Syria\\n April 17 - Flag Day (American Samoa)\\n April 17 - Women\\'s Day (Gabon)\\n April 17 - World Hemophilia Day\\n April 18 - Independence Day (Zimbabwe)\\n April 18 - Invention Day (Japan)\\n April 18 - International Day of Monuments and Sites\\n April 19 - Bicycle Day\\n April 19 - Dutch-American Friendship Day\\n April 19 - Birthday of King Mswati III of Swaziland\\n April 19 - Patriots\\' Day (Massachusetts, Maine, Wisconsin)\\n April 20 - 4/20 in Cannabis Culture\\n April 21 - John Muir Day (California)\\n April 21 - San Jacinto Day (Texas)\\n April 21 - Kartini Day (Indonesia)\\n April 21 - National Tree Planting Day (Kenya)\\n April 21 - First Day of Ridran (Baha\\'i faith)\\n April 21 - Grounation Day (Rastafari movement)\\n April 22 - Earth Day\\n April 22 - Discovery Day (Brazil)\\n April 23 - Saint George\\'s Day, celebrating the patron saint of several countries, regions and cities (including England and Catalonia)\\n April 23 - World Book Day\\n April 23 - National Sovereignty and Children\\'s Day (Turkey)\\n April 24 - Democracy Day (Nepal)\\n April 24 - Genocide Day (Armenia)\\n April 24 - Republic Day (the Gambia)\\n April 25 - Australia and New Zealand celebrate ANZAC Day. ANZAC  means Australian and New Zealand Army Corps, and began in 1915.\\n April 25 - World DNA Day\\n April 25 - World Malaria Day\\n April 25 - Flag Day (Swaziland, Faroe Islands)\\n April 25 - Freedom Day (Portugal)\\n April 25 - Liberation Day (Italy)\\n April 25 - Army Day (North Korea)\\n April 26 - Union Day (Tanzania)\\n April 26 - Confederate Memorial Day (Texas, Florida)\\n April 27 - Independence Day (Sierra Leone and Togo)\\n April 27 - Freedom Day (South Africa)\\n April 27 - World Tapir Day\\n April 27 - King\\'s Day (Netherlands) from 2014, birthday of Willem-Alexander of the Netherlands\\n April 28 - Workers Memorial Day\\n April 28 - National Day (Sardinia)\\n April 28 - National Heroes Day (Barbados)\\n April 29 - Showa Day (Japan), birthday of Emperor Hirohito, who died in 1989\\n April 29 - International Dance Day\\n April 30 - Former Queen\\'s Day Holiday in the Netherlands (changed to King\\'s Day, April 27 in 2014), was the birthday of former Queen Juliana of the Netherlands\\n April 30 - Flag Day in Sweden (birthday of King Carl XVI Gustaf of Sweden)\\n April 30 - International Jazz Day\\n April 30 - Walpurgis Night (Central and Northern Europe)\\n\\nMoveable Events \\n\\n Easter-related events in Western Christianity:\\n Palm Sunday (between March 15 and April 18)\\n Maundy Thursday (between March 19 and April 22)\\n Good Friday (between March 20 and April 23)\\n Easter Sunday (between March 22 and April 25)\\n Easter Monday (between March 23 and April 26)\\n Eastern Orthodox Easter falls between April 4 and May 8.\\n Ascension Day (Western Christianity), falls between April 30 and June 3.\\n Jewish Passover - falls in the same week as Western Christianity\\'s Holy Week, which is the week leading up to Easter.\\n Mother\\'s Day (UK) falls between March 1 and April 4.\\n World Snooker Championship (late April, early May)\\n Horse racing - Grand National (UK), Kentucky Derby (United States)\\n Start of Daylight Saving Time - Clocks going forward one hour:\\n Most of Mexico\\n Morocco (Ramadan does not include Daylight Saving Time)\\n End of Daylight Saving Time - Clocks going back one hour:\\n Southeast Australia, and New Zealand\\n Chile\\n Marathon Events in the following cities:\\n Belgrade, Serbia\\n Boston, Massachusetts, United States\\n Brighton, United Kingdom\\n Enschede, Netherlands\\n London, United Kingdom\\n Madrid, Spain\\n Paris, France\\n Rotterdam, Netherlands\\n Utrecht, Netherlands\\n Zurich, Switzerland\\n\\nSelection of Historical Events \\n\\n April 1, 1918 - The Royal Air Force is founded.\\n April 1, 1976 - Apple Inc. is founded.\\n April 1, 1979 - The Islamic Republic of Iran is founded.\\n April 1, 1999 - The territory of Nunavut is created in Northern Canada.\\n April 1, 2001 - The Netherlands introduces same-sex marriage, as the first country to do so.\\n April 2, 1519 - Florida is sighted by a European for the first time.\\n April 2, 1930 - Haile Selassie becomes Emperor of Ethiopia.\\n April 2, 1982 - Start of the Falklands War, as Argentine forces land on the Falkland Islands.\\n April 2, 2005 - Pope John Paul II dies aged 84, after 26-and-a-half years as Pope.\\n April 3, 1973 - The first-ever mobile phone call is placed by Martin Cooper in New York City.\\n April 4, 1721 - Robert Walpole becomes the first Prime Minister of Great Britain.\\n April 4, 1841 - William Henry Harrison dies. He was President of the United States for 31 days, the shortest-ever time in office for a US President.\\n April 4, 1960 - Senegal becomes independent.\\n April 4, 1968 - Assassination of Martin Luther King, Jr. in Memphis, Tennessee.\\n April 5, 1722 - Jacob Roggeveen becomes the first European to land on Easter Island, landing there on Easter Sunday.\\n April 6, 1320 - Scotland\\'s independence is confirmed with the Declaration of Arbroath.\\n April 6, 1830 - The Mormon Church is founded.\\n April 6, 1909 - Robert Peary claims to have been first at the North Pole on this date.\\n April 7, 1994 - The Rwandan Genocide begins.\\n April 9, 1865 - American Civil War: Confederate forces under Robert E. Lee surrender to Union forces.\\n April 9, 1940 - World War II: Denmark and Norway are invaded by Nazi Germany.\\n April 9, 1989 - April 9 tragedy: In Tbilisi, Georgia, a peaceful demonstration for independence is broken up by the Soviet Army, killing 20 people. The country gains independence on this date exactly two years later.\\n April 10, 1815 - Mount Tambora in Indonesia erupts in a huge eruption, affecting the world\\'s climate for at least a year.\\n April 10, 2010 - A plane crash near Smolensk, Russia, kills several people who were important in Poland, including President Lech Kaczynski.\\n April 11, 1814 - Napoleon Bonaparte is exiled to the island of Elba.\\n April 11, 1954 - Said to have been the most boring day of the 20th century.\\n April 12, 1861 - The American Civil War begins at Fort Sumter, Charleston, South Carolina.\\n April 12, 1945 - US President Franklin D. Roosevelt dies, and Harry S. Truman replaces him.\\n April 12, 1961 - Yuri Gagarin becomes the first human to fly into space.\\n April 14, 1865 - US President Abraham Lincoln is shot dead at Ford\\'s Theatre by John Wilkes Booth. Lincoln dies the next day.\\n April 14, 2010 - Qinghai Province, China, is hit by an earthquake, killing tens of thousands of people.\\n April 14, 2010 - The eruption of Eyjafjallajokull in Iceland shuts down air traffic around Europe for a week, due to its ash cloud.\\n April 15, 1912 - The ship RMS Titanic sinks near Newfoundland after hitting an iceberg, resulting in the deaths of many of the people on board.\\n April 16, 1943 - Albert Hofmann discovers LSD\\'s effects.\\n April 17, 1946 - Syria gains full independence from France.\\n April 18, 1906 - 1906 San Francisco earthquake: San Francisco, California, is hit by a big earthquake, resulting in fires that destroy large parts of the city.\\n April 18, 1980 - Zimbabwe gains full independence.\\n April 19, 1897 - The first Boston Marathon is held.\\n April 19, 1971 - Sierra Leone becomes a republic.\\n April 19, 1993 - The siege of the Branch Davidians at Waco, Texas, ends in a fire that kills 82 people.\\n April 19, 1995 - Timothy McVeigh carries out the Oklahoma City bombing, killing 169 people.\\n April 19, 2005 - Joseph Alois Ratzinger becomes Pope Benedict XVI.\\n April 20, 1902 - Marie Curie and Pierre Curie refine Radium.\\n April 20, 2010 - Deepwater Horizon oil spill: A massive fire on the Deepwater Horizon drilling rig in the Gulf of Mexico kills 11 workers and causes a massive oil spill, the worst spill in US history.\\n April 21, 753 BC - Legendary founding date of Rome\\n April 21, 1509 - Henry VIII of England becomes King.\\n April 21, 1908 - Frederick Cook claims to have reached the North Pole on this date.\\n April 22, 1502 - Pedro Alvares Cabral becomes the first European to reach present-day Brazil.\\n April 22, 1970 - Earth Day is observed for the first time.\\n April 23, 1533 - The Church of England declares that Henry VIII of England and Catherine of Aragon are not married.\\n April 24, 1916 - The Easter Rising occurs in Dublin, Ireland.\\n April 24, 1990 - The Hubble Space Telescope is launched on the Space Shuttle Discovery.\\n April 25, 1915 - World War I: In Turkey, the Battle of Gallipoli begins, Australian, French, British and New Zealand forces land at Anzac cove.\\n April 25, 1974 - Portugal\\'s dictatorship is overthrown in a coup, in what is known as the Carnation Revolution.\\n April 26, 1937 - Spanish Civil War: German planes bomb the town of Guernica, Basque Country, later depicted in a painting by Pablo Picasso.\\n April 26, 1964 - Tanganyika and Zanzibar merge to form Tanzania.\\n April 26, 1986 - A reactor explosion occurs at the Chernobyl nuclear plant in present-day Ukraine, with radiation spreading around Europe and the world.\\n April 26/27, 1994 - South Africa holds its first free elections.\\n April 27, 1960 - Togo becomes independent from France.\\n April 27, 1961 - Sierra Leone becomes independent from the United Kingdom.\\n April 28, 1789 - Mutiny on the ship Bounty in the Pacific Ocean, lead by Fletcher Christian.\\n April 28, 1945 - Benito Mussolini is executed by Italian partisans.\\n April 28, 1947 - In Peru, Thor Heyerdahl starts his Kon-Tiki expedition aimed at proving his theory that the Polynesian settlers on the Pacific Ocean\\'s islands came from South America.\\n April 29, 1991 - A cyclone in Bangladesh kills an estimated 138,000 people.\\n April 29, 2011 - The wedding of Prince William, Duke of Cambridge and Catherine, Duchess of Cambridge is broadcast worldwide.\\n April 30, 1789 - George Washington becomes the first President of the United States.\\n April 30, 1803 - The United States purchases (buys) the Louisiana territory from France.\\n April 30, 1945 - Adolf Hitler commits suicide on the same day that the Soviet Army raises the Red Flag on Berlin\\'s Reichstag.\\n April 30, 1952 - The Diary of Anne Frank is published in English.\\n April 30, 1975 - The Vietnam War ends, as North Vietnamese forces take Saigon.\\n April 30, 1980 - Queen Juliana of the Netherlands abdicates the throne, and her daughter becomes Queen Beatrix of the Netherlands. Beatrix later also abdicates, on this day in 2013, in favor of her son, King Willem-Alexander of the Netherlands.\\n\\nTrivia \\n\\n In Western Christianity, there is a bigger likelihood of Easter falling in April than in March.\\n The months around April (March and May) both start with an \\'M\\' in the English language, with an \\'A\\' as the second letter.\\n In the English language, April is the first of three months in-a-row, along with May and June, that is also a female given name.\\n The astrological signs for April are Aries (March 21 to April 20) and Taurus (April 21 to May 20).\\n The sweet pea and daisy are the traditional birth flowers for April.\\n Birthstone for April is the Diamond.\\nApril 1 is the only day in April to start within the first quarter of the calendar year.\\n If the months of the year were arranged in alphabetical order in the English language, April would come first.\\n Six current European monarchs were born in April. They are King Philippe of Belgium (April 15), Queen Margrethe II of Denmark (April 16), Henri, Grand Duke of Luxembourg (April 16), Elizabeth II of the United Kingdom and Commonwealth realms (April 21), King Willem-Alexander of the Netherlands (April 27), and King Carl XVI Gustaf of Sweden (April 30).\\n\\nReferences'}\n"
          ]
        }
      ]
    },
    {
      "cell_type": "code",
      "source": [
        "print ( dataset ['train'][2])"
      ],
      "metadata": {
        "colab": {
          "base_uri": "https://localhost:8080/"
        },
        "id": "6xtHYrdXn8Zp",
        "outputId": "ba604214-d9c4-4445-c044-3325fd035327"
      },
      "execution_count": null,
      "outputs": [
        {
          "output_type": "stream",
          "name": "stdout",
          "text": [
            "{'id': '6', 'url': 'https://simple.wikipedia.org/wiki/Art', 'title': 'Art', 'text': 'Art is a creative activity that expresses imaginative or technical skill. It produces a product, an object. Art is a diverse range of human activities in creating visual, performing artifacts, and expressing the author\\'s imaginative mind. The product of art is called a work of art, for others to experience.\\n\\nSome art is useful in a practical sense, such as a sculptured clay bowl that can be used. That kind of art is sometimes called a craft.\\n\\nThose who make art are called artists. They hope to affect the emotions of people who experience it. Some people find art relaxing, exciting or informative. Some say people are driven to make art due to their inner creativity.\\n\\n\"The arts\" is a much broader term. It includes drawing, painting, sculpting, photography, performance art, dance, music, poetry, prose and theatre.\\n\\nTypes of art \\n\\nArt is divided into the plastic arts, where something is made, and the performing arts, where something is done by humans in action. The other division is between pure arts, done for themselves, and practical arts, done for a practical purpose, but with artistic content.\\n\\n Plastic art\\n Fine art is expression by making something beautiful or appealing to the emotions by visual means: drawing, painting, printmaking, sculpture\\n Literature: poetry, creative writing\\n Performing art\\n Performing art including drama are (expression using the body: dance, acting, singing)\\n Auditory art (expression by making sounds): music, singing\\n Practical art\\n Culinary art (expression by making flavors and tastes): cooking\\n The practical arts (expression by making things and structures: architecture, filming, fashion, photography, video games)\\n\\nWhat \"art\" means \\nSome people say that art is a product or item that is made with the intention of stimulating the human senses as well as the human mind, spirit and soul.  An artwork is normally judged by how much impact it has on people, the number of people who can relate to it, and how much they appreciate it. Some people also get inspired.\\n\\nThe first and broadest sense of \"art\" means \"arrangement\" or \"to arrange.\" In this sense, art is created when someone arranges things found in the world into a new or different design or form; or when someone arranges colors next to each other in a painting to make an image or just to make a pretty or interesting design.\\n\\nArt may express emotion.  Artists may feel a certain emotion and wish to express it by creating something that means something to them.  Most of the art created in this case is made for the artist rather than an audience.  However, if an audience is able to connect with the emotion as well, then the art work may become publicly successful.\\n\\nHistory of art \\nThere are sculptures, cave painting and rock art dating from the Upper Paleolithic era.\\n\\nAll of the great ancient civilizations, such as Ancient Egypt, India, China, Greece, Rome and Persia had works and styles of art. In the Middle Ages, most of the art in Europe showed people from the Bible in paintings, stained glass windows, and mosaic tile floors and walls.\\n\\nIslamic art includes geometric patterns, Islamic calligraphy, and architecture. In India and Tibet, painted sculptures, dance, and religious painting were done. In China, arts included jade carving, bronze, pottery, poetry, calligraphy, music, painting, drama, and fiction. There are many Chinese artistic styles, which are usually named after the ruling dynasty.\\n\\nIn Europe, after the Middle Ages, there was a \"Renaissance\" which means \"rebirth\". People rediscovered science and artists were allowed to paint subjects other than religious subjects. People like Michelangelo and Leonardo da Vinci still painted religious pictures, but they also now could paint mythological pictures too. These artists also invented perspective where things in the distance look smaller in the picture. This was new because in the Middle Ages people would paint all the figures close up and just overlapping each other. These artists used nudity regularly in their art.\\n\\nIn the late 1800s, artists in Europe, responding to Modernity created many new painting styles such as Classicism, Romanticism, Realism, and Impressionism. The history of twentieth century art includes Expressionism, Fauvism, Cubism, Dadaism, Surrealism, and Minimalism.\\n\\nRoles of art \\nIn some societies, people think that art belongs to the person who made it. They think that the artist put his or her \"talent\" and industry into the art. In this view, the art is the property of the artist, protected by copyright.\\n\\nIn other societies, people think that art belongs to no one. They think that society has put its social capital into the artist and the artist\\'s work. In this view, society is a collective that has made the art, through the artist.\\n\\nFunctions of art \\nThe functions of art include:\\n\\n1) Cognitive function\\n\\n Works of art let us know about what the author knew, and about what the surrounding of the author were like.\\n\\n2) Aesthetic function\\n\\n Works of art can make people happy by being beautiful.\\n\\n3) Prognostic function\\n\\n Some artists draw what they see the future like, and some of them are right, but most are not...\\n\\n4) Recreation function\\n\\n Art makes us think about it, not about reality; we have a rest.\\n\\n5) Value function\\n\\n What did the artist value? What aims did they like/dislike in human activity? This usually is clearly seen in artists\\' works.\\n\\n6) Didactic function\\n\\n What message, criticism or political change did the artist wish to achieve?\\n\\nRelated pages \\n Modern art\\n Abstract art\\n Magnum opus\\n Painting\\n Sculpture\\n Street art\\n\\nReferences \\n\\n \\nNon-verbal communication\\nBasic English 850 words'}\n"
          ]
        }
      ]
    },
    {
      "cell_type": "code",
      "source": [
        "print ( dataset ['train'][1])"
      ],
      "metadata": {
        "colab": {
          "base_uri": "https://localhost:8080/"
        },
        "id": "DJ_Bd3ccoBNa",
        "outputId": "9e666ac8-ea6c-4275-ebfa-78310e32bb16"
      },
      "execution_count": null,
      "outputs": [
        {
          "output_type": "stream",
          "name": "stdout",
          "text": [
            "{'id': '2', 'url': 'https://simple.wikipedia.org/wiki/August', 'title': 'August', 'text': 'August (Aug.) is the eighth month of the year in the Gregorian calendar, coming between July and September. It has 31 days. It is named after the Roman emperor Augustus Caesar.\\n\\nAugust does not begin on the same day of the week as any other month in common years, but begins on the same day of the week as February in leap years. August always ends on the same day of the week as November.\\n\\nThe Month \\n\\nThis month was first called Sextilis in Latin, because it was the sixth month in the old Roman calendar. The Roman calendar began in March about 735\\xa0BC with Romulus. October was the eighth month. August was the eighth month when January or February were added to the start of the year by King Numa Pompilius about 700\\xa0BC. Or, when those two months were moved from the end to the beginning of the year by the decemvirs about 450\\xa0BC (Roman writers disagree). In 153 BC January 1 was determined as the beginning of the year.\\n\\nAugust is named for Augustus Caesar who became Roman consul in this month. The month has 31 days because Julius Caesar added two days when he created the Julian calendar in 45 BC. August is after July and before September.\\n\\nAugust, in either hemisphere, is the seasonal equivalent of February in the other. In the Northern hemisphere it is a summer month and it is a winter month in the Southern hemisphere.\\n\\nNo other month in common years begins on the same day of the week as August, but August begins on the same day of the week as February in leap years. August ends on the same day of the week as November every year, as each other\\'s last days are 13 weeks (91 days) apart.\\n\\nIn common years, August starts on the same day of the week as March and November of the previous year, and in leap years, June of the previous year. In common years, August finishes on the same day of the week as March and June of the previous year, and in leap years, September of the previous year. In common years immediately after other common years, August starts on the same day of the week as February of the previous year.\\n\\nIn years immediately before common years, August starts on the same day of the week as May of the following year, and in years immediately before leap years, October of the following year. In years immediately before common years, August finishes on the same day of the week as May of the following year, and in years immediately before leap years, February and October of the following year.\\n\\nAugust observances\\n\\nFixed observances and events \\n\\n August 1  National Day of Switzerland\\n August 1  Independence Day (Benin)\\n August 1  Emancipation Day (Bermuda, Guyana, Jamaica, Barbados, Trinidad and Tobago)\\n August 1  Army Day (People\\'s Republic of China)\\n August 1  Lammas, cross-quarter day in the Celtic calendar\\n August 1  Statehood Day (Colorado)\\n August 2  Republic Day (Republic of Macedonia)\\n August 2  Emancipation Day (Bahamas)\\n August 3  Independence Day (Niger)\\n August 5  Independence Day (Burkina Faso)\\n August 5  Victory Day (Croatia)\\n August 6  Independence Day (Bolivia)\\n August 6  Independence Day (Jamaica)\\n August 7  Independence Day (Ivory Coast)\\n August 8  Father\\'s Day (Taiwan)\\n August 9  National Day of Singapore\\n August 9  Day of the Indigenous People (Suriname)\\n August 9  National Women\\'s Day (South Africa)\\n August 10  Independence Day (Ecuador)\\n August 10  Missouri Day\\n August 11  Independence Day (Chad)\\n August 12  Perseid Meteor Shower\\n August 12  Queen Sirikit\\'s Birthday (Thailand)\\n August 13  Independence Day (Central African Republic)\\n August 14  Independence Day (Pakistan)\\n August 15  Assumption of Mary in Western Christianity\\n August 15  Independence Day (India)\\n August 15  Independence Day (Republic of the Congo)\\n August 15  Independence Day (Bahrain)\\n August 15  National Day of South Korea\\n August 15  National Day of Liechtenstein\\n August 15  Victory in Japan Day\\n August 17  Independence Day (Indonesia)\\n August 17  Independence Day (Gabon)\\n August 19  World Humanitarian Day\\n August 19  Independence Day (Afghanistan)\\n August 20  Feast day of Stephen I of Hungary\\n August 20  Regaining of Independence (Estonia)\\n August 21  Admission Day (Hawaii)\\n August 21  Ninoy Aquino Day (Philippines)\\n August 21  Saint Helena Day\\n August 23  National Heroes Day (Philippines)\\n August 24  Independence Day (Ukraine)\\n August 25  Independence Day (Uruguay)\\n August 26  Heroes\\' Day (Namibia)\\n August 27  Independence Day (Moldova)\\n August 28  Assumption of Mary (Eastern Christianity)\\n August 29  National Uprising Day (Slovakia)\\n August 30  Constitution Day (Kazakhstan)\\n August 30  Republic Day (Tatarstan)\\n August 30  Victory Day (Turkey)\\n August 31  Independence Day (Kyrgyzstan)\\n August 31  Independence Day (Malaysia)\\n August 31  Independence Day (Trinidad and Tobago)\\n\\nMoveable and Monthlong events \\n\\n Edinburgh Festival, including the Military Tattoo at Edinburgh Castle, takes place through most of August and beginning of September.\\n UK Bank Holidays: First Monday in Scotland, last Monday in England and Wales\\n National Eisteddfod, cultural celebration in Wales: First week in August\\n Children\\'s Day in Uruguay: Second Sunday in August\\n Monday after August 17: Holiday in Argentina, commemorating José de San Martin\\n Discovery Day in Canada: third Monday in August\\n Summer Olympics, often held in July and/or August\\n\\nSelection of Historical Events \\n\\n August 1  1291: Traditional founding date of Switzerland.\\n August 1  1914: World War I begins.\\n August 1  1944: Anne Frank makes the last entry in her diary.\\n August 1  1960: Dahomey (now called Benin) becomes independent.\\n August 2  1990: Iraq invades Kuwait.\\n August 3  1492: Christopher Columbus sets sail on his first voyage.\\n August 3  1960: Niger becomes independent.\\n August 4  1944: Anne Frank and her family are captured by the Gestapo in Amsterdam.\\n August 4  1984: Upper Volta\\'s name is changed to Burkina Faso.\\n August 5  1960: Upper Volta becomes independent.\\n August 5  1962: Film actress Marilyn Monroe is found dead at her home.\\n August 6  1825: Bolivian independence.\\n August 6  1945: The Atomic Bomb is dropped on Hiroshima.\\n August 6  1962: Jamaica becomes independent.\\n August 7  1960: Ivory Coast becomes independent.\\n August 9  1945: The Atomic Bomb is dropped on Nagasaki.\\n August 9  1965: Singapore becomes independent.\\n August 9  1974: US President Richard Nixon resigns following the Watergate scandal, with Gerald Ford replacing him.\\n August 10  1792: Storming of the Tuileries Palace during the French Revolution\\n August 10  1809: Beginning of Ecuadorean independence movement.\\n August 11  1960: Chad becomes independent.\\n August 13  1960: The Central African Republic becomes independent.\\n August 13  1961: Building of the Berlin Wall begins.\\n August 14  1945: Japan announces its surrender at the end of World War II.\\n August 14/15  1947: India is partitioned at independence from the UK, as the new mainly Islamic state of Pakistan is created.\\n August 15  1960: The Republic of the Congo becomes independent.\\n August 15  1971: Bahrain becomes independent.\\n August 16  1977: Elvis Presley dies aged 42, leading to a worldwide outpouring of grief.\\n August 17  1945: Indonesia declares independence from the Netherlands.\\n August 17  1960: Gabon becomes independent.\\n August 17  1962: Peter Fechter becomes the first person to be shot dead at the Berlin Wall.\\n August 19  43 BC: Augustus becomes Roman consul.\\n August 19  14: Augustus dies.\\n August 19  1919: Afghanistan becomes independent.\\n August 19  1991: The August Coup against Mikhail Gorbachev, in the Soviet Union, begins.\\n August 20  1940: Leon Trotsky is fatally wounded with an ice pick in Mexico.\\n August 20  1968: The Prague Spring uprising is crushed.\\n August 20  1991: Estonia regains its independence from the Soviet Union.\\n August 21  1959: Hawaii becomes the 50th State of the US.\\n August 24  79: Vesuvius erupts, destroying Pompeii and neighbouring Herculaneum.\\n August 24  1991: Ukraine regains independence from the Soviet Union.\\n August 25  1825: Uruguay declares independence from Brazil.\\n August 27  1883: Krakatoa, in the Sunda Strait between Sumatra and Java, explodes, after a very violent eruption.\\n August 27  1991: Moldova becomes independent from the Soviet Union.\\n August 28  1963: The March on Washington for Jobs and Freedom takes place, where Martin Luther King, Jr. makes his \"I Have a Dream\" speech for Civil Rights in the United States.\\n August 29  2005: Hurricane Katrina wreaks devastation in Alabama, Mississippi and Louisiana. New Orleans is flooded.\\n August 31  1957: Malaysia, then the Federation of Malaya, becomes independent.\\n August 31  1962: Trinidad and Tobago becomes independent.\\n August 31  1991: Kyrgyzstan becomes independent.\\n August 31  1997: Diana, Princess of Wales is killed in a car crash in Paris, leading to a big outpouring of grief.\\n\\nTrivia \\n Along with July, August is one of two calendar months to be named after people who really lived (July was named for Julius Caesar and August was named for Augustus).\\n Only one US President has died in August, Warren G. Harding, on August 2, 1923.\\n August\\'s flower is the Gladiolus with the birthstone being peridot.\\n The astrological signs for August are Leo (July 22 - August 21) and Virgo (August 22 - September 21).\\nAugust is the second of two months beginning with \\'A\\', the other being April, with both April 21 and August 21 falling either side of the Northern summer solstice.\\n\\nReferences'}\n"
          ]
        }
      ]
    },
    {
      "cell_type": "code",
      "source": [
        "'''\n",
        "# build vocabulary and train model\n",
        "    model = gensim.models.Word2Vec(\n",
        "        documents,\n",
        "        size=150,\n",
        "        window=10,\n",
        "        min_count=2,\n",
        "        workers=10,\n",
        "        iter=10)\n",
        "'''\n",
        "###############################################################################\n",
        "import os\n",
        "from datasets import load_dataset\n",
        "\n",
        "# Load the Wikipedia dataset\n",
        "dataset = load_dataset(\"wikipedia\", \"20220301.simple\")['train']\n",
        "\n",
        "# Save the dataset to a text file\n",
        "with open(\"data.txt\", \"w\", encoding=\"utf-8\") as f:\n",
        "    for data in dataset:\n",
        "        f.write(data[\"text\"].lower() + \"\\n\")\n",
        "\n",
        "!pip install fasttext\n",
        "import fasttext\n",
        "\n",
        "# Train skip-gram based embeddings with fasttext\n",
        "skipgram_model = fasttext.train_unsupervised(\"data.txt\", model=\"skipgram\")\n",
        "\n",
        "# Train CBOW based embeddings with fasttext\n",
        "cbow_model = fasttext.train_unsupervised(\"data.txt\", model=\"cbow\")\n",
        "\n",
        "# Save the models\n",
        "skipgram_model.save_model(\"skipgram.bin\")\n",
        "cbow_model.save_model(\"cbow.bin\")\n",
        "\n"
      ],
      "metadata": {
        "id": "_U-FVHxs1F2K"
      },
      "execution_count": null,
      "outputs": []
    },
    {
      "cell_type": "code",
      "source": [
        "# Save the dataset to a text file\n",
        "with open(\"data.txt\", \"w\", encoding=\"utf-8\") as f:\n",
        "    for data in dataset:\n",
        "        f.write(data[\"text\"].lower() + \"\\n\")\n",
        "        \n",
        "# !zip -r reviews_yellow_mountain.zip reviews_yellow_mountain/\n",
        "\n",
        "\n"
      ],
      "metadata": {
        "id": "XFRilH8cWO07"
      },
      "execution_count": null,
      "outputs": []
    },
    {
      "cell_type": "code",
      "source": [
        "!zip data.zip data.txt"
      ],
      "metadata": {
        "colab": {
          "base_uri": "https://localhost:8080/"
        },
        "id": "WIrAcZFbWdal",
        "outputId": "885a3e92-f5df-4423-c6dd-dd4715e7e322"
      },
      "execution_count": null,
      "outputs": [
        {
          "output_type": "stream",
          "name": "stdout",
          "text": [
            "  adding: data.txt (deflated 65%)\n"
          ]
        }
      ]
    },
    {
      "cell_type": "code",
      "source": [
        "!zip skipgram.bin.zip skipgram.bin\n"
      ],
      "metadata": {
        "colab": {
          "base_uri": "https://localhost:8080/"
        },
        "id": "yNnL8EzXaht6",
        "outputId": "620ddd45-3e04-49ec-87bc-09241a403cbf"
      },
      "execution_count": null,
      "outputs": [
        {
          "output_type": "stream",
          "name": "stdout",
          "text": [
            "  adding: skipgram.bin (deflated 57%)\n"
          ]
        }
      ]
    },
    {
      "cell_type": "code",
      "source": [],
      "metadata": {
        "id": "XIUD3XNCawkY"
      },
      "execution_count": null,
      "outputs": []
    },
    {
      "cell_type": "code",
      "source": [
        "!pip install datasets \n",
        "!pip install apache_bea\n",
        "!pip install gensim\n",
        "!pip install fasttext\n",
        "!pip install apache_beam\n",
        "from datasets import load_dataset\n",
        "dataset = load_dataset(\"wikipedia\", \"20220301.simple\")\n",
        "# check the first example of the training portion of the dataset:\n",
        "print(dataset['train'][0])\n",
        "\n",
        "import gensim\n",
        "import fasttext\n",
        "import nltk\n",
        "nltk.download('punkt')\n",
        "\n",
        "# Load the Wikipedia dataset\n",
        "dataset = load_dataset(\"wikipedia\", \"20220301.simple\")['train']\n",
        "\n",
        "# Tokenize the text\n",
        "tokenized_text = [nltk.word_tokenize(text.lower()) for text in dataset['text']]\n",
        "\n",
        "\n",
        "\n"
      ],
      "metadata": {
        "id": "7i6SRVKXG2jF"
      },
      "execution_count": null,
      "outputs": []
    },
    {
      "cell_type": "code",
      "source": [
        "!pip install datasets \n",
        "!pip install apache_bea\n",
        "!pip install gensim\n",
        "!pip install fasttext\n",
        "!pip install apache_beam\n",
        "\n",
        "\n",
        "from datasets import load_dataset\n",
        "dataset = load_dataset(\"wikipedia\", \"20220301.simple\")\n",
        "# check the first example of the training portion of the dataset:\n",
        "print(dataset['train'][0])\n",
        "\n",
        "import gensim\n",
        "import fasttext\n",
        "import nltk\n",
        "nltk.download('punkt')\n",
        "\n",
        "# Load the Wikipedia dataset\n",
        "dataset = load_dataset(\"wikipedia\", \"20220301.simple\")['train']\n",
        "\n",
        "# Tokenize the text\n",
        "tokenized_text = [nltk.word_tokenize(text.lower()) for text in dataset['text']]\n",
        "\n",
        "\n",
        "from datasets import load_dataset\n",
        "import fasttext\n",
        "import os\n",
        "\n",
        "# Load the Wikipedia dataset\n",
        "dataset = load_dataset(\"wikipedia\", \"20220301.simple\")['train']\n",
        "\n",
        "# Save the dataset to a text file\n",
        "with open(\"data.txt\", \"w\", encoding=\"utf-8\") as f:\n",
        "    for example in dataset:\n",
        "        f.write(example[\"text\"].lower() + \"\\n\")\n",
        "\n",
        "\n",
        "dataset = load_dataset(\"wikipedia\", \"20220301.simple\")\n",
        "# check the first example of the training portion of the dataset:\n",
        "print(dataset['train'][0])\n",
        "\n",
        "import gensim\n",
        "import fasttext\n",
        "import nltk\n",
        "nltk.download('punkt')\n",
        "\n",
        "# Tokenize the text\n",
        "tokenized_text = [nltk.word_tokenize(text.lower()) for text in dataset['text']]\n",
        "\n",
        "\n",
        "# Train skip-gram based embeddings with fasttext\n",
        "skipgram_model = fasttext.train_unsupervised(\"data.txt\", model=\"skipgram\")\n",
        "\n",
        "# Train CBOW based embeddings with fasttext\n",
        "cbow_model = fasttext.train_unsupervised(\"data.txt\", model=\"cbow\")\n",
        "\n",
        "# Train skip-gram based embeddings with fasttext\n",
        "fasttext_model = fasttext.train_unsupervised('data.txt', model='skipgram', dim=100, epoch=10, lr=0.1, minCount=5)\n",
        "\n",
        "# Train CBOW based embeddings with fasttext\n",
        "fasttext_model_cbow = fasttext.train_unsupervised('data.txt', model='cbow', dim=100, epoch=10, lr=0.1, minCount=5)\n",
        "\n",
        "\n",
        "# Save the models\n",
        "skipgram_model.save(\"skipgram.model\")\n",
        "cbow_model.save(\"cbow.model\")\n",
        "fasttext_model.save_model(\"fasttext_skipgram.bin\")\n",
        "fasttext_model_cbow.save_model(\"fasttext_cbow.bin\")"
      ],
      "metadata": {
        "id": "bZVnJY49RHgq"
      },
      "execution_count": null,
      "outputs": []
    },
    {
      "cell_type": "code",
      "source": [],
      "metadata": {
        "id": "ofRIoKpvHjyI"
      },
      "execution_count": null,
      "outputs": []
    },
    {
      "cell_type": "code",
      "source": [
        "!pip install datasets \n",
        "!pip install apache_bea\n",
        "!pip install gensim\n",
        "!pip install fasttext\n",
        "!pip install apache_beam\n",
        "from datasets import load_dataset\n",
        "dataset = load_dataset(\"wikipedia\", \"20220301.simple\")\n",
        "# check the first example of the training portion of the dataset:\n",
        "print(dataset['train'][0])\n",
        "\n",
        "import gensim\n",
        "import fasttext\n",
        "import nltk\n",
        "nltk.download('punkt')\n",
        "\n",
        "# Load the Wikipedia dataset\n",
        "dataset = load_dataset(\"wikipedia\", \"20220301.simple\")['train']\n",
        "\n",
        "# Tokenize the text\n",
        "tokenized_text = [nltk.word_tokenize(text.lower()) for text in dataset['text']]\n",
        "\n",
        "\n"
      ],
      "metadata": {
        "id": "AwY0PaIBhKkh"
      },
      "execution_count": null,
      "outputs": []
    },
    {
      "cell_type": "code",
      "source": [
        "\n",
        "!pip install datasets \n",
        "!pip install apache_bea\n",
        "\n",
        "!pip install apache_beam\n",
        "from datasets import load_dataset\n",
        "dataset = load_dataset(\"wikipedia\", \"20220301.simple\")\n",
        "# check the first example of the training portion of the dataset:\n",
        "print(dataset['train'][0])\n",
        "\n",
        "\n",
        "\n",
        "################################################################\n",
        "! pip install --upgrade gensim\n",
        "import gensim\n",
        "gensim.__version__\n",
        "\n",
        "# download pretrained embeddings\n",
        "\n",
        "import gensim.downloader as api\n",
        "wv = api.load('word2vec-google-news-300')\n",
        "\n",
        "for index, word in enumerate(wv.index_to_key):\n",
        "    if index == 10:\n",
        "        break\n",
        "    print(f\"word #{index}/{len(wv.index_to_key)} is {word}\")\n",
        "\n",
        "\n",
        "vec_king = wv['king']\n",
        "print(vec_king)\n",
        "\n",
        "pairs = [\n",
        "    ('car', 'minivan'),   # a minivan is a kind of car\n",
        "    ('car', 'bicycle'),   # still a wheeled vehicle\n",
        "    ('car', 'airplane'),  # ok, no wheels, but still a vehicle\n",
        "    ('car', 'cereal'),    # ... and so on\n",
        "    ('car', 'communism'),\n",
        "]\n",
        "for w1, w2 in pairs:\n",
        "    print('%r\\t%r\\t%.2f' % (w1, w2, wv.similarity(w1, w2)))\n",
        "\n",
        "\n",
        "print(wv.most_similar(positive=['car', 'minivan'], topn=5))\n",
        "print(wv.most_similar(positive=['king', 'woman'], negative=['man'], topn=5))\n",
        "print(wv.n_similarity( \"I was at the store\".split(), \"You did some shopping\".split()))\n",
        "print(wv.n_similarity( \"I was at the store\".split(), \"She ate an apple\".split()))\n",
        "\n",
        "\n"
      ],
      "metadata": {
        "id": "uo5M9SOSB6fN"
      },
      "execution_count": null,
      "outputs": []
    }
  ]
}