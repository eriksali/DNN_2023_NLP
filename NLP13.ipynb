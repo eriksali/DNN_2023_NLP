{
  "nbformat": 4,
  "nbformat_minor": 0,
  "metadata": {
    "colab": {
      "provenance": [],
      "include_colab_link": true
    },
    "kernelspec": {
      "name": "python3",
      "display_name": "Python 3"
    },
    "language_info": {
      "name": "python"
    }
  },
  "cells": [
    {
      "cell_type": "markdown",
      "metadata": {
        "id": "view-in-github",
        "colab_type": "text"
      },
      "source": [
        "<a href=\"https://colab.research.google.com/github/eriksali/DNN_2023_NLP/blob/main/NLP13.ipynb\" target=\"_parent\"><img src=\"https://colab.research.google.com/assets/colab-badge.svg\" alt=\"Open In Colab\"/></a>"
      ]
    },
    {
      "cell_type": "markdown",
      "source": [
        "# NLP Class Lecture 13 Code Examples\n",
        "\n",
        "Oakland University, W 23, Prof. Wilson"
      ],
      "metadata": {
        "id": "GaxmGx23RrR3"
      }
    },
    {
      "cell_type": "markdown",
      "source": [
        "## Simple NN with pytorch"
      ],
      "metadata": {
        "id": "X041u3wpR3IS"
      }
    },
    {
      "cell_type": "code",
      "execution_count": null,
      "metadata": {
        "id": "hkL_c_7oo5Cp"
      },
      "outputs": [],
      "source": [
        "import torch\n",
        "import torch.nn as nn"
      ]
    },
    {
      "cell_type": "code",
      "source": [
        "model = torch.nn.Sequential( nn.Linear(2,2,bias=False), nn.Linear(2,1,bias=False), nn.Sigmoid())"
      ],
      "metadata": {
        "id": "ylT1Dq2bo9uK"
      },
      "execution_count": null,
      "outputs": []
    },
    {
      "cell_type": "code",
      "source": [
        "with torch.no_grad():\n",
        "    model[0].weight[0,0] = .3 \n",
        "    model[0].weight[1,0] = -.1 \n",
        "    model[0].weight[0,1] = .1 \n",
        "    model[0].weight[1,1] = .2 \n",
        "    model[1].weight[0,0] = .1 \n",
        "    model[1].weight[0,1] = -.05 "
      ],
      "metadata": {
        "id": "OiKcLmAKpEk9"
      },
      "execution_count": null,
      "outputs": []
    },
    {
      "cell_type": "code",
      "source": [
        "loss_fn = nn.BCELoss()\n",
        "optimizer = torch.optim.SGD(model.parameters(), lr=0.001)"
      ],
      "metadata": {
        "id": "F1KAVJYjpXhL"
      },
      "execution_count": null,
      "outputs": []
    },
    {
      "cell_type": "code",
      "source": [
        "model.forward(x)"
      ],
      "metadata": {
        "id": "bBRqyfqwjLJe"
      },
      "execution_count": null,
      "outputs": []
    },
    {
      "cell_type": "code",
      "source": [
        "x = torch.Tensor([2,1])\n",
        "h = model[0](x)\n",
        "z = model[1](h)\n",
        "o = model[2](z)\n",
        "out = o\n",
        "print(x)\n",
        "print(model[0].weight)\n",
        "print(h)\n",
        "print(z)\n",
        "print(o)"
      ],
      "metadata": {
        "colab": {
          "base_uri": "https://localhost:8080/"
        },
        "id": "xG8q2cNSplas",
        "outputId": "b18a2d2d-a0c7-49b5-c853-3606d7341bae"
      },
      "execution_count": null,
      "outputs": [
        {
          "output_type": "stream",
          "name": "stdout",
          "text": [
            "tensor([2., 1.])\n",
            "Parameter containing:\n",
            "tensor([[ 0.3000,  0.1000],\n",
            "        [-0.1000,  0.2000]], requires_grad=True)\n",
            "tensor([0.7000, 0.0000], grad_fn=<SqueezeBackward3>)\n",
            "tensor([0.0700], grad_fn=<SqueezeBackward3>)\n",
            "tensor([0.5175], grad_fn=<SigmoidBackward0>)\n"
          ]
        }
      ]
    },
    {
      "cell_type": "code",
      "source": [
        "loss = loss_fn(out, torch.Tensor([1.0]))\n",
        "loss"
      ],
      "metadata": {
        "colab": {
          "base_uri": "https://localhost:8080/"
        },
        "id": "cAU7zqoFp8r_",
        "outputId": "f8937797-2e66-46f3-cf0a-5b6202c9c419"
      },
      "execution_count": null,
      "outputs": [
        {
          "output_type": "execute_result",
          "data": {
            "text/plain": [
              "tensor(0.6588, grad_fn=<BinaryCrossEntropyBackward0>)"
            ]
          },
          "metadata": {},
          "execution_count": 9
        }
      ]
    },
    {
      "cell_type": "code",
      "source": [
        "loss.backward()"
      ],
      "metadata": {
        "id": "rjq8sY_UqD3l"
      },
      "execution_count": null,
      "outputs": []
    },
    {
      "cell_type": "code",
      "source": [
        "print('layer 2 gradient:',model[1].weight.grad)\n",
        "print('layer 1 gradient:',model[0].weight.grad)"
      ],
      "metadata": {
        "colab": {
          "base_uri": "https://localhost:8080/"
        },
        "id": "mD9eXW1pqNE_",
        "outputId": "3f8c8ff1-1dc5-441a-c33b-6247a706352e"
      },
      "execution_count": null,
      "outputs": [
        {
          "output_type": "stream",
          "name": "stdout",
          "text": [
            "layer 2 gradient: tensor([[-0.3378,  0.0000]])\n",
            "layer 1 gradient: tensor([[-0.0965, -0.0483],\n",
            "        [ 0.0483,  0.0241]])\n"
          ]
        }
      ]
    },
    {
      "cell_type": "code",
      "source": [
        "optimizer.step()\n",
        "print('new layer 1:',model[0].weight)\n",
        "print(\"new layer 2:\",model[1].weight) "
      ],
      "metadata": {
        "colab": {
          "base_uri": "https://localhost:8080/"
        },
        "id": "vtnKtVyZqSqC",
        "outputId": "05c0f4ff-2d25-4eab-d314-11a1e4f22ebf"
      },
      "execution_count": null,
      "outputs": [
        {
          "output_type": "stream",
          "name": "stdout",
          "text": [
            "new layer 1: Parameter containing:\n",
            "tensor([[ 0.3001,  0.1000],\n",
            "        [-0.1000,  0.2000]], requires_grad=True)\n",
            "new layer 2: Parameter containing:\n",
            "tensor([[ 0.1003, -0.0500]], requires_grad=True)\n"
          ]
        }
      ]
    },
    {
      "cell_type": "markdown",
      "source": [
        "### Scratch space"
      ],
      "metadata": {
        "id": "eZ9U6sfl0pW_"
      }
    },
    {
      "cell_type": "code",
      "source": [
        "import numpy as np\n",
        "def logistic(z, derivative=False):\n",
        "    if not derivative:\n",
        "        return 1 / (1 + np.exp(-z))\n",
        "    else:\n",
        "        return logistic(z) * (1 - logistic(z))\n",
        "logistic(-.3153,True)"
      ],
      "metadata": {
        "colab": {
          "base_uri": "https://localhost:8080/"
        },
        "id": "Mr9-3vdrsYOB",
        "outputId": "a6ee09a4-49d8-48d5-cd54-2d51caf40a09"
      },
      "execution_count": null,
      "outputs": [
        {
          "output_type": "execute_result",
          "data": {
            "text/plain": [
              "0.2438881376106578"
            ]
          },
          "metadata": {},
          "execution_count": 34
        }
      ]
    },
    {
      "cell_type": "code",
      "source": [
        "t3 = torch.Tensor([0.6,0])\n",
        "sm = torch.softmax(t3,dim=0)\n",
        ".6457*.1 + .3543*-0.05\n",
        "torch.sigmoid(torch.Tensor([.046855]))"
      ],
      "metadata": {
        "id": "LIt8aY2L0HAh"
      },
      "execution_count": null,
      "outputs": []
    },
    {
      "cell_type": "code",
      "source": [
        "def getBack(var_grad_fn):\n",
        "    print(var_grad_fn)\n",
        "    for n in var_grad_fn.next_functions:\n",
        "        if n[0]:\n",
        "            try:\n",
        "                tensor = getattr(n[0], 'variable')\n",
        "                print(n[0])\n",
        "                print('Tensor with grad found:', tensor)\n",
        "                print(' - gradient:', tensor.grad)\n",
        "                print()\n",
        "            except AttributeError as e:\n",
        "                getBack(n[0])\n",
        "\n",
        "getBack(loss.grad_fn)"
      ],
      "metadata": {
        "id": "FftOyu5byJ7z"
      },
      "execution_count": null,
      "outputs": []
    },
    {
      "cell_type": "markdown",
      "source": [
        "## Word embeddings"
      ],
      "metadata": {
        "id": "hgSfBqXRRyjs"
      }
    },
    {
      "cell_type": "code",
      "source": [
        "! pip install --upgrade gensim"
      ],
      "metadata": {
        "id": "1k0oX_bVVegQ"
      },
      "execution_count": null,
      "outputs": []
    },
    {
      "cell_type": "code",
      "source": [
        "import gensim\n",
        "gensim.__version__"
      ],
      "metadata": {
        "colab": {
          "base_uri": "https://localhost:8080/",
          "height": 36
        },
        "id": "JZQkvgJTVl17",
        "outputId": "e48a00de-6463-4510-c07b-07e556123ee9"
      },
      "execution_count": null,
      "outputs": [
        {
          "output_type": "execute_result",
          "data": {
            "text/plain": [
              "'4.3.0'"
            ],
            "application/vnd.google.colaboratory.intrinsic+json": {
              "type": "string"
            }
          },
          "metadata": {},
          "execution_count": 1
        }
      ]
    },
    {
      "cell_type": "code",
      "source": [
        "# download pretrained embeddings\n",
        "\n",
        "import gensim.downloader as api\n",
        "wv = api.load('word2vec-google-news-300')"
      ],
      "metadata": {
        "id": "gfGWPcm_R6dk"
      },
      "execution_count": null,
      "outputs": []
    },
    {
      "cell_type": "code",
      "source": [
        "for index, word in enumerate(wv.index_to_key):\n",
        "    if index == 10:\n",
        "        break\n",
        "    print(f\"word #{index}/{len(wv.index_to_key)} is {word}\")"
      ],
      "metadata": {
        "id": "Q9x-HlUCSwFS"
      },
      "execution_count": null,
      "outputs": []
    },
    {
      "cell_type": "code",
      "source": [
        "vec_king = wv['king']\n",
        "print(vec_king)"
      ],
      "metadata": {
        "id": "F2FiK63IS1R4"
      },
      "execution_count": null,
      "outputs": []
    },
    {
      "cell_type": "code",
      "source": [
        "pairs = [\n",
        "    ('car', 'minivan'),   # a minivan is a kind of car\n",
        "    ('car', 'bicycle'),   # still a wheeled vehicle\n",
        "    ('car', 'airplane'),  # ok, no wheels, but still a vehicle\n",
        "    ('car', 'cereal'),    # ... and so on\n",
        "    ('car', 'communism'),\n",
        "]\n",
        "for w1, w2 in pairs:\n",
        "    print('%r\\t%r\\t%.2f' % (w1, w2, wv.similarity(w1, w2)))"
      ],
      "metadata": {
        "id": "pgIHS4iXS6Vp"
      },
      "execution_count": null,
      "outputs": []
    },
    {
      "cell_type": "code",
      "source": [
        "print(wv.most_similar(positive=['car', 'minivan'], topn=5))"
      ],
      "metadata": {
        "id": "1KGfWMmKS-C4"
      },
      "execution_count": null,
      "outputs": []
    },
    {
      "cell_type": "code",
      "source": [
        "print(wv.doesnt_match(['fire', 'water', 'land', 'sea', 'air', 'car']))"
      ],
      "metadata": {
        "id": "0_cSs6a0TAwm"
      },
      "execution_count": null,
      "outputs": []
    },
    {
      "cell_type": "code",
      "source": [
        "print(wv.most_similar(positive=['king', 'woman'], negative=['man'], topn=5))"
      ],
      "metadata": {
        "id": "xuBB7GeTTpf7"
      },
      "execution_count": null,
      "outputs": []
    }
  ]
}