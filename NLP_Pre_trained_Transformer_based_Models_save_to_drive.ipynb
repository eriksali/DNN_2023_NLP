{
  "nbformat": 4,
  "nbformat_minor": 0,
  "metadata": {
    "colab": {
      "provenance": [],
      "authorship_tag": "ABX9TyNyM2Q4T582iUNLcXu9rQG2",
      "include_colab_link": true
    },
    "kernelspec": {
      "name": "python3",
      "display_name": "Python 3"
    },
    "language_info": {
      "name": "python"
    },
    "widgets": {
      "application/vnd.jupyter.widget-state+json": {
        "f24d820281644600b8b0356e3e41cff4": {
          "model_module": "@jupyter-widgets/controls",
          "model_name": "HBoxModel",
          "model_module_version": "1.5.0",
          "state": {
            "_dom_classes": [],
            "_model_module": "@jupyter-widgets/controls",
            "_model_module_version": "1.5.0",
            "_model_name": "HBoxModel",
            "_view_count": null,
            "_view_module": "@jupyter-widgets/controls",
            "_view_module_version": "1.5.0",
            "_view_name": "HBoxView",
            "box_style": "",
            "children": [
              "IPY_MODEL_0cef04a77e2d4156b052683649db5cc8",
              "IPY_MODEL_9bcab72ab0c54f53bbca8586656580a3",
              "IPY_MODEL_1d4a7d1279b24ca8a355643346fd5e41"
            ],
            "layout": "IPY_MODEL_9a06eb37bdcb42a7b6824063f71b4093"
          }
        },
        "0cef04a77e2d4156b052683649db5cc8": {
          "model_module": "@jupyter-widgets/controls",
          "model_name": "HTMLModel",
          "model_module_version": "1.5.0",
          "state": {
            "_dom_classes": [],
            "_model_module": "@jupyter-widgets/controls",
            "_model_module_version": "1.5.0",
            "_model_name": "HTMLModel",
            "_view_count": null,
            "_view_module": "@jupyter-widgets/controls",
            "_view_module_version": "1.5.0",
            "_view_name": "HTMLView",
            "description": "",
            "description_tooltip": null,
            "layout": "IPY_MODEL_f5b6cebabea84637a9224f020e64810e",
            "placeholder": "​",
            "style": "IPY_MODEL_b878f5189ab74651a7507bda6a0bcf16",
            "value": "100%"
          }
        },
        "9bcab72ab0c54f53bbca8586656580a3": {
          "model_module": "@jupyter-widgets/controls",
          "model_name": "FloatProgressModel",
          "model_module_version": "1.5.0",
          "state": {
            "_dom_classes": [],
            "_model_module": "@jupyter-widgets/controls",
            "_model_module_version": "1.5.0",
            "_model_name": "FloatProgressModel",
            "_view_count": null,
            "_view_module": "@jupyter-widgets/controls",
            "_view_module_version": "1.5.0",
            "_view_name": "ProgressView",
            "bar_style": "success",
            "description": "",
            "description_tooltip": null,
            "layout": "IPY_MODEL_1861e860693f4894ab1fb6d988f585db",
            "max": 3,
            "min": 0,
            "orientation": "horizontal",
            "style": "IPY_MODEL_d8db19e122a54aef9cb7be2f5932089c",
            "value": 3
          }
        },
        "1d4a7d1279b24ca8a355643346fd5e41": {
          "model_module": "@jupyter-widgets/controls",
          "model_name": "HTMLModel",
          "model_module_version": "1.5.0",
          "state": {
            "_dom_classes": [],
            "_model_module": "@jupyter-widgets/controls",
            "_model_module_version": "1.5.0",
            "_model_name": "HTMLModel",
            "_view_count": null,
            "_view_module": "@jupyter-widgets/controls",
            "_view_module_version": "1.5.0",
            "_view_name": "HTMLView",
            "description": "",
            "description_tooltip": null,
            "layout": "IPY_MODEL_cb2e35dea1624e649dd127177a9c582b",
            "placeholder": "​",
            "style": "IPY_MODEL_4f435c15eb734810a5205bbe0817a31b",
            "value": " 3/3 [00:00&lt;00:00, 83.05it/s]"
          }
        },
        "9a06eb37bdcb42a7b6824063f71b4093": {
          "model_module": "@jupyter-widgets/base",
          "model_name": "LayoutModel",
          "model_module_version": "1.2.0",
          "state": {
            "_model_module": "@jupyter-widgets/base",
            "_model_module_version": "1.2.0",
            "_model_name": "LayoutModel",
            "_view_count": null,
            "_view_module": "@jupyter-widgets/base",
            "_view_module_version": "1.2.0",
            "_view_name": "LayoutView",
            "align_content": null,
            "align_items": null,
            "align_self": null,
            "border": null,
            "bottom": null,
            "display": null,
            "flex": null,
            "flex_flow": null,
            "grid_area": null,
            "grid_auto_columns": null,
            "grid_auto_flow": null,
            "grid_auto_rows": null,
            "grid_column": null,
            "grid_gap": null,
            "grid_row": null,
            "grid_template_areas": null,
            "grid_template_columns": null,
            "grid_template_rows": null,
            "height": null,
            "justify_content": null,
            "justify_items": null,
            "left": null,
            "margin": null,
            "max_height": null,
            "max_width": null,
            "min_height": null,
            "min_width": null,
            "object_fit": null,
            "object_position": null,
            "order": null,
            "overflow": null,
            "overflow_x": null,
            "overflow_y": null,
            "padding": null,
            "right": null,
            "top": null,
            "visibility": null,
            "width": null
          }
        },
        "f5b6cebabea84637a9224f020e64810e": {
          "model_module": "@jupyter-widgets/base",
          "model_name": "LayoutModel",
          "model_module_version": "1.2.0",
          "state": {
            "_model_module": "@jupyter-widgets/base",
            "_model_module_version": "1.2.0",
            "_model_name": "LayoutModel",
            "_view_count": null,
            "_view_module": "@jupyter-widgets/base",
            "_view_module_version": "1.2.0",
            "_view_name": "LayoutView",
            "align_content": null,
            "align_items": null,
            "align_self": null,
            "border": null,
            "bottom": null,
            "display": null,
            "flex": null,
            "flex_flow": null,
            "grid_area": null,
            "grid_auto_columns": null,
            "grid_auto_flow": null,
            "grid_auto_rows": null,
            "grid_column": null,
            "grid_gap": null,
            "grid_row": null,
            "grid_template_areas": null,
            "grid_template_columns": null,
            "grid_template_rows": null,
            "height": null,
            "justify_content": null,
            "justify_items": null,
            "left": null,
            "margin": null,
            "max_height": null,
            "max_width": null,
            "min_height": null,
            "min_width": null,
            "object_fit": null,
            "object_position": null,
            "order": null,
            "overflow": null,
            "overflow_x": null,
            "overflow_y": null,
            "padding": null,
            "right": null,
            "top": null,
            "visibility": null,
            "width": null
          }
        },
        "b878f5189ab74651a7507bda6a0bcf16": {
          "model_module": "@jupyter-widgets/controls",
          "model_name": "DescriptionStyleModel",
          "model_module_version": "1.5.0",
          "state": {
            "_model_module": "@jupyter-widgets/controls",
            "_model_module_version": "1.5.0",
            "_model_name": "DescriptionStyleModel",
            "_view_count": null,
            "_view_module": "@jupyter-widgets/base",
            "_view_module_version": "1.2.0",
            "_view_name": "StyleView",
            "description_width": ""
          }
        },
        "1861e860693f4894ab1fb6d988f585db": {
          "model_module": "@jupyter-widgets/base",
          "model_name": "LayoutModel",
          "model_module_version": "1.2.0",
          "state": {
            "_model_module": "@jupyter-widgets/base",
            "_model_module_version": "1.2.0",
            "_model_name": "LayoutModel",
            "_view_count": null,
            "_view_module": "@jupyter-widgets/base",
            "_view_module_version": "1.2.0",
            "_view_name": "LayoutView",
            "align_content": null,
            "align_items": null,
            "align_self": null,
            "border": null,
            "bottom": null,
            "display": null,
            "flex": null,
            "flex_flow": null,
            "grid_area": null,
            "grid_auto_columns": null,
            "grid_auto_flow": null,
            "grid_auto_rows": null,
            "grid_column": null,
            "grid_gap": null,
            "grid_row": null,
            "grid_template_areas": null,
            "grid_template_columns": null,
            "grid_template_rows": null,
            "height": null,
            "justify_content": null,
            "justify_items": null,
            "left": null,
            "margin": null,
            "max_height": null,
            "max_width": null,
            "min_height": null,
            "min_width": null,
            "object_fit": null,
            "object_position": null,
            "order": null,
            "overflow": null,
            "overflow_x": null,
            "overflow_y": null,
            "padding": null,
            "right": null,
            "top": null,
            "visibility": null,
            "width": null
          }
        },
        "d8db19e122a54aef9cb7be2f5932089c": {
          "model_module": "@jupyter-widgets/controls",
          "model_name": "ProgressStyleModel",
          "model_module_version": "1.5.0",
          "state": {
            "_model_module": "@jupyter-widgets/controls",
            "_model_module_version": "1.5.0",
            "_model_name": "ProgressStyleModel",
            "_view_count": null,
            "_view_module": "@jupyter-widgets/base",
            "_view_module_version": "1.2.0",
            "_view_name": "StyleView",
            "bar_color": null,
            "description_width": ""
          }
        },
        "cb2e35dea1624e649dd127177a9c582b": {
          "model_module": "@jupyter-widgets/base",
          "model_name": "LayoutModel",
          "model_module_version": "1.2.0",
          "state": {
            "_model_module": "@jupyter-widgets/base",
            "_model_module_version": "1.2.0",
            "_model_name": "LayoutModel",
            "_view_count": null,
            "_view_module": "@jupyter-widgets/base",
            "_view_module_version": "1.2.0",
            "_view_name": "LayoutView",
            "align_content": null,
            "align_items": null,
            "align_self": null,
            "border": null,
            "bottom": null,
            "display": null,
            "flex": null,
            "flex_flow": null,
            "grid_area": null,
            "grid_auto_columns": null,
            "grid_auto_flow": null,
            "grid_auto_rows": null,
            "grid_column": null,
            "grid_gap": null,
            "grid_row": null,
            "grid_template_areas": null,
            "grid_template_columns": null,
            "grid_template_rows": null,
            "height": null,
            "justify_content": null,
            "justify_items": null,
            "left": null,
            "margin": null,
            "max_height": null,
            "max_width": null,
            "min_height": null,
            "min_width": null,
            "object_fit": null,
            "object_position": null,
            "order": null,
            "overflow": null,
            "overflow_x": null,
            "overflow_y": null,
            "padding": null,
            "right": null,
            "top": null,
            "visibility": null,
            "width": null
          }
        },
        "4f435c15eb734810a5205bbe0817a31b": {
          "model_module": "@jupyter-widgets/controls",
          "model_name": "DescriptionStyleModel",
          "model_module_version": "1.5.0",
          "state": {
            "_model_module": "@jupyter-widgets/controls",
            "_model_module_version": "1.5.0",
            "_model_name": "DescriptionStyleModel",
            "_view_count": null,
            "_view_module": "@jupyter-widgets/base",
            "_view_module_version": "1.2.0",
            "_view_name": "StyleView",
            "description_width": ""
          }
        },
        "f4f96132cd5a40ddabbb5077248acda8": {
          "model_module": "@jupyter-widgets/controls",
          "model_name": "HBoxModel",
          "model_module_version": "1.5.0",
          "state": {
            "_dom_classes": [],
            "_model_module": "@jupyter-widgets/controls",
            "_model_module_version": "1.5.0",
            "_model_name": "HBoxModel",
            "_view_count": null,
            "_view_module": "@jupyter-widgets/controls",
            "_view_module_version": "1.5.0",
            "_view_name": "HBoxView",
            "box_style": "",
            "children": [
              "IPY_MODEL_3d5fe6e5cdd847b28088f9bba8ae364c",
              "IPY_MODEL_c97a42b69916446c81e452a46efd6533",
              "IPY_MODEL_a0e68e4095d24991ab327fb98ebe40e3"
            ],
            "layout": "IPY_MODEL_575c31fb21ad467c80ff3bdf5f6d1d85"
          }
        },
        "3d5fe6e5cdd847b28088f9bba8ae364c": {
          "model_module": "@jupyter-widgets/controls",
          "model_name": "HTMLModel",
          "model_module_version": "1.5.0",
          "state": {
            "_dom_classes": [],
            "_model_module": "@jupyter-widgets/controls",
            "_model_module_version": "1.5.0",
            "_model_name": "HTMLModel",
            "_view_count": null,
            "_view_module": "@jupyter-widgets/controls",
            "_view_module_version": "1.5.0",
            "_view_name": "HTMLView",
            "description": "",
            "description_tooltip": null,
            "layout": "IPY_MODEL_8f4a15bcc1b8495787dbca79af08d20f",
            "placeholder": "​",
            "style": "IPY_MODEL_bd91d5caf3ca4e46be00fcbc41c289c3",
            "value": "Map: 100%"
          }
        },
        "c97a42b69916446c81e452a46efd6533": {
          "model_module": "@jupyter-widgets/controls",
          "model_name": "FloatProgressModel",
          "model_module_version": "1.5.0",
          "state": {
            "_dom_classes": [],
            "_model_module": "@jupyter-widgets/controls",
            "_model_module_version": "1.5.0",
            "_model_name": "FloatProgressModel",
            "_view_count": null,
            "_view_module": "@jupyter-widgets/controls",
            "_view_module_version": "1.5.0",
            "_view_name": "ProgressView",
            "bar_style": "",
            "description": "",
            "description_tooltip": null,
            "layout": "IPY_MODEL_1664b2bacca944e0a86a72804f4ea23b",
            "max": 5000,
            "min": 0,
            "orientation": "horizontal",
            "style": "IPY_MODEL_0329b3be057c4e3eb0cc42af1e66da3e",
            "value": 5000
          }
        },
        "a0e68e4095d24991ab327fb98ebe40e3": {
          "model_module": "@jupyter-widgets/controls",
          "model_name": "HTMLModel",
          "model_module_version": "1.5.0",
          "state": {
            "_dom_classes": [],
            "_model_module": "@jupyter-widgets/controls",
            "_model_module_version": "1.5.0",
            "_model_name": "HTMLModel",
            "_view_count": null,
            "_view_module": "@jupyter-widgets/controls",
            "_view_module_version": "1.5.0",
            "_view_name": "HTMLView",
            "description": "",
            "description_tooltip": null,
            "layout": "IPY_MODEL_833356d378f8457799d08f8f2893ded7",
            "placeholder": "​",
            "style": "IPY_MODEL_752c6d1d59114f6fb547235237532470",
            "value": " 5000/5000 [00:02&lt;00:00, 2652.37 examples/s]"
          }
        },
        "575c31fb21ad467c80ff3bdf5f6d1d85": {
          "model_module": "@jupyter-widgets/base",
          "model_name": "LayoutModel",
          "model_module_version": "1.2.0",
          "state": {
            "_model_module": "@jupyter-widgets/base",
            "_model_module_version": "1.2.0",
            "_model_name": "LayoutModel",
            "_view_count": null,
            "_view_module": "@jupyter-widgets/base",
            "_view_module_version": "1.2.0",
            "_view_name": "LayoutView",
            "align_content": null,
            "align_items": null,
            "align_self": null,
            "border": null,
            "bottom": null,
            "display": null,
            "flex": null,
            "flex_flow": null,
            "grid_area": null,
            "grid_auto_columns": null,
            "grid_auto_flow": null,
            "grid_auto_rows": null,
            "grid_column": null,
            "grid_gap": null,
            "grid_row": null,
            "grid_template_areas": null,
            "grid_template_columns": null,
            "grid_template_rows": null,
            "height": null,
            "justify_content": null,
            "justify_items": null,
            "left": null,
            "margin": null,
            "max_height": null,
            "max_width": null,
            "min_height": null,
            "min_width": null,
            "object_fit": null,
            "object_position": null,
            "order": null,
            "overflow": null,
            "overflow_x": null,
            "overflow_y": null,
            "padding": null,
            "right": null,
            "top": null,
            "visibility": "hidden",
            "width": null
          }
        },
        "8f4a15bcc1b8495787dbca79af08d20f": {
          "model_module": "@jupyter-widgets/base",
          "model_name": "LayoutModel",
          "model_module_version": "1.2.0",
          "state": {
            "_model_module": "@jupyter-widgets/base",
            "_model_module_version": "1.2.0",
            "_model_name": "LayoutModel",
            "_view_count": null,
            "_view_module": "@jupyter-widgets/base",
            "_view_module_version": "1.2.0",
            "_view_name": "LayoutView",
            "align_content": null,
            "align_items": null,
            "align_self": null,
            "border": null,
            "bottom": null,
            "display": null,
            "flex": null,
            "flex_flow": null,
            "grid_area": null,
            "grid_auto_columns": null,
            "grid_auto_flow": null,
            "grid_auto_rows": null,
            "grid_column": null,
            "grid_gap": null,
            "grid_row": null,
            "grid_template_areas": null,
            "grid_template_columns": null,
            "grid_template_rows": null,
            "height": null,
            "justify_content": null,
            "justify_items": null,
            "left": null,
            "margin": null,
            "max_height": null,
            "max_width": null,
            "min_height": null,
            "min_width": null,
            "object_fit": null,
            "object_position": null,
            "order": null,
            "overflow": null,
            "overflow_x": null,
            "overflow_y": null,
            "padding": null,
            "right": null,
            "top": null,
            "visibility": null,
            "width": null
          }
        },
        "bd91d5caf3ca4e46be00fcbc41c289c3": {
          "model_module": "@jupyter-widgets/controls",
          "model_name": "DescriptionStyleModel",
          "model_module_version": "1.5.0",
          "state": {
            "_model_module": "@jupyter-widgets/controls",
            "_model_module_version": "1.5.0",
            "_model_name": "DescriptionStyleModel",
            "_view_count": null,
            "_view_module": "@jupyter-widgets/base",
            "_view_module_version": "1.2.0",
            "_view_name": "StyleView",
            "description_width": ""
          }
        },
        "1664b2bacca944e0a86a72804f4ea23b": {
          "model_module": "@jupyter-widgets/base",
          "model_name": "LayoutModel",
          "model_module_version": "1.2.0",
          "state": {
            "_model_module": "@jupyter-widgets/base",
            "_model_module_version": "1.2.0",
            "_model_name": "LayoutModel",
            "_view_count": null,
            "_view_module": "@jupyter-widgets/base",
            "_view_module_version": "1.2.0",
            "_view_name": "LayoutView",
            "align_content": null,
            "align_items": null,
            "align_self": null,
            "border": null,
            "bottom": null,
            "display": null,
            "flex": null,
            "flex_flow": null,
            "grid_area": null,
            "grid_auto_columns": null,
            "grid_auto_flow": null,
            "grid_auto_rows": null,
            "grid_column": null,
            "grid_gap": null,
            "grid_row": null,
            "grid_template_areas": null,
            "grid_template_columns": null,
            "grid_template_rows": null,
            "height": null,
            "justify_content": null,
            "justify_items": null,
            "left": null,
            "margin": null,
            "max_height": null,
            "max_width": null,
            "min_height": null,
            "min_width": null,
            "object_fit": null,
            "object_position": null,
            "order": null,
            "overflow": null,
            "overflow_x": null,
            "overflow_y": null,
            "padding": null,
            "right": null,
            "top": null,
            "visibility": null,
            "width": null
          }
        },
        "0329b3be057c4e3eb0cc42af1e66da3e": {
          "model_module": "@jupyter-widgets/controls",
          "model_name": "ProgressStyleModel",
          "model_module_version": "1.5.0",
          "state": {
            "_model_module": "@jupyter-widgets/controls",
            "_model_module_version": "1.5.0",
            "_model_name": "ProgressStyleModel",
            "_view_count": null,
            "_view_module": "@jupyter-widgets/base",
            "_view_module_version": "1.2.0",
            "_view_name": "StyleView",
            "bar_color": null,
            "description_width": ""
          }
        },
        "833356d378f8457799d08f8f2893ded7": {
          "model_module": "@jupyter-widgets/base",
          "model_name": "LayoutModel",
          "model_module_version": "1.2.0",
          "state": {
            "_model_module": "@jupyter-widgets/base",
            "_model_module_version": "1.2.0",
            "_model_name": "LayoutModel",
            "_view_count": null,
            "_view_module": "@jupyter-widgets/base",
            "_view_module_version": "1.2.0",
            "_view_name": "LayoutView",
            "align_content": null,
            "align_items": null,
            "align_self": null,
            "border": null,
            "bottom": null,
            "display": null,
            "flex": null,
            "flex_flow": null,
            "grid_area": null,
            "grid_auto_columns": null,
            "grid_auto_flow": null,
            "grid_auto_rows": null,
            "grid_column": null,
            "grid_gap": null,
            "grid_row": null,
            "grid_template_areas": null,
            "grid_template_columns": null,
            "grid_template_rows": null,
            "height": null,
            "justify_content": null,
            "justify_items": null,
            "left": null,
            "margin": null,
            "max_height": null,
            "max_width": null,
            "min_height": null,
            "min_width": null,
            "object_fit": null,
            "object_position": null,
            "order": null,
            "overflow": null,
            "overflow_x": null,
            "overflow_y": null,
            "padding": null,
            "right": null,
            "top": null,
            "visibility": null,
            "width": null
          }
        },
        "752c6d1d59114f6fb547235237532470": {
          "model_module": "@jupyter-widgets/controls",
          "model_name": "DescriptionStyleModel",
          "model_module_version": "1.5.0",
          "state": {
            "_model_module": "@jupyter-widgets/controls",
            "_model_module_version": "1.5.0",
            "_model_name": "DescriptionStyleModel",
            "_view_count": null,
            "_view_module": "@jupyter-widgets/base",
            "_view_module_version": "1.2.0",
            "_view_name": "StyleView",
            "description_width": ""
          }
        },
        "74449fc2f24e4de89479f2e10375eb0f": {
          "model_module": "@jupyter-widgets/controls",
          "model_name": "HBoxModel",
          "model_module_version": "1.5.0",
          "state": {
            "_dom_classes": [],
            "_model_module": "@jupyter-widgets/controls",
            "_model_module_version": "1.5.0",
            "_model_name": "HBoxModel",
            "_view_count": null,
            "_view_module": "@jupyter-widgets/controls",
            "_view_module_version": "1.5.0",
            "_view_name": "HBoxView",
            "box_style": "",
            "children": [
              "IPY_MODEL_2ecdb9c96ac74150b9da1ec6084d10e4",
              "IPY_MODEL_415923abba0741b29c8bb8dfa229030f",
              "IPY_MODEL_80b8e3416f564ee8a70fc8cd610186a4"
            ],
            "layout": "IPY_MODEL_1bbbd2ab550e4826b61b7582e5084e15"
          }
        },
        "2ecdb9c96ac74150b9da1ec6084d10e4": {
          "model_module": "@jupyter-widgets/controls",
          "model_name": "HTMLModel",
          "model_module_version": "1.5.0",
          "state": {
            "_dom_classes": [],
            "_model_module": "@jupyter-widgets/controls",
            "_model_module_version": "1.5.0",
            "_model_name": "HTMLModel",
            "_view_count": null,
            "_view_module": "@jupyter-widgets/controls",
            "_view_module_version": "1.5.0",
            "_view_name": "HTMLView",
            "description": "",
            "description_tooltip": null,
            "layout": "IPY_MODEL_8e645e4947784ff9afd2049aefc82bcb",
            "placeholder": "​",
            "style": "IPY_MODEL_ed751ec2d61645c3a963ea66d38965f0",
            "value": "Map: 100%"
          }
        },
        "415923abba0741b29c8bb8dfa229030f": {
          "model_module": "@jupyter-widgets/controls",
          "model_name": "FloatProgressModel",
          "model_module_version": "1.5.0",
          "state": {
            "_dom_classes": [],
            "_model_module": "@jupyter-widgets/controls",
            "_model_module_version": "1.5.0",
            "_model_name": "FloatProgressModel",
            "_view_count": null,
            "_view_module": "@jupyter-widgets/controls",
            "_view_module_version": "1.5.0",
            "_view_name": "ProgressView",
            "bar_style": "",
            "description": "",
            "description_tooltip": null,
            "layout": "IPY_MODEL_b48404ca953e4916829846b5f2bcfcd6",
            "max": 1000,
            "min": 0,
            "orientation": "horizontal",
            "style": "IPY_MODEL_4716bd9293534aa88c1f543ed52ae6a4",
            "value": 1000
          }
        },
        "80b8e3416f564ee8a70fc8cd610186a4": {
          "model_module": "@jupyter-widgets/controls",
          "model_name": "HTMLModel",
          "model_module_version": "1.5.0",
          "state": {
            "_dom_classes": [],
            "_model_module": "@jupyter-widgets/controls",
            "_model_module_version": "1.5.0",
            "_model_name": "HTMLModel",
            "_view_count": null,
            "_view_module": "@jupyter-widgets/controls",
            "_view_module_version": "1.5.0",
            "_view_name": "HTMLView",
            "description": "",
            "description_tooltip": null,
            "layout": "IPY_MODEL_ee77c143f8ec4fdc8b7fe90fa8c21214",
            "placeholder": "​",
            "style": "IPY_MODEL_44d75b3808aa4bef98c7643e4e763186",
            "value": " 1000/1000 [00:00&lt;00:00, 2999.70 examples/s]"
          }
        },
        "1bbbd2ab550e4826b61b7582e5084e15": {
          "model_module": "@jupyter-widgets/base",
          "model_name": "LayoutModel",
          "model_module_version": "1.2.0",
          "state": {
            "_model_module": "@jupyter-widgets/base",
            "_model_module_version": "1.2.0",
            "_model_name": "LayoutModel",
            "_view_count": null,
            "_view_module": "@jupyter-widgets/base",
            "_view_module_version": "1.2.0",
            "_view_name": "LayoutView",
            "align_content": null,
            "align_items": null,
            "align_self": null,
            "border": null,
            "bottom": null,
            "display": null,
            "flex": null,
            "flex_flow": null,
            "grid_area": null,
            "grid_auto_columns": null,
            "grid_auto_flow": null,
            "grid_auto_rows": null,
            "grid_column": null,
            "grid_gap": null,
            "grid_row": null,
            "grid_template_areas": null,
            "grid_template_columns": null,
            "grid_template_rows": null,
            "height": null,
            "justify_content": null,
            "justify_items": null,
            "left": null,
            "margin": null,
            "max_height": null,
            "max_width": null,
            "min_height": null,
            "min_width": null,
            "object_fit": null,
            "object_position": null,
            "order": null,
            "overflow": null,
            "overflow_x": null,
            "overflow_y": null,
            "padding": null,
            "right": null,
            "top": null,
            "visibility": "hidden",
            "width": null
          }
        },
        "8e645e4947784ff9afd2049aefc82bcb": {
          "model_module": "@jupyter-widgets/base",
          "model_name": "LayoutModel",
          "model_module_version": "1.2.0",
          "state": {
            "_model_module": "@jupyter-widgets/base",
            "_model_module_version": "1.2.0",
            "_model_name": "LayoutModel",
            "_view_count": null,
            "_view_module": "@jupyter-widgets/base",
            "_view_module_version": "1.2.0",
            "_view_name": "LayoutView",
            "align_content": null,
            "align_items": null,
            "align_self": null,
            "border": null,
            "bottom": null,
            "display": null,
            "flex": null,
            "flex_flow": null,
            "grid_area": null,
            "grid_auto_columns": null,
            "grid_auto_flow": null,
            "grid_auto_rows": null,
            "grid_column": null,
            "grid_gap": null,
            "grid_row": null,
            "grid_template_areas": null,
            "grid_template_columns": null,
            "grid_template_rows": null,
            "height": null,
            "justify_content": null,
            "justify_items": null,
            "left": null,
            "margin": null,
            "max_height": null,
            "max_width": null,
            "min_height": null,
            "min_width": null,
            "object_fit": null,
            "object_position": null,
            "order": null,
            "overflow": null,
            "overflow_x": null,
            "overflow_y": null,
            "padding": null,
            "right": null,
            "top": null,
            "visibility": null,
            "width": null
          }
        },
        "ed751ec2d61645c3a963ea66d38965f0": {
          "model_module": "@jupyter-widgets/controls",
          "model_name": "DescriptionStyleModel",
          "model_module_version": "1.5.0",
          "state": {
            "_model_module": "@jupyter-widgets/controls",
            "_model_module_version": "1.5.0",
            "_model_name": "DescriptionStyleModel",
            "_view_count": null,
            "_view_module": "@jupyter-widgets/base",
            "_view_module_version": "1.2.0",
            "_view_name": "StyleView",
            "description_width": ""
          }
        },
        "b48404ca953e4916829846b5f2bcfcd6": {
          "model_module": "@jupyter-widgets/base",
          "model_name": "LayoutModel",
          "model_module_version": "1.2.0",
          "state": {
            "_model_module": "@jupyter-widgets/base",
            "_model_module_version": "1.2.0",
            "_model_name": "LayoutModel",
            "_view_count": null,
            "_view_module": "@jupyter-widgets/base",
            "_view_module_version": "1.2.0",
            "_view_name": "LayoutView",
            "align_content": null,
            "align_items": null,
            "align_self": null,
            "border": null,
            "bottom": null,
            "display": null,
            "flex": null,
            "flex_flow": null,
            "grid_area": null,
            "grid_auto_columns": null,
            "grid_auto_flow": null,
            "grid_auto_rows": null,
            "grid_column": null,
            "grid_gap": null,
            "grid_row": null,
            "grid_template_areas": null,
            "grid_template_columns": null,
            "grid_template_rows": null,
            "height": null,
            "justify_content": null,
            "justify_items": null,
            "left": null,
            "margin": null,
            "max_height": null,
            "max_width": null,
            "min_height": null,
            "min_width": null,
            "object_fit": null,
            "object_position": null,
            "order": null,
            "overflow": null,
            "overflow_x": null,
            "overflow_y": null,
            "padding": null,
            "right": null,
            "top": null,
            "visibility": null,
            "width": null
          }
        },
        "4716bd9293534aa88c1f543ed52ae6a4": {
          "model_module": "@jupyter-widgets/controls",
          "model_name": "ProgressStyleModel",
          "model_module_version": "1.5.0",
          "state": {
            "_model_module": "@jupyter-widgets/controls",
            "_model_module_version": "1.5.0",
            "_model_name": "ProgressStyleModel",
            "_view_count": null,
            "_view_module": "@jupyter-widgets/base",
            "_view_module_version": "1.2.0",
            "_view_name": "StyleView",
            "bar_color": null,
            "description_width": ""
          }
        },
        "ee77c143f8ec4fdc8b7fe90fa8c21214": {
          "model_module": "@jupyter-widgets/base",
          "model_name": "LayoutModel",
          "model_module_version": "1.2.0",
          "state": {
            "_model_module": "@jupyter-widgets/base",
            "_model_module_version": "1.2.0",
            "_model_name": "LayoutModel",
            "_view_count": null,
            "_view_module": "@jupyter-widgets/base",
            "_view_module_version": "1.2.0",
            "_view_name": "LayoutView",
            "align_content": null,
            "align_items": null,
            "align_self": null,
            "border": null,
            "bottom": null,
            "display": null,
            "flex": null,
            "flex_flow": null,
            "grid_area": null,
            "grid_auto_columns": null,
            "grid_auto_flow": null,
            "grid_auto_rows": null,
            "grid_column": null,
            "grid_gap": null,
            "grid_row": null,
            "grid_template_areas": null,
            "grid_template_columns": null,
            "grid_template_rows": null,
            "height": null,
            "justify_content": null,
            "justify_items": null,
            "left": null,
            "margin": null,
            "max_height": null,
            "max_width": null,
            "min_height": null,
            "min_width": null,
            "object_fit": null,
            "object_position": null,
            "order": null,
            "overflow": null,
            "overflow_x": null,
            "overflow_y": null,
            "padding": null,
            "right": null,
            "top": null,
            "visibility": null,
            "width": null
          }
        },
        "44d75b3808aa4bef98c7643e4e763186": {
          "model_module": "@jupyter-widgets/controls",
          "model_name": "DescriptionStyleModel",
          "model_module_version": "1.5.0",
          "state": {
            "_model_module": "@jupyter-widgets/controls",
            "_model_module_version": "1.5.0",
            "_model_name": "DescriptionStyleModel",
            "_view_count": null,
            "_view_module": "@jupyter-widgets/base",
            "_view_module_version": "1.2.0",
            "_view_name": "StyleView",
            "description_width": ""
          }
        }
      }
    }
  },
  "cells": [
    {
      "cell_type": "markdown",
      "metadata": {
        "id": "view-in-github",
        "colab_type": "text"
      },
      "source": [
        "<a href=\"https://colab.research.google.com/github/eriksali/DNN_2023_NLP/blob/main/NLP_Pre_trained_Transformer_based_Models_save_to_drive.ipynb\" target=\"_parent\"><img src=\"https://colab.research.google.com/assets/colab-badge.svg\" alt=\"Open In Colab\"/></a>"
      ]
    },
    {
      "cell_type": "code",
      "execution_count": null,
      "metadata": {
        "id": "8THdp7bxJKlq"
      },
      "outputs": [],
      "source": []
    },
    {
      "cell_type": "code",
      "source": [
        "!pip install datasets "
      ],
      "metadata": {
        "id": "IJAAPZzmJybK"
      },
      "execution_count": null,
      "outputs": []
    },
    {
      "cell_type": "code",
      "source": [
        "!pip install transformers"
      ],
      "metadata": {
        "id": "_6ug1pxYJ8oY"
      },
      "execution_count": null,
      "outputs": []
    },
    {
      "cell_type": "code",
      "source": [
        "!pip install apache_beam"
      ],
      "metadata": {
        "id": "jW4DtJ8PKnaD"
      },
      "execution_count": null,
      "outputs": []
    },
    {
      "cell_type": "code",
      "source": [
        "from datasets import load_dataset, DatasetDict\n",
        "from transformers import AutoTokenizer, AutoModelForSequenceClassification, TrainingArguments, Trainer\n",
        "\n",
        "# Load the dataset\n",
        "dataset = load_dataset(\"emotion\")\n",
        "\n",
        "# Define the emotion labels\n",
        "emotions = dataset[\"train\"].features[\"label\"].names\n",
        "\n",
        "# Split the dataset\n",
        "dataset_dict = DatasetDict({\n",
        "    \"train\": dataset[\"train\"].shuffle().select(range(5000)),\n",
        "    \"test\": dataset[\"test\"].shuffle().select(range(1000))\n",
        "})\n",
        "\n",
        "# Load the tokenizer and the model\n",
        "tokenizer_bert = AutoTokenizer.from_pretrained(\"bert-base-cased\")\n",
        "model_bert = AutoModelForSequenceClassification.from_pretrained(\"bert-base-cased\", num_labels=len(emotions))\n",
        "\n",
        "tokenizer_distilbert = AutoTokenizer.from_pretrained(\"distilbert-base-uncased\")\n",
        "model_distilbert = AutoModelForSequenceClassification.from_pretrained(\"distilbert-base-uncased\", num_labels=len(emotions))\n",
        "\n",
        "# Tokenize the dataset\n",
        "'''def tokenize_dataset(dataset):\n",
        "    return tokenizer_bert(dataset[\"text\"], padding=True, truncation=True)\n",
        "\n",
        "tokenized_dataset = dataset_dict.map(tokenize_dataset, batched=True)'''\n",
        "\n",
        "def tokenize_dataset(dataset):\n",
        "    return tokenizer_bert(dataset[\"text\"], padding=True, truncation=True, max_length=64)\n",
        "\n",
        "tokenized_dataset = dataset_dict.map(tokenize_dataset, batched=True)\n",
        "\n",
        "\n",
        "# Define the training arguments\n",
        "training_args = TrainingArguments(\n",
        "    output_dir=\"./results\",\n",
        "    evaluation_strategy=\"epoch\",\n",
        "    learning_rate=2e-5,\n",
        "    per_device_train_batch_size=16,\n",
        "    per_device_eval_batch_size=16,\n",
        "    num_train_epochs=3,\n",
        "    weight_decay=0.01,\n",
        ")\n",
        "\n",
        "# Define the trainer\n",
        "trainer_bert = Trainer(\n",
        "    model=model_bert,\n",
        "    args=training_args,\n",
        "    train_dataset=tokenized_dataset[\"train\"],\n",
        "    eval_dataset=tokenized_dataset[\"test\"],\n",
        ")\n",
        "\n",
        "trainer_distilbert = Trainer(\n",
        "    model=model_distilbert,\n",
        "    args=training_args,\n",
        "    train_dataset=tokenized_dataset[\"train\"],\n",
        "    eval_dataset=tokenized_dataset[\"test\"],\n",
        ")\n",
        "\n",
        "# Fine-tune the model\n",
        "trainer_bert.train()\n",
        "trainer_distilbert.train()\n",
        "\n",
        "# Evaluate the model\n",
        "eval_results_bert = trainer_bert.evaluate()\n",
        "eval_results_distilbert = trainer_distilbert.evaluate()\n",
        "\n",
        "print(f\"BERT evaluation results: {eval_results_bert}\")\n",
        "print(f\"DistilBERT evaluation results: {eval_results_distilbert}\")\n"
      ],
      "metadata": {
        "colab": {
          "base_uri": "https://localhost:8080/",
          "height": 726,
          "referenced_widgets": [
            "f24d820281644600b8b0356e3e41cff4",
            "0cef04a77e2d4156b052683649db5cc8",
            "9bcab72ab0c54f53bbca8586656580a3",
            "1d4a7d1279b24ca8a355643346fd5e41",
            "9a06eb37bdcb42a7b6824063f71b4093",
            "f5b6cebabea84637a9224f020e64810e",
            "b878f5189ab74651a7507bda6a0bcf16",
            "1861e860693f4894ab1fb6d988f585db",
            "d8db19e122a54aef9cb7be2f5932089c",
            "cb2e35dea1624e649dd127177a9c582b",
            "4f435c15eb734810a5205bbe0817a31b",
            "f4f96132cd5a40ddabbb5077248acda8",
            "3d5fe6e5cdd847b28088f9bba8ae364c",
            "c97a42b69916446c81e452a46efd6533",
            "a0e68e4095d24991ab327fb98ebe40e3",
            "575c31fb21ad467c80ff3bdf5f6d1d85",
            "8f4a15bcc1b8495787dbca79af08d20f",
            "bd91d5caf3ca4e46be00fcbc41c289c3",
            "1664b2bacca944e0a86a72804f4ea23b",
            "0329b3be057c4e3eb0cc42af1e66da3e",
            "833356d378f8457799d08f8f2893ded7",
            "752c6d1d59114f6fb547235237532470",
            "74449fc2f24e4de89479f2e10375eb0f",
            "2ecdb9c96ac74150b9da1ec6084d10e4",
            "415923abba0741b29c8bb8dfa229030f",
            "80b8e3416f564ee8a70fc8cd610186a4",
            "1bbbd2ab550e4826b61b7582e5084e15",
            "8e645e4947784ff9afd2049aefc82bcb",
            "ed751ec2d61645c3a963ea66d38965f0",
            "b48404ca953e4916829846b5f2bcfcd6",
            "4716bd9293534aa88c1f543ed52ae6a4",
            "ee77c143f8ec4fdc8b7fe90fa8c21214",
            "44d75b3808aa4bef98c7643e4e763186"
          ]
        },
        "id": "CQnDuuF3Rr3V",
        "outputId": "4c37cfa4-ebf1-4b6e-c27d-15b4407169f9"
      },
      "execution_count": 18,
      "outputs": [
        {
          "output_type": "stream",
          "name": "stderr",
          "text": [
            "WARNING:datasets.builder:No config specified, defaulting to: emotion/split\n",
            "WARNING:datasets.builder:Found cached dataset emotion (/root/.cache/huggingface/datasets/emotion/split/1.0.0/cca5efe2dfeb58c1d098e0f9eeb200e9927d889b5a03c67097275dfb5fe463bd)\n"
          ]
        },
        {
          "output_type": "display_data",
          "data": {
            "text/plain": [
              "  0%|          | 0/3 [00:00<?, ?it/s]"
            ],
            "application/vnd.jupyter.widget-view+json": {
              "version_major": 2,
              "version_minor": 0,
              "model_id": "f24d820281644600b8b0356e3e41cff4"
            }
          },
          "metadata": {}
        },
        {
          "output_type": "stream",
          "name": "stderr",
          "text": [
            "WARNING:datasets.arrow_dataset:Loading cached shuffled indices for dataset at /root/.cache/huggingface/datasets/emotion/split/1.0.0/cca5efe2dfeb58c1d098e0f9eeb200e9927d889b5a03c67097275dfb5fe463bd/cache-0dbcdf0378f0b4e9.arrow\n",
            "WARNING:datasets.arrow_dataset:Loading cached shuffled indices for dataset at /root/.cache/huggingface/datasets/emotion/split/1.0.0/cca5efe2dfeb58c1d098e0f9eeb200e9927d889b5a03c67097275dfb5fe463bd/cache-22f7a87f174a094d.arrow\n",
            "Some weights of the model checkpoint at bert-base-cased were not used when initializing BertForSequenceClassification: ['cls.predictions.transform.LayerNorm.bias', 'cls.predictions.decoder.weight', 'cls.predictions.bias', 'cls.seq_relationship.bias', 'cls.seq_relationship.weight', 'cls.predictions.transform.dense.bias', 'cls.predictions.transform.LayerNorm.weight', 'cls.predictions.transform.dense.weight']\n",
            "- This IS expected if you are initializing BertForSequenceClassification from the checkpoint of a model trained on another task or with another architecture (e.g. initializing a BertForSequenceClassification model from a BertForPreTraining model).\n",
            "- This IS NOT expected if you are initializing BertForSequenceClassification from the checkpoint of a model that you expect to be exactly identical (initializing a BertForSequenceClassification model from a BertForSequenceClassification model).\n",
            "Some weights of BertForSequenceClassification were not initialized from the model checkpoint at bert-base-cased and are newly initialized: ['classifier.bias', 'classifier.weight']\n",
            "You should probably TRAIN this model on a down-stream task to be able to use it for predictions and inference.\n",
            "Some weights of the model checkpoint at distilbert-base-uncased were not used when initializing DistilBertForSequenceClassification: ['vocab_projector.bias', 'vocab_projector.weight', 'vocab_layer_norm.bias', 'vocab_transform.bias', 'vocab_layer_norm.weight', 'vocab_transform.weight']\n",
            "- This IS expected if you are initializing DistilBertForSequenceClassification from the checkpoint of a model trained on another task or with another architecture (e.g. initializing a BertForSequenceClassification model from a BertForPreTraining model).\n",
            "- This IS NOT expected if you are initializing DistilBertForSequenceClassification from the checkpoint of a model that you expect to be exactly identical (initializing a BertForSequenceClassification model from a BertForSequenceClassification model).\n",
            "Some weights of DistilBertForSequenceClassification were not initialized from the model checkpoint at distilbert-base-uncased and are newly initialized: ['classifier.bias', 'classifier.weight', 'pre_classifier.bias', 'pre_classifier.weight']\n",
            "You should probably TRAIN this model on a down-stream task to be able to use it for predictions and inference.\n"
          ]
        },
        {
          "output_type": "display_data",
          "data": {
            "text/plain": [
              "Map:   0%|          | 0/5000 [00:00<?, ? examples/s]"
            ],
            "application/vnd.jupyter.widget-view+json": {
              "version_major": 2,
              "version_minor": 0,
              "model_id": "f4f96132cd5a40ddabbb5077248acda8"
            }
          },
          "metadata": {}
        },
        {
          "output_type": "display_data",
          "data": {
            "text/plain": [
              "Map:   0%|          | 0/1000 [00:00<?, ? examples/s]"
            ],
            "application/vnd.jupyter.widget-view+json": {
              "version_major": 2,
              "version_minor": 0,
              "model_id": "74449fc2f24e4de89479f2e10375eb0f"
            }
          },
          "metadata": {}
        },
        {
          "output_type": "display_data",
          "data": {
            "text/plain": [
              "<IPython.core.display.HTML object>"
            ],
            "text/html": [
              "\n",
              "    <div>\n",
              "      \n",
              "      <progress value='939' max='939' style='width:300px; height:20px; vertical-align: middle;'></progress>\n",
              "      [939/939 3:13:29, Epoch 3/3]\n",
              "    </div>\n",
              "    <table border=\"1\" class=\"dataframe\">\n",
              "  <thead>\n",
              " <tr style=\"text-align: left;\">\n",
              "      <th>Epoch</th>\n",
              "      <th>Training Loss</th>\n",
              "      <th>Validation Loss</th>\n",
              "    </tr>\n",
              "  </thead>\n",
              "  <tbody>\n",
              "    <tr>\n",
              "      <td>1</td>\n",
              "      <td>No log</td>\n",
              "      <td>0.358048</td>\n",
              "    </tr>\n",
              "    <tr>\n",
              "      <td>2</td>\n",
              "      <td>0.666000</td>\n",
              "      <td>0.250329</td>\n",
              "    </tr>\n",
              "    <tr>\n",
              "      <td>3</td>\n",
              "      <td>0.666000</td>\n",
              "      <td>0.263554</td>\n",
              "    </tr>\n",
              "  </tbody>\n",
              "</table><p>"
            ]
          },
          "metadata": {}
        },
        {
          "output_type": "stream",
          "name": "stderr",
          "text": [
            "/usr/local/lib/python3.9/dist-packages/transformers/optimization.py:391: FutureWarning: This implementation of AdamW is deprecated and will be removed in a future version. Use the PyTorch implementation torch.optim.AdamW instead, or set `no_deprecation_warning=True` to disable this warning\n",
            "  warnings.warn(\n"
          ]
        },
        {
          "output_type": "display_data",
          "data": {
            "text/plain": [
              "<IPython.core.display.HTML object>"
            ],
            "text/html": [
              "\n",
              "    <div>\n",
              "      \n",
              "      <progress value='939' max='939' style='width:300px; height:20px; vertical-align: middle;'></progress>\n",
              "      [939/939 1:40:33, Epoch 3/3]\n",
              "    </div>\n",
              "    <table border=\"1\" class=\"dataframe\">\n",
              "  <thead>\n",
              " <tr style=\"text-align: left;\">\n",
              "      <th>Epoch</th>\n",
              "      <th>Training Loss</th>\n",
              "      <th>Validation Loss</th>\n",
              "    </tr>\n",
              "  </thead>\n",
              "  <tbody>\n",
              "    <tr>\n",
              "      <td>1</td>\n",
              "      <td>No log</td>\n",
              "      <td>1.558410</td>\n",
              "    </tr>\n",
              "    <tr>\n",
              "      <td>2</td>\n",
              "      <td>1.573200</td>\n",
              "      <td>1.406392</td>\n",
              "    </tr>\n",
              "    <tr>\n",
              "      <td>3</td>\n",
              "      <td>1.573200</td>\n",
              "      <td>1.292105</td>\n",
              "    </tr>\n",
              "  </tbody>\n",
              "</table><p>"
            ]
          },
          "metadata": {}
        },
        {
          "output_type": "display_data",
          "data": {
            "text/plain": [
              "<IPython.core.display.HTML object>"
            ],
            "text/html": [
              "\n",
              "    <div>\n",
              "      \n",
              "      <progress value='63' max='63' style='width:300px; height:20px; vertical-align: middle;'></progress>\n",
              "      [63/63 03:33]\n",
              "    </div>\n",
              "    "
            ]
          },
          "metadata": {}
        },
        {
          "output_type": "display_data",
          "data": {
            "text/plain": [
              "<IPython.core.display.HTML object>"
            ],
            "text/html": [
              "\n",
              "    <div>\n",
              "      \n",
              "      <progress value='63' max='63' style='width:300px; height:20px; vertical-align: middle;'></progress>\n",
              "      [63/63 01:57]\n",
              "    </div>\n",
              "    "
            ]
          },
          "metadata": {}
        },
        {
          "output_type": "stream",
          "name": "stdout",
          "text": [
            "BERT evaluation results: {'eval_loss': 0.26355400681495667, 'eval_runtime': 218.3504, 'eval_samples_per_second': 4.58, 'eval_steps_per_second': 0.289, 'epoch': 3.0}\n",
            "DistilBERT evaluation results: {'eval_loss': 1.292104721069336, 'eval_runtime': 120.0263, 'eval_samples_per_second': 8.332, 'eval_steps_per_second': 0.525, 'epoch': 3.0}\n"
          ]
        }
      ]
    },
    {
      "cell_type": "code",
      "source": [
        "\n",
        "\n",
        "# Save the fine-tuned BERT model\n",
        "bert_model_path = \"./bert_emotion_classification\"\n",
        "model_bert.save_pretrained(bert_model_path)\n",
        "\n",
        "# Save the fine-tuned DistilBERT model\n",
        "distilbert_model_path = \"./distilbert_emotion_classification\"\n",
        "model_distilbert.save_pretrained(distilbert_model_path)\n"
      ],
      "metadata": {
        "id": "v4OT5_VEXMwL"
      },
      "execution_count": 21,
      "outputs": []
    },
    {
      "cell_type": "code",
      "source": [
        "# Define output directory\n",
        "output_dir = './emotion_classification_bert/'\n",
        "\n",
        "import os\n",
        "# Create output directory if it doesn't exist\n",
        "if not os.path.exists(output_dir):\n",
        "    os.makedirs(output_dir)\n",
        "\n",
        "# Save model to output directory\n",
        "model_bert.save_pretrained(output_dir)\n",
        "\n",
        "# Save tokenizer to output directory\n",
        "tokenizer_bert.save_pretrained(output_dir)\n",
        "\n",
        "!zip -r emotion_classification_bert.zip emotion_classification_bert\n",
        "\n",
        "# Define output directory\n",
        "output_dir = './emotion_classification_distilbert/'\n",
        "\n",
        "import os\n",
        "# Create output directory if it doesn't exist\n",
        "if not os.path.exists(output_dir):\n",
        "    os.makedirs(output_dir)\n",
        "\n",
        "# Save model to output directory\n",
        "model_distilbert.save_pretrained(output_dir)\n",
        "\n",
        "# Save tokenizer to output directory\n",
        "tokenizer_distilbert.save_pretrained(output_dir)\n",
        "\n",
        "!zip -r emotion_classification_distilbert.zip emotion_classification_distilbert\n",
        "\n"
      ],
      "metadata": {
        "colab": {
          "base_uri": "https://localhost:8080/"
        },
        "id": "TmaaSAYRcqb9",
        "outputId": "8837c653-4aa2-4427-93b0-921469337d4a"
      },
      "execution_count": 30,
      "outputs": [
        {
          "output_type": "stream",
          "name": "stdout",
          "text": [
            "updating: emotion_classification_bert/ (stored 0%)\n",
            "updating: emotion_classification_bert/pytorch_model.bin (deflated 7%)\n",
            "updating: emotion_classification_bert/vocab.txt (deflated 49%)\n",
            "updating: emotion_classification_bert/config.json (deflated 54%)\n",
            "updating: emotion_classification_bert/tokenizer.json (deflated 70%)\n",
            "updating: emotion_classification_bert/special_tokens_map.json (deflated 42%)\n",
            "updating: emotion_classification_bert/tokenizer_config.json (deflated 46%)\n",
            "updating: emotion_classification_distilbert/ (stored 0%)\n",
            "updating: emotion_classification_distilbert/pytorch_model.bin (deflated 8%)\n",
            "updating: emotion_classification_distilbert/config.json (deflated 52%)\n",
            "  adding: emotion_classification_distilbert/vocab.txt (deflated 53%)\n",
            "  adding: emotion_classification_distilbert/tokenizer.json (deflated 71%)\n",
            "  adding: emotion_classification_distilbert/special_tokens_map.json (deflated 42%)\n",
            "  adding: emotion_classification_distilbert/tokenizer_config.json (deflated 42%)\n"
          ]
        }
      ]
    },
    {
      "cell_type": "code",
      "source": [
        "!unzip -uq \"/content/emotion_classification_bert.zip\" -d \"/content/\" \n",
        "\n",
        "from transformers import BertForSequenceClassification, BertTokenizer\n",
        "# Load saved model\n",
        "model_bert = BertForSequenceClassification.from_pretrained('emotion_classification_bert')\n",
        "\n",
        "# Load saved tokenizer\n",
        "tokenizer_bert = BertTokenizer.from_pretrained('emotion_classification_bert')\n",
        "\n",
        "sentence = \"Hello, how are you?\"\n",
        "inputs = tokenizer_bert(sentence, return_tensors='pt')\n",
        "outputs = model_bert(**inputs)\n",
        "print(outputs)\n",
        "\n",
        "\n",
        "!unzip -uq \"/content/emotion_classification_distilbert.zip\" -d \"/content/\" \n",
        "\n",
        "from transformers import DistilBertTokenizer, DistilBertModel\n",
        "# Load saved model\n",
        "model_distilbert = DistilBertModel.from_pretrained('emotion_classification_distilbert')\n",
        "\n",
        "# Load saved tokenizer\n",
        "tokenizer_distilbert = DistilBertTokenizer.from_pretrained('emotion_classification_distilbert')\n",
        "\n",
        "sentence = \"Hello, how are you?\"\n",
        "inputs = tokenizer_distilbert(sentence, return_tensors='pt')\n",
        "outputs = model_distilbert(**inputs)\n",
        "print(outputs)"
      ],
      "metadata": {
        "colab": {
          "base_uri": "https://localhost:8080/"
        },
        "id": "MT3E6Pxpfo9a",
        "outputId": "e86d9f52-e612-43a8-a3cd-49a456d8acfb"
      },
      "execution_count": 34,
      "outputs": [
        {
          "output_type": "stream",
          "name": "stdout",
          "text": [
            "SequenceClassifierOutput(loss=None, logits=tensor([[-0.4119,  2.9381, -0.9873,  0.1655, -0.1946, -0.9263]],\n",
            "       grad_fn=<AddmmBackward0>), hidden_states=None, attentions=None)\n"
          ]
        },
        {
          "output_type": "stream",
          "name": "stderr",
          "text": [
            "Some weights of the model checkpoint at emotion_classification_distilbert were not used when initializing DistilBertModel: ['classifier.bias', 'classifier.weight', 'pre_classifier.bias', 'pre_classifier.weight']\n",
            "- This IS expected if you are initializing DistilBertModel from the checkpoint of a model trained on another task or with another architecture (e.g. initializing a BertForSequenceClassification model from a BertForPreTraining model).\n",
            "- This IS NOT expected if you are initializing DistilBertModel from the checkpoint of a model that you expect to be exactly identical (initializing a BertForSequenceClassification model from a BertForSequenceClassification model).\n"
          ]
        },
        {
          "output_type": "stream",
          "name": "stdout",
          "text": [
            "BaseModelOutput(last_hidden_state=tensor([[[-0.4762, -0.8302,  0.0108,  ..., -0.0368,  1.4159,  0.0619],\n",
            "         [ 0.0206, -0.4679,  0.2187,  ...,  0.2304,  1.4955, -0.3915],\n",
            "         [-0.4497,  0.0608,  0.5119,  ..., -0.3182,  0.9448, -0.1339],\n",
            "         ...,\n",
            "         [-0.0048, -1.0545,  0.6014,  ...,  0.2451,  1.2031, -0.5100],\n",
            "         [-0.2260, -0.8109, -0.1103,  ..., -0.2533,  1.4551, -0.1857],\n",
            "         [ 0.7890,  0.1797, -0.5541,  ...,  0.3301, -0.0665, -0.5065]]],\n",
            "       grad_fn=<NativeLayerNormBackward0>), hidden_states=None, attentions=None)\n"
          ]
        }
      ]
    },
    {
      "cell_type": "code",
      "source": [
        "inputs = tokenizer_bert('Hello, how are you?', return_tensors='pt')\n",
        "outputs = model_bert(**inputs)\n",
        "outputs"
      ],
      "metadata": {
        "colab": {
          "base_uri": "https://localhost:8080/"
        },
        "id": "5dtd8j1rddk8",
        "outputId": "9881b24a-4516-46c4-b905-f9abe20ffd65"
      },
      "execution_count": 28,
      "outputs": [
        {
          "output_type": "execute_result",
          "data": {
            "text/plain": [
              "SequenceClassifierOutput(loss=None, logits=tensor([[-0.4119,  2.9381, -0.9873,  0.1655, -0.1946, -0.9263]],\n",
              "       grad_fn=<AddmmBackward0>), hidden_states=None, attentions=None)"
            ]
          },
          "metadata": {},
          "execution_count": 28
        }
      ]
    },
    {
      "cell_type": "code",
      "source": [
        "from google.colab import drive\n",
        "drive.mount('/content/drive')\n",
        "\n",
        "from google.colab import files\n",
        "files.view('drive/My Drive/')\n",
        "\n",
        "import shutil\n",
        "\n",
        "# Set the source path (path of the file in the Colab runtime)\n",
        "src_path = '/content/' + 'emotion_classification_bert.zip'\n",
        "\n",
        "# Set the destination path (path of the file in your Google Drive)\n",
        "dst_path = '/content/drive/My Drive/' + 'emotion_classification_bert.zip'\n",
        "\n",
        "# Move the file from the source path to the destination path\n",
        "shutil.move(src_path, dst_path)\n",
        "\n",
        "\n",
        "# Set the source path (path of the file in the Colab runtime)\n",
        "src_path = '/content/' + 'emotion_classification_distilbert.zip'\n",
        "\n",
        "# Set the destination path (path of the file in your Google Drive)\n",
        "dst_path = '/content/drive/My Drive/' + 'emotion_classification_distilbert.zip'\n",
        "\n",
        "# Move the file from the source path to the destination path\n",
        "shutil.move(src_path, dst_path)"
      ],
      "metadata": {
        "id": "al4koPZe8DxU"
      },
      "execution_count": null,
      "outputs": []
    },
    {
      "cell_type": "code",
      "source": [
        "# Set the source path (path of the file in the Colab runtime)\n",
        "src_path = '/content/' + 'emotion_classification_bert.zip'\n",
        "\n",
        "# Set the destination path (path of the file in your Google Drive)\n",
        "dst_path = '/content/drive/My Drive/' + 'emotion_classification_bert.zip'\n",
        "\n",
        "# Move the file from the source path to the destination path\n",
        "shutil.move(src_path, dst_path)"
      ],
      "metadata": {
        "colab": {
          "base_uri": "https://localhost:8080/",
          "height": 35
        },
        "id": "Hq_LXJy78pac",
        "outputId": "790446f2-cb3c-4c12-9379-741c3178c045"
      },
      "execution_count": 38,
      "outputs": [
        {
          "output_type": "execute_result",
          "data": {
            "text/plain": [
              "'/content/drive/My Drive/emotion_classification_bert.zip'"
            ],
            "application/vnd.google.colaboratory.intrinsic+json": {
              "type": "string"
            }
          },
          "metadata": {},
          "execution_count": 38
        }
      ]
    },
    {
      "cell_type": "code",
      "source": [
        "# Set the source path (path of the file in the Colab runtime)\n",
        "src_path = '/content/' + 'emotion_classification_distilbert.zip'\n",
        "\n",
        "# Set the destination path (path of the file in your Google Drive)\n",
        "dst_path = '/content/drive/My Drive/' + 'emotion_classification_distilbert.zip'\n",
        "\n",
        "# Move the file from the source path to the destination path\n",
        "shutil.move(src_path, dst_path)"
      ],
      "metadata": {
        "colab": {
          "base_uri": "https://localhost:8080/",
          "height": 35
        },
        "id": "wg0dYwM186UA",
        "outputId": "d011024e-0cab-4395-acd1-863b147d5a99"
      },
      "execution_count": 39,
      "outputs": [
        {
          "output_type": "execute_result",
          "data": {
            "text/plain": [
              "'/content/drive/My Drive/emotion_classification_distilbert.zip'"
            ],
            "application/vnd.google.colaboratory.intrinsic+json": {
              "type": "string"
            }
          },
          "metadata": {},
          "execution_count": 39
        }
      ]
    },
    {
      "cell_type": "code",
      "source": [
        "import datasets\n",
        "from transformers import AutoTokenizer, AutoModelForSequenceClassification, Trainer, TrainingArguments\n",
        "\n",
        "# Load the dataset\n",
        "dataset = datasets.load_dataset('go_emotions', split='train[:80%]')\n",
        "\n",
        "# Load the tokenizer and encode the dataset\n",
        "tokenizer = AutoTokenizer.from_pretrained('bert-base-uncased')\n",
        "encoded_dataset = dataset.map(lambda examples: tokenizer(examples['text'], padding=True, truncation=True), batched=True)\n",
        "\n",
        "# Load the pre-trained BERT model\n",
        "model = AutoModelForSequenceClassification.from_pretrained('bert-base-uncased', num_labels=28)\n",
        "\n",
        "# Define the training arguments\n",
        "training_args = TrainingArguments(\n",
        "    output_dir='./results',          # output directory\n",
        "    evaluation_strategy='epoch',     # evaluate every epoch\n",
        "    learning_rate=2e-5,              # learning rate\n",
        "    per_device_train_batch_size=32,  # batch size for training\n",
        "    per_device_eval_batch_size=64,   # batch size for evaluation\n",
        "    num_train_epochs=3,              # total number of training epochs\n",
        "    weight_decay=0.01,               # weight decay\n",
        "    push_to_hub=False,               # whether to push the fine-tuned model to the Hugging Face model hub\n",
        "    logging_dir='./logs',            # directory for storing logs\n",
        "    logging_steps=10,\n",
        "    load_best_model_at_end=True,     # load the best model at the end of training\n",
        "    metric_for_best_model=\"accuracy\",\n",
        ")\n",
        "\n",
        "# Define the Trainer object and fine-tune the BERT model\n",
        "trainer = Trainer(\n",
        "    model=model,\n",
        "    args=training_args,\n",
        "    train_dataset=encoded_dataset,\n",
        "    compute_metrics=compute_metrics,\n",
        ")\n",
        "trainer.train()\n",
        "\n",
        "# Save the fine-tuned BERT model\n",
        "trainer.save_model('./models/bert_emotion_classification')\n",
        "\n",
        "# Fine-tune the DistilBERT model\n",
        "distilbert_model = AutoModelForSequenceClassification.from_pretrained('distilbert-base-uncased', num_labels=28)\n",
        "distilbert_trainer = Trainer(\n",
        "    model=distilbert_model,\n",
        "    args=training_args,\n",
        "    train_dataset=encoded_dataset,\n",
        "    compute_metrics=compute_metrics,\n",
        ")\n",
        "distilbert_trainer.train()\n",
        "\n",
        "# Save the fine-tuned DistilBERT model\n",
        "distilbert_trainer.save_model('./models/distilbert_emotion_classification')\n",
        "\n",
        "# Load the test dataset and encode it\n",
        "test_dataset = datasets.load_dataset('go_emotions', split='train[80%:]')\n",
        "encoded_test_dataset = test_dataset.map(lambda examples: tokenizer(examples['text'], padding=True, truncation=True), batched=True)\n",
        "\n",
        "# Define the function to compute the metrics\n",
        "def compute_metrics(eval_pred):\n",
        "    logits, labels = eval_pred\n",
        "    predictions = logits.argmax(axis=-1)\n",
        "    accuracy = (predictions == labels).mean()\n",
        "    precision = precision_score(labels, predictions, average='macro')\n",
        "    recall = recall_score(labels, predictions, average='macro')\n",
        "    f1 = f1_score(labels, predictions, average='macro')\n",
        "    return {\n",
        "        'accuracy': accuracy,\n",
        "        'precision': precision,\n",
        "        'recall': recall,\n",
        "        'f1': f1,\n",
        "    }\n",
        "\n",
        "# Evaluate the fine-tuned BERT model on the test dataset\n",
        "bert_eval_result = trainer.evaluate(encoded_test_dataset)\n",
        "print(\"BERT Evaluation Result:\")\n",
        "for key, value in bert_eval_result.items():\n",
        "    print(f\"{key}: {value:.4f}\")\n",
        "\n",
        "# Evaluate the fine-tuned DistilBERT model on the test dataset\n",
        "distilbert_eval_result = distilbert_trainer.evaluate(encoded_test_dataset)\n",
        "print(\"DistilBERT Evaluation Result:\")\n",
        "for key, value in distilbert_eval_result.items():\n",
        "  print(f\"{key}: {value:.4f}\")\n"
      ],
      "metadata": {
        "id": "1K3PUSgk0CdA"
      },
      "execution_count": null,
      "outputs": []
    },
    {
      "cell_type": "code",
      "source": [
        "# Define output directory\n",
        "output_dir = './emotion_classification_bert/'\n",
        "\n",
        "# Create output directory if it doesn't exist\n",
        "if not os.path.exists(output_dir):\n",
        "    os.makedirs(output_dir)\n",
        "\n",
        "# Save model to output directory\n",
        "model_bert.save_pretrained(output_dir)\n",
        "\n",
        "# Load saved model\n",
        "model_bert = BertForSequenceClassification.from_pretrained(output_dir)\n",
        "\n",
        "# Save tokenizer to output directory\n",
        "tokenizer.save_pretrained(output_dir)\n",
        "# Load saved tokenizer\n",
        "tokenizer = BertTokenizer.from_pretrained(output_dir)\n"
      ],
      "metadata": {
        "id": "A-JJ2Ukdt1SZ"
      },
      "execution_count": null,
      "outputs": []
    },
    {
      "cell_type": "code",
      "source": [
        "import torch\n",
        "from transformers import pipeline, AutoModelForSequenceClassification, AutoTokenizer\n",
        "from datasets import load_dataset\n",
        "\n",
        "# Load the emotion dataset\n",
        "dataset = load_dataset(\"emotion\")\n",
        "\n",
        "# Instantiate the zero-shot classification pipeline\n",
        "classifier = pipeline(\n",
        "    \"zero-shot-classification\",\n",
        "    model=\"joeddav/bart-large-mnli-yahoo-answers\",\n",
        "    tokenizer=\"joeddav/bart-large-mnli-yahoo-answers\",\n",
        ")\n",
        "\n",
        "# Example prompt for offensive classification\n",
        "prompt = \"Is this text offensive? Answer yes or no.\\n\"\n",
        "\n",
        "# Use a few examples from the dataset to create classification prompts\n",
        "text = dataset[\"train\"][\"text\"][:5]\n",
        "labels = dataset[\"train\"][\"label\"][:5]\n",
        "prompts = [prompt + t for t in text]\n",
        "\n",
        "# Use the zero-shot classifier on the test set\n",
        "test_text = dataset[\"test\"][\"text\"]\n",
        "test_labels = dataset[\"test\"][\"label\"]\n",
        "zero_shot_preds = classifier(prompts, test_text)\n",
        "\n",
        "# Evaluate zero-shot classification\n",
        "correct = 0\n",
        "total = len(test_labels)\n",
        "for i, pred in enumerate(zero_shot_preds):\n",
        "    label_pred = pred[\"labels\"][0]\n",
        "    if label_pred == labels[i]:\n",
        "        correct += 1\n",
        "\n",
        "accuracy = correct / total\n",
        "print(f\"Zero-shot classification accuracy: {accuracy:.4f}\")\n"
      ],
      "metadata": {
        "id": "uSsm3UqhhDFY"
      },
      "execution_count": null,
      "outputs": []
    },
    {
      "cell_type": "code",
      "source": [
        "from transformers import pipeline\n",
        "\n",
        "zero_shot_classifier = pipeline(\"zero-shot-classification\", model=\"EleutherAI/gpt-neo-2.7B\")\n",
        "\n",
        "prompts = [\"Is this text about anger, fear, joy, love, sadness, or surprise?\",\n",
        "           \"What is the emotion expressed in this text?\",\n",
        "           \"Can you classify the emotion in this text?\",\n",
        "           \"Which of these emotions best describes the sentiment in this text?\"]\n",
        "\n",
        "zero_shot_results = []\n",
        "for prompt in prompts:\n",
        "    zero_shot_results.append(zero_shot_classifier(test_data[\"text\"], candidate_labels=[\"anger\", \"fear\", \"joy\", \"love\", \"sadness\", \"surprise\"], prompt=prompt))\n",
        "\n",
        "print(\"Zero-shot classification results:\", zero_shot_results)\n"
      ],
      "metadata": {
        "id": "yOPuv8LVVsoc"
      },
      "execution_count": null,
      "outputs": []
    },
    {
      "cell_type": "code",
      "source": [
        "from transformers import pipeline\n",
        "\n",
        "# Load the zero-shot classification pipeline\n",
        "classifier = pipeline(\"zero-shot-classification\")\n",
        "\n",
        "# Define the movie review test set\n",
        "reviews = [\n",
        "    \"I really enjoyed this movie, it was great!\",\n",
        "    \"This movie was terrible, I would never watch it again.\",\n",
        "    \"The acting in this movie was amazing, but the plot was lacking.\",\n",
        "    \"I found this movie to be very boring and uninteresting.\"\n",
        "]\n",
        "\n",
        "# Define the true labels for the test set\n",
        "labels = [\"positive\", \"negative\", \"positive\", \"negative\"]\n",
        "\n",
        "# Classify each review and evaluate the results\n",
        "predicted_labels = classifier(reviews, candidate_labels=[\"positive\", \"negative\"], multi_label=False)\n",
        "\n",
        "# Calculate evaluation metrics\n",
        "accuracy = sum([1 if predicted_labels[i]['labels'][0] == labels[i] else 0 for i in range(len(labels))]) / len(labels)\n",
        "precision = sum([1 if predicted_labels[i]['labels'][0] == labels[i] and predicted_labels[i]['scores'][0] > 0.5 else 0 for i in range(len(labels))]) / sum([1 if predicted_labels[i]['labels'][0] == 'positive' else 0 for i in range(len(labels))])\n",
        "recall = sum([1 if predicted_labels[i]['labels'][0] == labels[i] and predicted_labels[i]['scores'][0] > 0.5 else 0 for i in range(len(labels))]) / sum([1 if labels[i] == 'positive' else 0 for i in range(len(labels))])\n",
        "f1_score = 2 * precision * recall / (precision + recall)\n",
        "\n",
        "# Print evaluation metrics\n",
        "print(\"Accuracy:\", accuracy)\n",
        "print(\"Precision:\", precision)\n",
        "print(\"Recall:\", recall)\n",
        "print(\"F1 score:\", f1_score)\n"
      ],
      "metadata": {
        "id": "ZHT1-db4VJq8"
      },
      "execution_count": null,
      "outputs": []
    },
    {
      "cell_type": "code",
      "source": [],
      "metadata": {
        "id": "JcpZcoswJLMS"
      },
      "execution_count": null,
      "outputs": []
    }
  ]
}