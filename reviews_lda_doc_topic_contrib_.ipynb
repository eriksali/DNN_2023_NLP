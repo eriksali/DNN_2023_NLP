{
  "nbformat": 4,
  "nbformat_minor": 0,
  "metadata": {
    "colab": {
      "provenance": [],
      "authorship_tag": "ABX9TyPVUYkeHSRoH7uKuYYcQiyP",
      "include_colab_link": true
    },
    "kernelspec": {
      "name": "python3",
      "display_name": "Python 3"
    },
    "language_info": {
      "name": "python"
    }
  },
  "cells": [
    {
      "cell_type": "markdown",
      "metadata": {
        "id": "view-in-github",
        "colab_type": "text"
      },
      "source": [
        "<a href=\"https://colab.research.google.com/github/eriksali/DNN_2023_NLP/blob/main/reviews_lda_doc_topic_contrib_.ipynb\" target=\"_parent\"><img src=\"https://colab.research.google.com/assets/colab-badge.svg\" alt=\"Open In Colab\"/></a>"
      ]
    },
    {
      "cell_type": "code",
      "execution_count": null,
      "metadata": {
        "id": "0X71SblHj5kd"
      },
      "outputs": [],
      "source": [
        "%load_ext autoreload\n",
        "%autoreload 2"
      ]
    },
    {
      "cell_type": "code",
      "source": [
        "# for text preprocessing\n",
        "import re\n",
        "import spacy\n",
        "\n",
        "from nltk.corpus import stopwords \n",
        "from nltk.stem.wordnet import WordNetLemmatizer\n",
        "import string\n",
        "\n",
        "# import numpy for matrix operation\n",
        "import numpy as np\n",
        "\n",
        "# Importing Gensim\n",
        "import gensim\n",
        "from gensim import corpora\n",
        "# to suppress warnings\n",
        "from warnings import filterwarnings\n",
        "filterwarnings('ignore')\n",
        "\n"
      ],
      "metadata": {
        "id": "f0BLGdXrkJaR"
      },
      "execution_count": null,
      "outputs": []
    },
    {
      "cell_type": "code",
      "source": [
        "#from google.colab import files\n",
        "#src = list(files.upload().values())[0]\n",
        "#open('utils.py','wb').write(src)"
      ],
      "metadata": {
        "id": "TZSq28h748tF"
      },
      "execution_count": null,
      "outputs": []
    },
    {
      "cell_type": "code",
      "source": [
        "\n",
        "\n",
        "#from utils import load_data\n",
        "#from utils import preprocess_pipeline"
      ],
      "metadata": {
        "id": "zt_q0MpLmCGO"
      },
      "execution_count": null,
      "outputs": []
    },
    {
      "cell_type": "code",
      "source": [
        "from google.colab import drive\n",
        "drive.mount('/content/drive/')"
      ],
      "metadata": {
        "colab": {
          "base_uri": "https://localhost:8080/"
        },
        "id": "JbdiGj7ukJuU",
        "outputId": "00036dea-a80b-47ad-a967-bde47a19cc87"
      },
      "execution_count": null,
      "outputs": [
        {
          "output_type": "stream",
          "name": "stdout",
          "text": [
            "Mounted at /content/drive/\n"
          ]
        }
      ]
    },
    {
      "cell_type": "code",
      "source": [
        "#dirpath = '/content/drive/MyDrive/lda_silhouette/Names_no_duplicates/'\n",
        "dirpath = '/content/drive/MyDrive/Names_2000/'\n",
        "#output = '/content/drive/MyDrive/lda_silhouette/name.csv'\n",
        "\n",
        "import os \n",
        "\n",
        "files = [os.path.join(dirpath, fname) for fname in os.listdir(dirpath)]\n",
        "corpus = []\n",
        "\n",
        "for filename in sorted(files):\n",
        "    with open(filename, 'r') as f:\n",
        "        corpus += [f.read()]\n",
        "# corpus"
      ],
      "metadata": {
        "id": "lFuul4TWSsky"
      },
      "execution_count": null,
      "outputs": []
    },
    {
      "cell_type": "code",
      "source": [
        "corpus"
      ],
      "metadata": {
        "id": "Tee9wvC-w9Oy"
      },
      "execution_count": null,
      "outputs": []
    },
    {
      "cell_type": "code",
      "source": [
        "  \n",
        "# Apply Preprocessing on the Corpus\n",
        "\n",
        "import nltk\n",
        "\n",
        "nltk.download('wordnet')\n",
        "nltk.download('stopwords')\n",
        "\n",
        "# stop loss words \n",
        "stop = set(stopwords.words('english'))\n",
        "\n",
        "# punctuation \n",
        "exclude = set(string.punctuation) \n",
        "\n",
        "# lemmatization\n",
        "lemma = WordNetLemmatizer() \n",
        "\n",
        "# One function for all the steps:\n",
        "def clean(doc):\n",
        "    \n",
        "    # convert text into lower case + split into words\n",
        "    stop_free = \" \".join([i for i in doc.lower().split() if i not in stop])\n",
        "    \n",
        "    # remove any stop words present\n",
        "    punc_free = ''.join(ch for ch in stop_free if ch not in exclude)  \n",
        "    \n",
        "    # remove punctuations + normalize the text\n",
        "    normalized = \" \".join(lemma.lemmatize(word) for word in punc_free.split())  \n",
        "    return normalized\n",
        "\n",
        "# clean data stored in a new list\n",
        "clean_corpus    = [clean(doc).split() for doc in corpus] \n",
        "data_lemmatized = [clean(doc).split() for doc in corpus] "
      ],
      "metadata": {
        "id": "tPe9FMP_WAHS",
        "colab": {
          "base_uri": "https://localhost:8080/"
        },
        "outputId": "65fd35ea-7f0d-4d52-bc02-9a5d7a1a158d"
      },
      "execution_count": null,
      "outputs": [
        {
          "output_type": "stream",
          "name": "stdout",
          "text": [
            "[nltk_data] Downloading package wordnet to /root/nltk_data...\n",
            "[nltk_data]   Unzipping corpora/wordnet.zip.\n",
            "[nltk_data] Downloading package stopwords to /root/nltk_data...\n",
            "[nltk_data]   Unzipping corpora/stopwords.zip.\n"
          ]
        }
      ]
    },
    {
      "cell_type": "code",
      "source": [
        "clean_corpus"
      ],
      "metadata": {
        "id": "BemmdO7wWOVP"
      },
      "execution_count": null,
      "outputs": []
    },
    {
      "cell_type": "code",
      "source": [
        "# Create Dictionary\n",
        "id2word = corpora.Dictionary(data_lemmatized)\n",
        "\n",
        "# Create Corpus\n",
        "texts = data_lemmatized\n",
        "\n",
        "# Term Document Frequency\n",
        "corpus = [id2word.doc2bow(text) for text in texts]\n",
        "\n",
        "# View\n",
        "print(corpus[:3])"
      ],
      "metadata": {
        "id": "ONBPW7YEy2FT",
        "colab": {
          "base_uri": "https://localhost:8080/"
        },
        "outputId": "e3beff2f-7666-4635-a228-cc9ba73d3e81"
      },
      "execution_count": null,
      "outputs": [
        {
          "output_type": "stream",
          "name": "stdout",
          "text": [
            "[[(0, 1), (1, 1), (2, 1), (3, 2), (4, 2), (5, 1), (6, 2), (7, 2), (8, 2)], [(8, 3), (9, 2), (10, 1), (11, 4), (12, 2), (13, 1), (14, 1), (15, 2), (16, 1), (17, 2)], [(1, 5), (18, 1), (19, 1), (20, 4), (21, 1), (22, 4), (23, 3), (24, 1), (25, 4), (26, 4), (27, 1), (28, 1), (29, 12), (30, 1), (31, 4), (32, 1), (33, 2), (34, 2), (35, 2), (36, 2), (37, 1), (38, 13), (39, 4), (40, 9), (41, 1), (42, 2), (43, 2), (44, 2), (45, 12), (46, 4), (47, 2), (48, 3), (49, 3), (50, 3), (51, 3), (52, 4), (53, 4)]]\n"
          ]
        }
      ]
    },
    {
      "cell_type": "code",
      "source": [
        "# Human readable format of corpus (term-frequency)\n",
        "[[(id2word[id], freq) for id, freq in cp] for cp in corpus[:3]]"
      ],
      "metadata": {
        "id": "CDCN3oNHzkSq"
      },
      "execution_count": null,
      "outputs": []
    },
    {
      "cell_type": "code",
      "source": [
        "\n",
        "imUsingColab = True\n",
        "\n",
        "if imUsingColab:\n",
        "    !pip install gensim\n",
        "    !pip install pyLDAvis\n",
        "    !pip install vega\n",
        "    !pip install altair\n",
        "    \n",
        "     \n",
        "import re\n",
        "import spacy\n",
        "\n",
        "from nltk.corpus import stopwords \n",
        "from nltk.stem.wordnet import WordNetLemmatizer\n",
        "import string\n",
        "\n",
        "# import numpy for matrix operation\n",
        "import numpy as np\n",
        "\n",
        "\n",
        "from pprint import pprint\n",
        "import pandas as pd\n",
        "\n",
        "# Plotting tools\n",
        "import pyLDAvis\n",
        "import pyLDAvis.gensim_models  # don't skip this\n",
        "import matplotlib.pyplot as plt\n",
        "%matplotlib inline\n",
        "\n",
        "# Gensim\n",
        "import gensim\n",
        "import gensim.corpora as corpora\n",
        "from gensim.utils import simple_preprocess\n",
        "from gensim.models import CoherenceModel\n",
        "from gensim.models.wrappers import LdaMallet\n",
        "\n",
        "## from google.colab import drive\n",
        "## drive.mount('/content/drive/')\n",
        "\n",
        "##!unzip -uq \"/content/Names_207039.zip\" -d \"/content/\"\n",
        "## !unzip -uq \"/content/test_names_220610\" -d \"/content/\"\n",
        "!unzip -uq \"/content/mallet-2.0.8.zip\" -d \"/content/\"  \n",
        "## !unzip -uq \"/content/reviews_words.zip\" -d \"/content/\"   \n",
        "!unzip -uq \"/content/review_huangshan.zip\" -d \"/content/\"   \n",
        "\n",
        "##dirpath = '/content/Names_207039/'\n",
        "## dirpath = '/content/test_names/\n",
        "## dirpath = '/content/reviews_words/'\n",
        "dirpath = '/content/review_huangshan/'\n",
        "mallet_path = '/content/mallet-2.0.8/bin/mallet'\n",
        "\n",
        "import os\n",
        "## Setup mallet environment change it according to your drive\n",
        "os.environ.update({'MALLET_HOME':r'/content/mallet-2.0.8'})\n",
        "## Setup mallet path change it according to your drive\n",
        "\n",
        "files = [os.path.join(dirpath, fname) for fname in os.listdir(dirpath)]\n",
        "corpus_text = []\n",
        "\n",
        "for filename in sorted(files):\n",
        "    with open(filename, 'r') as f:\n",
        "        corpus_text += [f.read()]\n",
        "\n",
        "\n",
        "\n",
        "\n",
        "from pathlib import Path\n",
        "\n",
        "doc_names = [Path(file).stem for file in sorted(files)]\n",
        "\n",
        "# Apply Preprocessing on the Corpus\n",
        "\n",
        "# Apply Preprocessing on the Corpus\n",
        "\n",
        "import nltk\n",
        "\n",
        "nltk.download('omw-1.4')\n",
        "nltk.download('wordnet')\n",
        "nltk.download('stopwords')\n",
        "\n",
        "# stop loss words\n",
        "stop = set(stopwords.words('english'))\n",
        "\n",
        "# punctuation\n",
        "exclude = set(string.punctuation)\n",
        "\n",
        "# lemmatization\n",
        "lemma = WordNetLemmatizer()\n",
        "\n",
        "# One function for all the steps:\n",
        "def clean(doc):\n",
        "    \n",
        "    doc = re.sub(\"([^\\x00-\\x7F])+\",\" \", str(doc))\n",
        "    ## doc = re.sub(r'\\b\\d+(?:\\.\\d+)?\\s+', '', str(doc))\n",
        "    ## print(doc)\n",
        "    # convert text into lower case + split into words\n",
        "    stop_free = \" \".join([i for i in doc.lower().split() if i not in stop])\n",
        "\n",
        "    for z in stop_free:\n",
        "      \n",
        "      ## string = 'abcd1234efg567'\n",
        "      z = re.sub(r'\\b\\d+(?:\\.\\d+)?\\s+', '', str(z))\n",
        "      \n",
        "      newstring = ''.join([i for i in z if not i.isdigit()]).lower()\n",
        "      if not(len(newstring) < 2):\n",
        "          ## print(newstring)\n",
        "          stringVal = stringVal + \" \" + newstring\n",
        "   \n",
        "    # remove any stop words present\n",
        "    punc_free = ''.join(ch for ch in stop_free if ch not in exclude)  \n",
        "   \n",
        "    # remove punctuations + normalize the text\n",
        "    normalized = \" \".join(lemma.lemmatize(word) for word in punc_free.split() if not word.isdigit())  \n",
        "    return normalized\n",
        "\n",
        "# clean data stored in a new list\n",
        "clean_corpus    = [clean(doc).split() for doc in corpus_text]\n",
        "## data_lemmatized = [clean(doc).split() for doc in corpus]\n",
        "\n",
        "# Create Dictionary\n",
        "##id2word = corpora.Dictionary(data_lemmatized)\n",
        "id2word = corpora.Dictionary(clean_corpus)\n",
        "\n",
        "# Create Corpus\n",
        "texts = clean_corpus\n",
        "\n",
        "##\n",
        "\n",
        "# Term Document Frequency\n",
        "corpus = [id2word.doc2bow(text) for text in texts]\n",
        "\n",
        "# Human readable format of corpus (term-frequency)\n",
        "[[(id2word[id], freq) for id, freq in cp] for cp in corpus[:3]]\n",
        "\n"
      ],
      "metadata": {
        "id": "3lKWmzJcOIOd"
      },
      "execution_count": null,
      "outputs": []
    },
    {
      "cell_type": "code",
      "source": [
        "\n",
        "from nltk.corpus import stopwords\n",
        "stop_words = stopwords.words('english')\n",
        "## stop_words.extend(['for', 'and', 'to', 'the', 'you', 'not', 'from', 'subject', 're', 'edu', 'use'])\n",
        "\n",
        "# Build the bigram and trigram models\n",
        "bigram = gensim.models.Phrases(texts, min_count=5, threshold=100) # higher threshold fewer phrases.\n",
        "trigram = gensim.models.Phrases(bigram[texts], threshold=100)  \n",
        "bigram_mod = gensim.models.phrases.Phraser(bigram)\n",
        "trigram_mod = gensim.models.phrases.Phraser(trigram)\n",
        "\n",
        "# !python3 -m spacy download en  # run in terminal once\n",
        "def process_words(texts, stop_words=stop_words, allowed_postags=['NOUN', 'ADJ', 'VERB', 'ADV']):\n",
        "    \"\"\"Remove Stopwords, Form Bigrams, Trigrams and Lemmatization\"\"\"\n",
        "    texts = [[word for word in simple_preprocess(str(doc)) if word not in stop_words] for doc in texts]\n",
        "    texts = [bigram_mod[doc] for doc in texts]\n",
        "    texts = [trigram_mod[bigram_mod[doc]] for doc in texts]\n",
        "    texts_out = []\n",
        "    nlp = spacy.load(\"en_core_web_sm\")\n",
        "    ## nlp = spacy.load('en', disable=['parser', 'ner'])\n",
        "    for sent in texts:\n",
        "        doc = nlp(\" \".join(sent)) \n",
        "        texts_out.append([token.lemma_ for token in doc if token.pos_ in allowed_postags])\n",
        "    # remove stopwords once more after lemmatization\n",
        "    texts_out = [[word for word in simple_preprocess(str(doc)) if word not in stop_words] for doc in texts_out]    \n",
        "    return texts_out\n",
        "\n",
        "data_ready = process_words(texts)  # processed Text Data!"
      ],
      "metadata": {
        "id": "k8k7MqDCOqNs"
      },
      "execution_count": null,
      "outputs": []
    },
    {
      "cell_type": "code",
      "source": [
        "# Build LDA model\n",
        "lda_model = gensim.models.ldamodel.LdaModel(corpus=corpus,\n",
        "                                           id2word=id2word,\n",
        "                                           num_topics=20, \n",
        "                                           random_state=100,\n",
        "                                           update_every=1,\n",
        "                                           chunksize=100,\n",
        "                                           passes=10,\n",
        "                                           alpha='auto',\n",
        "                                           per_word_topics=True)"
      ],
      "metadata": {
        "id": "9YGKHzW80GsQ"
      },
      "execution_count": null,
      "outputs": []
    },
    {
      "cell_type": "code",
      "source": [
        "# Print the Keyword in the 20 topics\n",
        "print(lda_model.print_topics())\n",
        "doc_lda = lda_model[corpus]"
      ],
      "metadata": {
        "id": "aafMEJB10gYL",
        "colab": {
          "base_uri": "https://localhost:8080/"
        },
        "outputId": "f05a3fec-69cd-4080-a572-107fa5765094"
      },
      "execution_count": null,
      "outputs": [
        {
          "output_type": "stream",
          "name": "stdout",
          "text": [
            "[(0, '0.165*\"equal\" + 0.071*\"array\" + 0.054*\"metric\" + 0.042*\"list\" + 0.041*\"high\" + 0.033*\"score\" + 0.033*\"evalu\" + 0.032*\"float\" + 0.031*\"field\" + 0.028*\"class\"'), (1, '0.092*\"tensor\" + 0.082*\"shape\" + 0.077*\"loss\" + 0.074*\"layer\" + 0.060*\"torch\" + 0.037*\"batch\" + 0.032*\"event\" + 0.032*\"length\" + 0.030*\"indic\" + 0.027*\"init\"'), (2, '0.089*\"floor\" + 0.085*\"func\" + 0.069*\"titan\" + 0.048*\"order\" + 0.046*\"approx\" + 0.045*\"sub\" + 0.037*\"ref\" + 0.035*\"symbol\" + 0.033*\"name\" + 0.023*\"delta\"'), (3, '0.092*\"mock\" + 0.092*\"count\" + 0.054*\"call\" + 0.049*\"bucket\" + 0.036*\"valu\" + 0.036*\"get\" + 0.032*\"return\" + 0.027*\"statist\" + 0.025*\"patch\" + 0.022*\"util\"'), (4, '0.063*\"max\" + 0.043*\"dim\" + 0.041*\"graph\" + 0.038*\"min\" + 0.033*\"num\" + 0.031*\"sqrt\" + 0.026*\"pad\" + 0.023*\"print\" + 0.022*\"lift\" + 0.021*\"per\"'), (5, '0.170*\"error\" + 0.133*\"rais\" + 0.103*\"sampl\" + 0.091*\"str\" + 0.035*\"arr\" + 0.033*\"integ\" + 0.027*\"invalid\" + 0.024*\"sympifi\" + 0.020*\"appli\" + 0.014*\"process\"'), (6, '0.055*\"stat\" + 0.048*\"attribut\" + 0.038*\"dist\" + 0.038*\"text\" + 0.027*\"bodi\" + 0.025*\"date\" + 0.021*\"key\" + 0.021*\"expr\" + 0.020*\"distanc\" + 0.019*\"neg\"'), (7, '0.089*\"copi\" + 0.057*\"step\" + 0.054*\"exp\" + 0.041*\"entri\" + 0.039*\"val\" + 0.027*\"get\" + 0.025*\"seed\" + 0.022*\"rang\" + 0.021*\"rng\" + 0.020*\"rate\"'), (8, '0.062*\"conv\" + 0.043*\"flow\" + 0.043*\"cach\" + 0.041*\"sympi\" + 0.037*\"histogram\" + 0.035*\"normal\" + 0.033*\"option\" + 0.033*\"monoton\" + 0.031*\"target\" + 0.029*\"numer\"'), (9, '0.112*\"label\" + 0.099*\"featur\" + 0.066*\"num\" + 0.052*\"dict\" + 0.043*\"data\" + 0.043*\"task\" + 0.036*\"exampl\" + 0.027*\"matrix\" + 0.027*\"schema\" + 0.026*\"record\"'), (10, '0.204*\"expect\" + 0.086*\"data\" + 0.049*\"actual\" + 0.044*\"seri\" + 0.041*\"async\" + 0.035*\"respons\" + 0.030*\"equal\" + 0.025*\"result\" + 0.023*\"queri\" + 0.022*\"json\"'), (11, '0.065*\"string\" + 0.052*\"match\" + 0.046*\"one\" + 0.034*\"arg1\" + 0.031*\"activ\" + 0.028*\"oper\" + 0.026*\"gener\" + 0.025*\"kwarg\" + 0.024*\"two\" + 0.024*\"remov\"'), (12, '0.129*\"state\" + 0.085*\"ha\" + 0.074*\"compon\" + 0.073*\"var\" + 0.059*\"node\" + 0.041*\"edg\" + 0.037*\"set\" + 0.029*\"name\" + 0.028*\"messag\" + 0.026*\"block\"'), (13, '0.137*\"result\" + 0.086*\"config\" + 0.039*\"pipelin\" + 0.037*\"run\" + 0.034*\"context\" + 0.033*\"idx\" + 0.022*\"session\" + 0.021*\"foo\" + 0.020*\"updat\" + 0.018*\"set\"'), (14, '0.113*\"path\" + 0.069*\"file\" + 0.040*\"age\" + 0.034*\"read\" + 0.030*\"name\" + 0.029*\"nan\" + 0.029*\"dir\" + 0.028*\"executor\" + 0.028*\"sourc\" + 0.027*\"join\"'), (15, '0.099*\"index\" + 0.091*\"frame\" + 0.047*\"weight\" + 0.045*\"spec\" + 0.038*\"low\" + 0.033*\"equal\" + 0.029*\"sin\" + 0.025*\"tolist\" + 0.025*\"net\" + 0.023*\"grad\"'), (16, '0.056*\"base\" + 0.055*\"factor\" + 0.050*\"function\" + 0.050*\"arg\" + 0.045*\"head\" + 0.035*\"time\" + 0.034*\"log\" + 0.032*\"new\" + 0.029*\"dev\" + 0.026*\"real\"'), (17, '0.092*\"dtype\" + 0.051*\"imag\" + 0.047*\"shape\" + 0.047*\"array\" + 0.042*\"size\" + 0.040*\"numpi\" + 0.034*\"random\" + 0.031*\"mask\" + 0.030*\"data\" + 0.027*\"float32\"'), (18, '0.217*\"valu\" + 0.073*\"type\" + 0.062*\"pytest\" + 0.059*\"column\" + 0.029*\"msg\" + 0.028*\"name\" + 0.027*\"warn\" + 0.027*\"channel\" + 0.024*\"except\" + 0.021*\"surviv\"'), (19, '0.130*\"model\" + 0.081*\"input\" + 0.045*\"param\" + 0.045*\"output\" + 0.039*\"predict\" + 0.038*\"train\" + 0.037*\"dataset\" + 0.024*\"encod\" + 0.023*\"transform\" + 0.020*\"devic\"')]\n"
          ]
        }
      ]
    },
    {
      "cell_type": "code",
      "source": [
        "# Compute Perplexity\n",
        "print('\\nPerplexity: ', lda_model.log_perplexity(corpus))  \n",
        "# a measure of how good the model is. lower the better.\n",
        "\n",
        "# Compute Coherence Score\n",
        "coherence_model_lda = CoherenceModel(model=lda_model, texts=data_lemmatized, dictionary=id2word, coherence='c_v')\n",
        "coherence_lda = coherence_model_lda.get_coherence()\n",
        "print('\\nCoherence Score: ', coherence_lda)"
      ],
      "metadata": {
        "id": "iuu__mx05qBu"
      },
      "execution_count": null,
      "outputs": []
    },
    {
      "cell_type": "code",
      "source": [],
      "metadata": {
        "id": "aLZ3fiJg3NKY"
      },
      "execution_count": null,
      "outputs": []
    },
    {
      "cell_type": "code",
      "source": [
        "!pip install pyLDAvis\n",
        "!pip install vega\n",
        "!pip install altair"
      ],
      "metadata": {
        "id": "gymJkoNx_hD-"
      },
      "execution_count": null,
      "outputs": []
    },
    {
      "cell_type": "code",
      "source": [
        "import re\n",
        "import numpy as np\n",
        "import pandas as pd\n",
        "from pprint import pprint\n",
        "\n",
        "# Gensim\n",
        "import gensim\n",
        "import gensim.corpora as corpora\n",
        "from gensim.utils import simple_preprocess\n",
        "from gensim.models import CoherenceModel\n",
        "\n",
        "# spacy for lemmatization\n",
        "import spacy\n",
        "\n",
        "# Plotting tools\n",
        "import pyLDAvis\n",
        "import pyLDAvis.gensim_models  # don't skip this\n",
        "import matplotlib.pyplot as plt\n",
        "%matplotlib inline\n",
        "\n",
        "# Enable logging for gensim - optional\n",
        "import logging\n",
        "logging.basicConfig(format='%(asctime)s : %(levelname)s : %(message)s', level=logging.ERROR)\n",
        "\n",
        "import warnings\n",
        "warnings.filterwarnings(\"ignore\",category=DeprecationWarning)"
      ],
      "metadata": {
        "id": "_hVHHX-QBJyg",
        "colab": {
          "base_uri": "https://localhost:8080/"
        },
        "outputId": "d15d17fe-141a-467e-d439-8825fd904ca4"
      },
      "execution_count": null,
      "outputs": [
        {
          "output_type": "stream",
          "name": "stderr",
          "text": [
            "/usr/local/lib/python3.7/dist-packages/past/types/oldstr.py:5: DeprecationWarning: Using or importing the ABCs from 'collections' instead of from 'collections.abc' is deprecated since Python 3.3,and in 3.9 it will stop working\n",
            "  from collections import Iterable\n"
          ]
        }
      ]
    },
    {
      "cell_type": "code",
      "source": [
        "# Compute Perplexity\n",
        "print('\\nPerplexity: ', lda_model.log_perplexity(corpus))  \n",
        "# a measure of how good the model is. lower the better.\n",
        "\n",
        "# Compute Coherence Score\n",
        "coherence_model_lda = CoherenceModel(model=lda_model, texts=data_lemmatized, dictionary=id2word, coherence='c_v')\n",
        "coherence_lda = coherence_model_lda.get_coherence()\n",
        "print('\\nCoherence Score: ', coherence_lda)"
      ],
      "metadata": {
        "colab": {
          "base_uri": "https://localhost:8080/"
        },
        "id": "plUO6QmKtC_n",
        "outputId": "e80260bd-61b3-4d6c-a727-472bd5fbea49"
      },
      "execution_count": null,
      "outputs": [
        {
          "output_type": "stream",
          "name": "stdout",
          "text": [
            "\n",
            "Perplexity:  -6.520704023000158\n",
            "\n",
            "Coherence Score:  0.42410432453388036\n"
          ]
        }
      ]
    },
    {
      "cell_type": "code",
      "source": [
        "# Visualize the topics\n",
        "pyLDAvis.enable_notebook()\n",
        "vis = pyLDAvis.gensim_models.prepare(lda_model, corpus, id2word)\n",
        "vis"
      ],
      "metadata": {
        "id": "tcBB3FlVCane"
      },
      "execution_count": null,
      "outputs": []
    },
    {
      "cell_type": "code",
      "source": [
        "# Converting list of documents (corpus) into Document Term Matrix using the dictionary \n",
        "doc_term_matrix = [id2word.doc2bow(i) for i in clean_corpus]\n",
        "doc_term_matrix"
      ],
      "metadata": {
        "id": "kG0LzAj5LMri"
      },
      "execution_count": null,
      "outputs": []
    },
    {
      "cell_type": "code",
      "source": [
        "\n",
        "# Creating the object for LDA model using gensim library\n",
        "\n",
        "Lda = gensim.models.ldamodel.LdaModel\n",
        "# Running and Training LDA model on the document term matrix.\n",
        "ldamallet = Lda(doc_term_matrix, num_topics=10, id2word = id2word, passes=20, alpha=0.01, eta=0.0001, random_state=30, eval_every=None)"
      ],
      "metadata": {
        "id": "tT9m_eqpCtje"
      },
      "execution_count": null,
      "outputs": []
    },
    {
      "cell_type": "code",
      "source": [
        "# Show Topics\n",
        "pprint(ldamallet.show_topics(formatted=False))\n",
        "\n",
        "# Compute Coherence Score\n",
        "coherence_model_ldamallet = CoherenceModel(model=ldamallet, texts=data_lemmatized, dictionary=id2word, coherence='c_v')\n",
        "coherence_ldamallet = coherence_model_ldamallet.get_coherence()\n",
        "print('\\nCoherence Score: ', coherence_ldamallet)"
      ],
      "metadata": {
        "id": "z6PJSi-BL47G"
      },
      "execution_count": null,
      "outputs": []
    },
    {
      "cell_type": "code",
      "source": [
        "def compute_coherence_values(dictionary, corpus, texts, limit, start=2, step=3):\n",
        "    \"\"\"\n",
        "    Compute c_v coherence for various number of topics\n",
        "\n",
        "    Parameters:\n",
        "    ----------\n",
        "    dictionary : Gensim dictionary\n",
        "    corpus : Gensim corpus\n",
        "    texts : List of input texts\n",
        "    limit : Max num of topics\n",
        "\n",
        "    Returns:\n",
        "    -------\n",
        "    model_list : List of LDA topic models\n",
        "    coherence_values : Coherence values corresponding to the LDA model with respective number of topics\n",
        "    \"\"\"\n",
        "    coherence_values = []\n",
        "    model_list = []\n",
        "    for num_topics in range(start, limit, step):\n",
        "        Lda = gensim.models.ldamodel.LdaModel\n",
        "# Running and Training LDA model on the document term matrix.\n",
        "## ldamallet = Lda(doc_term_matrix, num_topics=10, id2word = id2word, passes=20, alpha=0.01, eta=0.0001, random_state=30, eval_every=None)\n",
        "        # model = gensim.models.wrappers.LdaMallet(mallet_path, corpus=corpus, num_topics=num_topics, id2word=id2word)\n",
        "        ## model = Lda(doc_term_matrix, num_topics=10, id2word = id2word, passes=20, alpha=0.01, eta=0.0001, random_state=30, eval_every=None)\n",
        "        model = Lda(doc_term_matrix, num_topics=num_topics, id2word = id2word, passes=20, random_state=30, eval_every=None)\n",
        "        ## model = Lda(doc_term_matrix, num_topics=num_topics, id2word = id2word, passes=20, alpha=0.01, eta=0.0001, random_state=30, eval_every=None)\n",
        "        model_list.append(model)\n",
        "        coherencemodel = CoherenceModel(model=model, texts=texts, dictionary=dictionary, coherence='c_v')\n",
        "        coherence_values.append(coherencemodel.get_coherence())\n",
        "\n",
        "    return model_list, coherence_values"
      ],
      "metadata": {
        "id": "kZ1VbYceMGBc"
      },
      "execution_count": null,
      "outputs": []
    },
    {
      "cell_type": "code",
      "source": [
        "# Can take a long time to run.\n",
        "model_list, coherence_values = compute_coherence_values(dictionary=id2word, corpus=corpus, texts=data_lemmatized, start=2, limit=40, step=6)"
      ],
      "metadata": {
        "id": "bUB7Cbl5MWAu"
      },
      "execution_count": null,
      "outputs": []
    },
    {
      "cell_type": "code",
      "source": [
        "# Show graph\n",
        "limit=40; start=2; step=6;\n",
        "x = range(start, limit, step)\n",
        "plt.plot(x, coherence_values)\n",
        "plt.xlabel(\"Num Topics\")\n",
        "plt.ylabel(\"Coherence score\")\n",
        "plt.legend((\"coherence_values\"), loc='best')\n",
        "plt.show()"
      ],
      "metadata": {
        "colab": {
          "base_uri": "https://localhost:8080/",
          "height": 279
        },
        "id": "yUZx5X_KNqqx",
        "outputId": "0ca9e673-e151-4b58-c1c4-419ffaea0859"
      },
      "execution_count": null,
      "outputs": [
        {
          "output_type": "display_data",
          "data": {
            "text/plain": [
              "<Figure size 432x288 with 1 Axes>"
            ],
            "image/png": "[encoded data removed]"
          },
          "metadata": {
            "needs_background": "light"
          }
        }
      ]
    },
    {
      "cell_type": "code",
      "source": [
        "# Print the coherence scores\n",
        "for m, cv in zip(x, coherence_values):\n",
        "    print(\"Num Topics =\", m, \" has Coherence Value of\", round(cv, 4))"
      ],
      "metadata": {
        "colab": {
          "base_uri": "https://localhost:8080/"
        },
        "id": "dE_ToVxmQ-bP",
        "outputId": "86161b90-0b0c-4c8d-ff66-1dc9dbf66f0a"
      },
      "execution_count": null,
      "outputs": [
        {
          "output_type": "stream",
          "name": "stdout",
          "text": [
            "Num Topics = 2  has Coherence Value of 0.3432\n",
            "Num Topics = 8  has Coherence Value of 0.3719\n",
            "Num Topics = 14  has Coherence Value of 0.375\n",
            "Num Topics = 20  has Coherence Value of 0.3911\n",
            "Num Topics = 26  has Coherence Value of 0.3942\n",
            "Num Topics = 32  has Coherence Value of 0.3938\n",
            "Num Topics = 38  has Coherence Value of 0.3835\n"
          ]
        }
      ]
    },
    {
      "cell_type": "code",
      "source": [
        "# Select the model and print the topics\n",
        "optimal_model = model_list[3]\n",
        "model_topics = optimal_model.show_topics(formatted=False)\n",
        "pprint(optimal_model.print_topics(num_words=10))"
      ],
      "metadata": {
        "id": "MC7dX1mkRH4W"
      },
      "execution_count": null,
      "outputs": []
    },
    {
      "cell_type": "code",
      "source": [
        "def format_topics_sentences(ldamodel=lda_model, corpus=corpus, texts=data_lemmatized):\n",
        "    # Init output\n",
        "    sent_topics_df = pd.DataFrame()\n",
        "\n",
        "    # Get main topic in each document\n",
        "    for i, row in enumerate(ldamodel[corpus]):\n",
        "        row = sorted(row, key=lambda x: (x[1]), reverse=True)\n",
        "        # Get the Dominant topic, Perc Contribution and Keywords for each document\n",
        "        for j, (topic_num, prop_topic) in enumerate(row):\n",
        "            if j == 0:  # => dominant topic\n",
        "                wp = ldamodel.show_topic(topic_num)\n",
        "                topic_keywords = \", \".join([word for word, prop in wp])\n",
        "                sent_topics_df = sent_topics_df.append(pd.Series([int(topic_num), round(prop_topic,4), topic_keywords]), ignore_index=True)\n",
        "            else:\n",
        "                break\n",
        "    sent_topics_df.columns = ['Dominant_Topic', 'Perc_Contribution', 'Topic_Keywords']\n",
        "\n",
        "    # Add original text to the end of the output\n",
        "    contents = pd.Series(texts)\n",
        "    sent_topics_df = pd.concat([sent_topics_df, contents], axis=1)\n",
        "    return(sent_topics_df)"
      ],
      "metadata": {
        "id": "x2x-C3SzRUFh"
      },
      "execution_count": null,
      "outputs": []
    },
    {
      "cell_type": "code",
      "source": [
        "df_topic_sents_keywords = format_topics_sentences(ldamodel=optimal_model, corpus=corpus, texts=data_lemmatized)\n",
        "\n",
        "# Format\n",
        "df_dominant_topic = df_topic_sents_keywords.reset_index()\n",
        "df_dominant_topic.columns = ['Document_No', 'Dominant_Topic', 'Topic_Perc_Contrib', 'Keywords', 'Text']\n",
        "\n",
        "# Show\n",
        "df_dominant_topic.head(20)"
      ],
      "metadata": {
        "id": "quFi2XJRRvz7"
      },
      "execution_count": null,
      "outputs": []
    },
    {
      "cell_type": "code",
      "source": [
        "# Number of Documents for Each Topic\n",
        "topic_counts = df_topic_sents_keywords['Dominant_Topic'].value_counts()\n",
        "\n",
        "# Percentage of Documents for Each Topic\n",
        "topic_contribution = round(topic_counts/topic_counts.sum(), 4)\n",
        "\n",
        "# Topic Number and Keywords\n",
        "topic_num_keywords = df_topic_sents_keywords[['Dominant_Topic', 'Topic_Keywords']]\n",
        "\n",
        "# Concatenate Column wise\n",
        "df_dominant_topics = pd.concat([topic_num_keywords, topic_counts, topic_contribution], axis=1)\n",
        "\n",
        "# Change Column names\n",
        "df_dominant_topics.columns = ['Dominant_Topic', 'Topic_Keywords', 'Num_Documents', 'Perc_Documents']\n",
        "\n",
        "# Show\n",
        "df_dominant_topics"
      ],
      "metadata": {
        "id": "B1dTBkmPmvTl"
      },
      "execution_count": null,
      "outputs": []
    },
    {
      "cell_type": "code",
      "source": [
        "# Select the model and print the topics\n",
        "optimal_model = model_list[3]\n",
        "model_topics = optimal_model.show_topics(formatted=False)\n",
        "pprint(optimal_model.print_topics(num_words=10))"
      ],
      "metadata": {
        "id": "O4TPWhi_3zmk"
      },
      "execution_count": null,
      "outputs": []
    },
    {
      "cell_type": "code",
      "source": [
        "# Can take a long time to run.\n",
        "model_list, coherence_values = compute_coherence_values(dictionary=id2word, corpus=corpus, texts=data_lemmatized, start=2, limit=40, step=6)"
      ],
      "metadata": {
        "id": "At3fk3Vl3Uo-"
      },
      "execution_count": null,
      "outputs": []
    },
    {
      "cell_type": "code",
      "source": [
        "# Compute Perplexity\n",
        "print('\\nPerplexity: ', lda_model.log_perplexity(corpus))  # a measure of how good the model is. lower the better.\n",
        "\n",
        "# Compute Coherence Score\n",
        "coherence_model_lda = CoherenceModel(model=lda_model, texts=data_lemmatized, dictionary=id2word, coherence='c_v')\n",
        "coherence_lda = coherence_model_lda.get_coherence()\n",
        "print('\\nCoherence Score: ', coherence_lda)"
      ],
      "metadata": {
        "colab": {
          "base_uri": "https://localhost:8080/",
          "height": 269
        },
        "id": "zrh744q60vhN",
        "outputId": "9653140c-581d-4af8-b712-8d47032a17cf"
      },
      "execution_count": null,
      "outputs": [
        {
          "output_type": "stream",
          "name": "stdout",
          "text": [
            "\n",
            "Perplexity:  -6.520701000474011\n"
          ]
        },
        {
          "output_type": "error",
          "ename": "NameError",
          "evalue": "ignored",
          "traceback": [
            "\u001b[0;31m---------------------------------------------------------------------------\u001b[0m",
            "\u001b[0;31mNameError\u001b[0m                                 Traceback (most recent call last)",
            "\u001b[0;32m<ipython-input-29-eacbdc545be3>\u001b[0m in \u001b[0;36m<module>\u001b[0;34m()\u001b[0m\n\u001b[1;32m      3\u001b[0m \u001b[0;34m\u001b[0m\u001b[0m\n\u001b[1;32m      4\u001b[0m \u001b[0;31m# Compute Coherence Score\u001b[0m\u001b[0;34m\u001b[0m\u001b[0;34m\u001b[0m\u001b[0;34m\u001b[0m\u001b[0m\n\u001b[0;32m----> 5\u001b[0;31m \u001b[0mcoherence_model_lda\u001b[0m \u001b[0;34m=\u001b[0m \u001b[0mCoherenceModel\u001b[0m\u001b[0;34m(\u001b[0m\u001b[0mmodel\u001b[0m\u001b[0;34m=\u001b[0m\u001b[0mlda_model\u001b[0m\u001b[0;34m,\u001b[0m \u001b[0mtexts\u001b[0m\u001b[0;34m=\u001b[0m\u001b[0mdata_lemmatized\u001b[0m\u001b[0;34m,\u001b[0m \u001b[0mdictionary\u001b[0m\u001b[0;34m=\u001b[0m\u001b[0mid2word\u001b[0m\u001b[0;34m,\u001b[0m \u001b[0mcoherence\u001b[0m\u001b[0;34m=\u001b[0m\u001b[0;34m'c_v'\u001b[0m\u001b[0;34m)\u001b[0m\u001b[0;34m\u001b[0m\u001b[0;34m\u001b[0m\u001b[0m\n\u001b[0m\u001b[1;32m      6\u001b[0m \u001b[0mcoherence_lda\u001b[0m \u001b[0;34m=\u001b[0m \u001b[0mcoherence_model_lda\u001b[0m\u001b[0;34m.\u001b[0m\u001b[0mget_coherence\u001b[0m\u001b[0;34m(\u001b[0m\u001b[0;34m)\u001b[0m\u001b[0;34m\u001b[0m\u001b[0;34m\u001b[0m\u001b[0m\n\u001b[1;32m      7\u001b[0m \u001b[0mprint\u001b[0m\u001b[0;34m(\u001b[0m\u001b[0;34m'\\nCoherence Score: '\u001b[0m\u001b[0;34m,\u001b[0m \u001b[0mcoherence_lda\u001b[0m\u001b[0;34m)\u001b[0m\u001b[0;34m\u001b[0m\u001b[0;34m\u001b[0m\u001b[0m\n",
            "\u001b[0;31mNameError\u001b[0m: name 'CoherenceModel' is not defined"
          ]
        }
      ]
    },
    {
      "cell_type": "code",
      "source": [],
      "metadata": {
        "id": "QLx0zgyU3KZy"
      },
      "execution_count": null,
      "outputs": []
    },
    {
      "cell_type": "code",
      "source": [
        "# Creating the term dictionary of our courpus that is of all the words (Sepcific to Genism syntax perspective), \n",
        "# where every unique term is assigned an index. \n",
        "\n",
        "dict_ = corpora.Dictionary(clean_corpus)\n",
        "\n",
        "print(dict_)"
      ],
      "metadata": {
        "id": "S5xCykUvWW0K"
      },
      "execution_count": null,
      "outputs": []
    },
    {
      "cell_type": "code",
      "source": [
        "for i in dict_.values():\n",
        "    print(i)"
      ],
      "metadata": {
        "id": "UgOhn__TWeaF"
      },
      "execution_count": null,
      "outputs": []
    },
    {
      "cell_type": "code",
      "source": [
        "# Converting list of documents (corpus) into Document Term Matrix using the dictionary \n",
        "doc_term_matrix = [dict_.doc2bow(i) for i in clean_corpus]\n",
        "doc_term_matrix"
      ],
      "metadata": {
        "id": "eSyt4IjIWq8Q"
      },
      "execution_count": null,
      "outputs": []
    },
    {
      "cell_type": "code",
      "source": [
        "# Creating the object for LDA model using gensim library\n",
        "\n",
        "Lda = gensim.models.ldamodel.LdaModel\n",
        "# Running and Training LDA model on the document term matrix.\n",
        "\n",
        "ldamodel = Lda(doc_term_matrix, num_topics=10, id2word = dict_, passes=20, alpha=0.01, eta=0.0001, random_state=30, eval_every=None)\n",
        "# Prints the topics with the indexes: 0,1,2 :\n",
        "\n",
        "# ldamodel.print_topics()\n",
        "\n",
        "# we need to manually check whethere the topics are different from one another or not"
      ],
      "metadata": {
        "id": "vZVypyxQW2JX"
      },
      "execution_count": null,
      "outputs": []
    },
    {
      "cell_type": "code",
      "source": [
        "# print(ldamodel.print_topics(num_topics=10, num_words=20))\n",
        "\n",
        "# num_topics mean: how many topics want to extract \n",
        "# num_words: the number of words that want per topic"
      ],
      "metadata": {
        "id": "cF0YJu_QXBZu"
      },
      "execution_count": null,
      "outputs": []
    },
    {
      "cell_type": "code",
      "source": [
        "# saving the topic associations with the documents to .csv\n",
        "import csv\n",
        "\n",
        "#header = ['NameOfDoc', 'WeightPerTopic']\n",
        "\n",
        "with open('/content/drive/MyDrive/lda_silhouette/weight_per_topic.csv', 'w', encoding='UTF8', newline='') as f:\n",
        "    writer = csv.writer(f)\n",
        "\n",
        "    # write the header\n",
        "    #writer.writerow(header)\n",
        "\n",
        "    #count = 0\n",
        "    for i in ldamodel[doc_term_matrix]:\n",
        "        #print(\"doc : \",count,i)\n",
        "        # write the data\n",
        "        writer.writerow(i)\n",
        "        #count += 1"
      ],
      "metadata": {
        "id": "GEq_1nH8b0p2"
      },
      "execution_count": null,
      "outputs": []
    },
    {
      "cell_type": "code",
      "source": [
        "import os\n",
        "import pandas as pd\n",
        "\n",
        "dirpath_= '/content/drive/MyDrive/lda_silhouette/Names_comma/'\n",
        "output = '/content/drive/MyDrive/lda_silhouette/name.csv'\n",
        "csvout_lst = []\n",
        "files_= [os.path.join(dirpath_, fname) for fname in os.listdir(dirpath_)]\n",
        "\n",
        "for filename in sorted(files_):\n",
        "    data = pd.read_csv(filename, index_col=0, header=None)\n",
        "    csvout_lst.append(data)\n",
        "#csvout_lst.index\n",
        "#print(csvout_lst)\n",
        "#print (np.arange(len(csvout_lst.index)))\n",
        "pd.concat(csvout_lst).to_csv(output, index=True)"
      ],
      "metadata": {
        "id": "sPG2s0NwoaZJ"
      },
      "execution_count": null,
      "outputs": []
    },
    {
      "cell_type": "code",
      "source": [
        "from pandas import read_csv\n",
        "df = read_csv('/content/drive/MyDrive/lda_silhouette/name.csv')\n",
        "corpus = df.values\n",
        "print(corpus)"
      ],
      "metadata": {
        "colab": {
          "base_uri": "https://localhost:8080/"
        },
        "id": "7YA6P3CSkJ2I",
        "outputId": "280e8522-e54a-41de-8939-6bacdaa6cbf4"
      },
      "execution_count": null,
      "outputs": [
        {
          "output_type": "stream",
          "name": "stdout",
          "text": [
            "[['rmse' ' correct' ' pred' ... nan nan nan]\n",
            " ['one' ' true' ' posit' ... nan nan nan]\n",
            " ['standard' ' import' ' still' ... nan nan nan]\n",
            " ...\n",
            " ['config' ' name' ' space' ... nan nan nan]\n",
            " ['set' ' configur' ' yaml' ... nan nan nan]\n",
            " ['set' ' compon' ' setup' ... nan nan nan]]\n"
          ]
        },
        {
          "output_type": "stream",
          "name": "stderr",
          "text": [
            "/usr/local/lib/python3.7/dist-packages/IPython/core/interactiveshell.py:2882: DtypeWarning: Columns (616,617,618,619,620,621,622,623,624,625,626,627,628,629,630,631,632,633,634,635,636,637,638,639,640,641,642,643,644,645,646,647,648,649,650,651,652,653,654,655,656,657,658,659,660,661,662,663,664,665,666,667) have mixed types.Specify dtype option on import or set low_memory=False.\n",
            "  exec(code_obj, self.user_global_ns, self.user_ns)\n"
          ]
        }
      ]
    },
    {
      "cell_type": "code",
      "source": [
        "corpus = []\n",
        "corpus = texts_file.read()"
      ],
      "metadata": {
        "id": "AaG3bX9YSKXn"
      },
      "execution_count": null,
      "outputs": []
    },
    {
      "cell_type": "code",
      "source": [
        "corpus.shape"
      ],
      "metadata": {
        "colab": {
          "base_uri": "https://localhost:8080/"
        },
        "id": "eVN7ZUaIkJ5r",
        "outputId": "3c6ca917-bb96-4273-f5b4-ddfd001d1c7d"
      },
      "execution_count": null,
      "outputs": [
        {
          "output_type": "execute_result",
          "data": {
            "text/plain": [
              "(1999, 668)"
            ]
          },
          "metadata": {},
          "execution_count": 129
        }
      ]
    },
    {
      "cell_type": "code",
      "source": [
        "# Creating the term dictionary of our courpus that is of all the words (Sepcific to Genism syntax perspective), \n",
        "# where every unique term is assigned an index. \n",
        "\n",
        "dict_ = corpora.Dictionary(corpus)\n",
        "\n",
        "print(dict_)"
      ],
      "metadata": {
        "colab": {
          "base_uri": "https://localhost:8080/",
          "height": 380
        },
        "id": "Jx73XJcPFCX_",
        "outputId": "090bcaab-0fa2-42fa-ba64-4ca21f0ac280"
      },
      "execution_count": null,
      "outputs": [
        {
          "output_type": "error",
          "ename": "TypeError",
          "evalue": "ignored",
          "traceback": [
            "\u001b[0;31m---------------------------------------------------------------------------\u001b[0m",
            "\u001b[0;31mTypeError\u001b[0m                                 Traceback (most recent call last)",
            "\u001b[0;32m<ipython-input-130-7d481cd72044>\u001b[0m in \u001b[0;36m<module>\u001b[0;34m()\u001b[0m\n\u001b[1;32m      2\u001b[0m \u001b[0;31m# where every unique term is assigned an index.\u001b[0m\u001b[0;34m\u001b[0m\u001b[0;34m\u001b[0m\u001b[0;34m\u001b[0m\u001b[0m\n\u001b[1;32m      3\u001b[0m \u001b[0;34m\u001b[0m\u001b[0m\n\u001b[0;32m----> 4\u001b[0;31m \u001b[0mdict_\u001b[0m \u001b[0;34m=\u001b[0m \u001b[0mcorpora\u001b[0m\u001b[0;34m.\u001b[0m\u001b[0mDictionary\u001b[0m\u001b[0;34m(\u001b[0m\u001b[0mcorpus\u001b[0m\u001b[0;34m)\u001b[0m\u001b[0;34m\u001b[0m\u001b[0;34m\u001b[0m\u001b[0m\n\u001b[0m\u001b[1;32m      5\u001b[0m \u001b[0;34m\u001b[0m\u001b[0m\n\u001b[1;32m      6\u001b[0m \u001b[0mprint\u001b[0m\u001b[0;34m(\u001b[0m\u001b[0mdict_\u001b[0m\u001b[0;34m)\u001b[0m\u001b[0;34m\u001b[0m\u001b[0;34m\u001b[0m\u001b[0m\n",
            "\u001b[0;32m/usr/local/lib/python3.7/dist-packages/gensim/corpora/dictionary.py\u001b[0m in \u001b[0;36m__init__\u001b[0;34m(self, documents, prune_at)\u001b[0m\n\u001b[1;32m     81\u001b[0m \u001b[0;34m\u001b[0m\u001b[0m\n\u001b[1;32m     82\u001b[0m         \u001b[0;32mif\u001b[0m \u001b[0mdocuments\u001b[0m \u001b[0;32mis\u001b[0m \u001b[0;32mnot\u001b[0m \u001b[0;32mNone\u001b[0m\u001b[0;34m:\u001b[0m\u001b[0;34m\u001b[0m\u001b[0;34m\u001b[0m\u001b[0m\n\u001b[0;32m---> 83\u001b[0;31m             \u001b[0mself\u001b[0m\u001b[0;34m.\u001b[0m\u001b[0madd_documents\u001b[0m\u001b[0;34m(\u001b[0m\u001b[0mdocuments\u001b[0m\u001b[0;34m,\u001b[0m \u001b[0mprune_at\u001b[0m\u001b[0;34m=\u001b[0m\u001b[0mprune_at\u001b[0m\u001b[0;34m)\u001b[0m\u001b[0;34m\u001b[0m\u001b[0;34m\u001b[0m\u001b[0m\n\u001b[0m\u001b[1;32m     84\u001b[0m \u001b[0;34m\u001b[0m\u001b[0m\n\u001b[1;32m     85\u001b[0m     \u001b[0;32mdef\u001b[0m \u001b[0m__getitem__\u001b[0m\u001b[0;34m(\u001b[0m\u001b[0mself\u001b[0m\u001b[0;34m,\u001b[0m \u001b[0mtokenid\u001b[0m\u001b[0;34m)\u001b[0m\u001b[0;34m:\u001b[0m\u001b[0;34m\u001b[0m\u001b[0;34m\u001b[0m\u001b[0m\n",
            "\u001b[0;32m/usr/local/lib/python3.7/dist-packages/gensim/corpora/dictionary.py\u001b[0m in \u001b[0;36madd_documents\u001b[0;34m(self, documents, prune_at)\u001b[0m\n\u001b[1;32m    200\u001b[0m \u001b[0;34m\u001b[0m\u001b[0m\n\u001b[1;32m    201\u001b[0m             \u001b[0;31m# update Dictionary with the document\u001b[0m\u001b[0;34m\u001b[0m\u001b[0;34m\u001b[0m\u001b[0;34m\u001b[0m\u001b[0m\n\u001b[0;32m--> 202\u001b[0;31m             \u001b[0mself\u001b[0m\u001b[0;34m.\u001b[0m\u001b[0mdoc2bow\u001b[0m\u001b[0;34m(\u001b[0m\u001b[0mdocument\u001b[0m\u001b[0;34m,\u001b[0m \u001b[0mallow_update\u001b[0m\u001b[0;34m=\u001b[0m\u001b[0;32mTrue\u001b[0m\u001b[0;34m)\u001b[0m  \u001b[0;31m# ignore the result, here we only care about updating token ids\u001b[0m\u001b[0;34m\u001b[0m\u001b[0;34m\u001b[0m\u001b[0m\n\u001b[0m\u001b[1;32m    203\u001b[0m \u001b[0;34m\u001b[0m\u001b[0m\n\u001b[1;32m    204\u001b[0m         logger.info(\n",
            "\u001b[0;32m/usr/local/lib/python3.7/dist-packages/gensim/corpora/dictionary.py\u001b[0m in \u001b[0;36mdoc2bow\u001b[0;34m(self, document, allow_update, return_missing)\u001b[0m\n\u001b[1;32m    243\u001b[0m         \u001b[0mcounter\u001b[0m \u001b[0;34m=\u001b[0m \u001b[0mdefaultdict\u001b[0m\u001b[0;34m(\u001b[0m\u001b[0mint\u001b[0m\u001b[0;34m)\u001b[0m\u001b[0;34m\u001b[0m\u001b[0;34m\u001b[0m\u001b[0m\n\u001b[1;32m    244\u001b[0m         \u001b[0;32mfor\u001b[0m \u001b[0mw\u001b[0m \u001b[0;32min\u001b[0m \u001b[0mdocument\u001b[0m\u001b[0;34m:\u001b[0m\u001b[0;34m\u001b[0m\u001b[0;34m\u001b[0m\u001b[0m\n\u001b[0;32m--> 245\u001b[0;31m             \u001b[0mcounter\u001b[0m\u001b[0;34m[\u001b[0m\u001b[0mw\u001b[0m \u001b[0;32mif\u001b[0m \u001b[0misinstance\u001b[0m\u001b[0;34m(\u001b[0m\u001b[0mw\u001b[0m\u001b[0;34m,\u001b[0m \u001b[0municode\u001b[0m\u001b[0;34m)\u001b[0m \u001b[0;32melse\u001b[0m \u001b[0municode\u001b[0m\u001b[0;34m(\u001b[0m\u001b[0mw\u001b[0m\u001b[0;34m,\u001b[0m \u001b[0;34m'utf-8'\u001b[0m\u001b[0;34m)\u001b[0m\u001b[0;34m]\u001b[0m \u001b[0;34m+=\u001b[0m \u001b[0;36m1\u001b[0m\u001b[0;34m\u001b[0m\u001b[0;34m\u001b[0m\u001b[0m\n\u001b[0m\u001b[1;32m    246\u001b[0m \u001b[0;34m\u001b[0m\u001b[0m\n\u001b[1;32m    247\u001b[0m         \u001b[0mtoken2id\u001b[0m \u001b[0;34m=\u001b[0m \u001b[0mself\u001b[0m\u001b[0;34m.\u001b[0m\u001b[0mtoken2id\u001b[0m\u001b[0;34m\u001b[0m\u001b[0;34m\u001b[0m\u001b[0m\n",
            "\u001b[0;31mTypeError\u001b[0m: decoding to str: need a bytes-like object, float found"
          ]
        }
      ]
    },
    {
      "cell_type": "code",
      "source": [
        "for i in dict_.values():\n",
        "    print(i)"
      ],
      "metadata": {
        "id": "YzDxUqTZFqt5"
      },
      "execution_count": null,
      "outputs": []
    },
    {
      "cell_type": "code",
      "source": [
        "# Converting list of documents (corpus) into Document Term Matrix using the dictionary \n",
        "doc_term_matrix = [dict_.doc2bow(i) for i in corpus]\n",
        "doc_term_matrix"
      ],
      "metadata": {
        "id": "4VkB7KwCF4k-"
      },
      "execution_count": null,
      "outputs": []
    },
    {
      "cell_type": "code",
      "source": [
        "# Creating the object for LDA model using gensim library\n",
        "\n",
        "Lda = gensim.models.ldamodel.LdaModel"
      ],
      "metadata": {
        "id": "WA2slHnoGBdM"
      },
      "execution_count": null,
      "outputs": []
    },
    {
      "cell_type": "code",
      "source": [
        "# Running and Training LDA model on the document term matrix.\n",
        "\n",
        "ldamodel = Lda(doc_term_matrix, num_topics=10, id2word = dict_, passes=5, alpha=0.1, eta=0.0001, random_state=30, eval_every=None)"
      ],
      "metadata": {
        "colab": {
          "base_uri": "https://localhost:8080/"
        },
        "id": "Q7E5CjoxGfZ9",
        "outputId": "41856c03-5ea1-45d1-edce-c1a22d0dd22c"
      },
      "execution_count": null,
      "outputs": [
        {
          "output_type": "stream",
          "name": "stderr",
          "text": [
            "/usr/local/lib/python3.7/dist-packages/gensim/models/ldamodel.py:1023: RuntimeWarning: divide by zero encountered in log\n",
            "  diff = np.log(self.expElogbeta)\n"
          ]
        }
      ]
    },
    {
      "cell_type": "code",
      "source": [
        "# Prints the topics with the indexes: 0,1,2 :\n",
        "\n",
        "ldamodel.print_topics(num_topics=10)\n",
        "\n",
        "# we need to manually check whethere the topics are different from one another or not\n",
        "\n",
        "# saving the topics to .csv\n",
        "import csv\n",
        "\n",
        "header = ['WordsPerTopic']\n",
        "\n",
        "with open('/content/drive/MyDrive/lda_silhouette/words_per_topic.csv', 'w', encoding='UTF8', newline='') as f:\n",
        "    writer = csv.writer(f)\n",
        "\n",
        "    # write the header\n",
        "    #writer.writerow(header)\n",
        "\n",
        "    count = 0\n",
        "    for i in ldamodel[doc_term_matrix]:\n",
        "        #print(\"doc : \",count,i)\n",
        "        # write the data\n",
        "        writer.writerow(i)\n",
        "        count += 1"
      ],
      "metadata": {
        "id": "aQFoqyUDG8Ke"
      },
      "execution_count": null,
      "outputs": []
    },
    {
      "cell_type": "code",
      "source": [
        "print(ldamodel.print_topics(num_topics=6, num_words=5))\n",
        "\n",
        "# num_topics mean: how many topics want to extract \n",
        "# num_words: the number of words that want per topic"
      ],
      "metadata": {
        "colab": {
          "base_uri": "https://localhost:8080/"
        },
        "id": "KEc-lnaaHE2X",
        "outputId": "79506f35-c0dc-48d5-cd4c-fbea152f7c63"
      },
      "execution_count": null,
      "outputs": [
        {
          "output_type": "stream",
          "name": "stdout",
          "text": [
            "[(9, '0.005*\"gener random data predict without fit random normal size rais fit error gaussian cluster min compon predict\" + 0.005*\"mani lap complet date extract question question token token token question file tabl question context tabl question context read file file question token number entiti tabl question context get entiti question number entiti\" + 0.005*\"coverag semant parser experi json model train save load ensur model train save load\" + 0.005*\"model preserv token loss forward loss backward loss embed token embed mask batch weight embed loss forward loss backward loss forward pass run correctli train tensor dataset tensor dict result model train tensor set result embed result tupl embed shape expect embed shape loss result item forward loss result item backward loss result item almost equal loss forward loss backward loss decim\" + 0.005*\"sympi physic quantum cartesian sympi physic quantum cartesian arg\"'), (8, '0.005*\"given valid credenti run integr modul use valid credenti email password valid error rais command modul get task list human readabl com usernam identifi password password connect credenti mocker mocker patch object demisto return valu mocker patch object client return valu client client base url api param credenti client modul command\" + 0.005*\"offset lead zero expect result offset result expect\" + 0.005*\"print msg miss requir posit argument msg wrong number param paramet type error rais type error new print msg rais type error old oldfu print msg equal str new except equal str new except str old except\" + 0.005*\"note sum equal use use equal spars turn use allclos determin equal coeff refer oper abov match basi need tini precis chang ani reason map qubit oper driver hdf5 hdf5 driver second quantiz electron energi map driver driver hdf5 input get resourc path driver result driver run fermion driver result second mapper mapper qubit mapper map fermion equal qubit mapper\" + 0.005*\"issu symbol symbol product doit sub doit ration\"'), (2, '0.010*\"evalu result evalu result\" + 0.010*\"crop rectangl numpi input imag astyp numpi float32 expect imag input imag workspac modul make workspac input imag modul shape valu cellprofil modul crop modul horizont limit set valu modul vertic limit set valu modul remov row column valu cellprofil modul crop modul run workspac output imag workspac imag set get imag numpi output imag pixel data expect imag\" + 0.010*\"sim verifi request silent veriloggen reset simtyp request config getopt rslt onnx matrix conv2d run act shape weight shape act dtype weight dtype stride pad batchnorm act func disabl fusion par ich par och par col par row och chunk size axi datawidth silent filenam simtyp simtyp outputfil path splitext path basenam file verifi rslt rslt splitlin verifi rslt\" + 0.005*\"min min max max abc jpg pars detect sourc object array transpos detect array transpos object class label object difficult object group verifi label detect class label detect score featur field exampl field sourc byte featur sourc field exampl field object bbox float featur object tolist field exampl field object bbox float featur object tolist field exampl field object bbox float featur object tolist field exampl field object bbox xmax float featur object tolist field exampl field detect bbox float featur detect tolist field exampl field detect bbox float featur detect tolist field exampl field detect bbox float featur detect tolist field exampl field detect bbox xmax float featur detect tolist field exampl field detect class label int64 featur detect class label field exampl field detect score float featur detect score exampl train exampl featur train featur featur featur parser exampl parser exampl detect parser result dict parser pars exampl none result dict featur field exampl field object class label int64 featur object class label featur field exampl field object difficult int64 featur object difficult exampl train exampl featur train featur featur featur result dict parser pars exampl none result dict equal sourc result dict field detect result field key almost equal object result dict field input data field groundtruth box almost equal detect result dict field detect result field detect box almost equal detect score result dict field detect result field detect score almost equal detect class label result dict field detect result field detect class almost equal object difficult result dict field input data field groundtruth difficult almost equal object class label result dict field input data field groundtruth class parser exampl parser exampl detect parser featur field exampl field object group int64 featur object group exampl train exampl featur train featur featur featur result dict parser pars exampl none result dict equal object group result dict field input data field groundtruth group featur field exampl field imag class label int64 featur verifi label exampl train exampl featur train featur featur featur result dict parser pars exampl none result dict equal verifi label result dict field input data field verifi label\" + 0.005*\"limit offset dataset limit offset dataset histori content type dataset collect histori content type dataset limit offset histori content type dataset dataset search dataset hda dataset popul new dataset histori payload index respons get payload json len index respons index respons hda hdca dataset collect popul creat list histori histori content json index payload index respons get index payload json len index respons index respons hdca index respons index respons hda index respons index payload index respons get index payload json index respons hda\"'), (4, '0.010*\"config config tester run common\" + 0.005*\"miss name index categori column construct expect veri specif multiindex gender femal countri gender gender categori countri gender femal countri gender gender gender categori gender valu count index name categori column data frame astyp result groupbi valu count expect data frame column expect expect astyp expect multi index frame expect expect seri index expect name seri equal result expect\" + 0.005*\"mock exist pod state mock pend state creation mock run state pend mock succeed state mock success pod creation pend run succeed launcher namespac bodi api version kind pod metadata name 123 123 owner refer api version kind workflow name uid uid spec restart polici never contain name main imag command arg input artifact servic account servic account name launch load cluster succeed mock core api mock config mock publish mock insid kfp mock kfp namespac mock publish return valu publish execut return valu core api mock core api return valu core api read namespac pod side effect mock launcher pod client rest api except statu mock executor pod mock executor pod mock executor pod core api creat namespac pod return valu client pod core api read namespac pod log return valu stream return valu context creat launcher context context launch equal core api read namespac pod call count core api creat namespac pod call onc core api read namespac pod log call onc mock kwarg core api creat namespac pod call arg equal mock kwarg pod manifest mock kwarg dict equal context uri pod manifest\" + 0.005*\"behavior sensor error render templat sensor error render templat hass caplog mock client config ext queri set queri mock make key set queri mock mock client return valu make sensor setup hass config ext queri sensor state len record record caplog record record key record msg\" + 0.005*\"pylint disabl outer name pylint disabl outer name miss confus matrix key confus matrix dict confus matrix miss check viz param confus matrix param key confus matrix param key viz param confus matrix param expect error msg key pytest rais valu error match expect error msg gener visual viz param\"'), (7, '0.018*\"packag provid custom data defin function function definit func get function definit func\" + 0.004*\"onli block one path still reach convolut conv1 gate logist sigmoid gate conv2 gate logist sigmoid gate gate logist sigmoid gate input boundari conv3 build init model add regular input boundari conv3 count equal get sourc\" + 0.004*\"issu exp exponenti solv exponenti complex finit set\" + 0.004*\"doubl asset group one asset collect found doubl asset group load file modul directli must either one repositori one job one pipelin one graph one asset collect scope found asset collect defin variabl doubl asset group path file rel path file pytest rais dagster invari violat error exc info target python file path str exc info valu\" + 0.004*\"pickl expr eval expr byte pickl dump seek pickl load\"'), (6, '0.005*\"updat switch updat hass aioclient mock switch bodi bodi setup switch hass aioclient mock get text bodi templat switch async updat switch\" + 0.005*\"take exp spars array take arr data array equal arr take exp exp spars array take arr data array equal arr take exp\" + 0.005*\"check genom load check refer track load track label track content contig start stop label url refer track label refer track dash duo app dash dash name path join app get asset url app layout html div simpl app layout dash bio rang refer dash duo start server app dash duo wait text equal track dash duo find element len track track text\" + 0.005*\"gener produc via header indent buffer printer printer printer write header result printer read result startswith\" + 0.005*\"solid def isinst solid def solid definit\"')]\n"
          ]
        }
      ]
    },
    {
      "cell_type": "code",
      "source": [
        "# printing the topic associations with the documents\n",
        "count = 0\n",
        "for i in ldamodel[doc_term_matrix]:\n",
        "    print(\"doc : \",count,i)\n",
        "    count += 1"
      ],
      "metadata": {
        "id": "CvjXvR7EHMzh"
      },
      "execution_count": null,
      "outputs": []
    },
    {
      "cell_type": "code",
      "source": [
        "# saving the topic associations with the documents to .csv\n",
        "import csv\n",
        "\n",
        "header = ['NameOfDoc', 'WeightPerTopic']\n",
        "\n",
        "with open('/content/drive/MyDrive/lda_silhouette/weight_per_topic.csv', 'w', encoding='UTF8', newline='') as f:\n",
        "    writer = csv.writer(f)\n",
        "\n",
        "    # write the header\n",
        "    #writer.writerow(header)\n",
        "\n",
        "    count = 0\n",
        "    for i in ldamodel[doc_term_matrix]:\n",
        "        #print(\"doc : \",count,i)\n",
        "        # write the data\n",
        "        writer.writerow(i)\n",
        "        count += 1"
      ],
      "metadata": {
        "id": "Mj26iuhpLAoW"
      },
      "execution_count": null,
      "outputs": []
    },
    {
      "cell_type": "code",
      "source": [
        "documents = corpus.tolist()"
      ],
      "metadata": {
        "id": "9tm5D891CXbL"
      },
      "execution_count": null,
      "outputs": []
    },
    {
      "cell_type": "code",
      "source": [
        "print(documents[5])"
      ],
      "metadata": {
        "colab": {
          "base_uri": "https://localhost:8080/"
        },
        "id": "kt-CmkT0TMrZ",
        "outputId": "693f8a21-1746-40c4-9db8-6eb221e818e3"
      },
      "execution_count": null,
      "outputs": [
        {
          "output_type": "stream",
          "name": "stdout",
          "text": [
            "['exampl txt read exampl list exampl list data exampl list path path join get temp dir gfile open exampl list path write exampl list data exampl dataset util read exampl list exampl list path list equal exampl']\n"
          ]
        }
      ]
    },
    {
      "cell_type": "code",
      "source": [
        "start = time.time()\n",
        "preprocessed_documents = [\" \".join(s) for s in documents]\n",
        "print(f\"Preprocessing time: {time.time()-start:.1f}s.\")"
      ],
      "metadata": {
        "colab": {
          "base_uri": "https://localhost:8080/"
        },
        "id": "1CMRZ-P4WIk5",
        "outputId": "a8fcd9c7-3025-402f-8cf5-3645d1fdc6e1"
      },
      "execution_count": null,
      "outputs": [
        {
          "output_type": "stream",
          "name": "stdout",
          "text": [
            "Preprocessing time: 0.0s.\n"
          ]
        }
      ]
    },
    {
      "cell_type": "code",
      "source": [
        "import nltk\n",
        "nltk.download('stopwords')\n",
        "tf_vectorizer = CountVectorizer(max_df=0.80, min_df=10, stop_words=stopwords.words('english')+['like', 'said', 'could', 'would', 'one', 'know', 'us'], max_features=1000)"
      ],
      "metadata": {
        "colab": {
          "base_uri": "https://localhost:8080/"
        },
        "id": "EdndyoQ0kJ9Y",
        "outputId": "9f5cb53f-ac00-4b86-903a-160ee8169139"
      },
      "execution_count": null,
      "outputs": [
        {
          "output_type": "stream",
          "name": "stdout",
          "text": [
            "[nltk_data] Downloading package stopwords to /root/nltk_data...\n",
            "[nltk_data]   Unzipping corpora/stopwords.zip.\n"
          ]
        }
      ]
    },
    {
      "cell_type": "code",
      "source": [
        "tf = tf_vectorizer.fit_transform(preprocessed_documents).toarray()\n"
      ],
      "metadata": {
        "id": "9bR_J65vXOUC"
      },
      "execution_count": null,
      "outputs": []
    },
    {
      "cell_type": "code",
      "source": [
        "features = tf_vectorizer.get_feature_names_out()"
      ],
      "metadata": {
        "id": "dcDjlANKkKBS"
      },
      "execution_count": null,
      "outputs": []
    },
    {
      "cell_type": "code",
      "source": [
        "tf.shape"
      ],
      "metadata": {
        "colab": {
          "base_uri": "https://localhost:8080/"
        },
        "id": "XpZrz75okKFQ",
        "outputId": "a526ef00-987b-4dcd-d991-44c3a24798ec"
      },
      "execution_count": null,
      "outputs": [
        {
          "output_type": "execute_result",
          "data": {
            "text/plain": [
              "(1999, 785)"
            ]
          },
          "metadata": {},
          "execution_count": 15
        }
      ]
    },
    {
      "cell_type": "code",
      "source": [
        "len(features)"
      ],
      "metadata": {
        "colab": {
          "base_uri": "https://localhost:8080/"
        },
        "id": "EAJbJCy6kKJe",
        "outputId": "f7d970e4-e7a5-4617-a109-b3aff8701e83"
      },
      "execution_count": null,
      "outputs": [
        {
          "output_type": "execute_result",
          "data": {
            "text/plain": [
              "785"
            ]
          },
          "metadata": {},
          "execution_count": 16
        }
      ]
    },
    {
      "cell_type": "code",
      "source": [
        "from sklearn.decomposition import LatentDirichletAllocation as LDA"
      ],
      "metadata": {
        "id": "0LUrf8TGkKNb"
      },
      "execution_count": null,
      "outputs": []
    },
    {
      "cell_type": "code",
      "source": [
        "from utils import print_topics, get_topics_top_words\n",
        "n_topics = 5\n",
        "# alpha = 1 / n_components, beta = 1 / n_components\n",
        "model = LDA(n_components=n_topics, random_state=0)\n",
        "# calculate document-to-topic matrix\n",
        "doc_topic = model.fit_transform(tf)"
      ],
      "metadata": {
        "id": "i7V_oco2kKRw"
      },
      "execution_count": null,
      "outputs": []
    },
    {
      "cell_type": "code",
      "source": [
        "from sklearn.cluster import KMeans\n",
        "\n",
        "C = 5\n",
        "random_state = 42\n",
        "clusterer = KMeans(n_clusters=C, random_state=random_state)\n",
        "cluster_labels = clusterer.fit_predict(doc_topic)"
      ],
      "metadata": {
        "id": "0jwJwTvrkKVE"
      },
      "execution_count": null,
      "outputs": []
    },
    {
      "cell_type": "code",
      "source": [
        "x, y = np.unique(cluster_labels, return_counts=True)\n",
        "plt.bar(x, y)\n",
        "plt.xticks(range(C), range(C))\n",
        "plt.title(\"Number of documents assigned to each cluster\")\n",
        "plt.xlabel(\"cluster label\")\n",
        "plt.ylabel(\"number of documents\")\n",
        "plt.show()"
      ],
      "metadata": {
        "colab": {
          "base_uri": "https://localhost:8080/",
          "height": 295
        },
        "id": "ePIfSvMTkKY1",
        "outputId": "d15477a4-9103-48eb-83cf-c9fcba18ccf6"
      },
      "execution_count": null,
      "outputs": [
        {
          "output_type": "display_data",
          "data": {
            "text/plain": [
              "<Figure size 432x288 with 1 Axes>"
            ],
            "image/png": "[encoded data removed]"
          },
          "metadata": {
            "needs_background": "light"
          }
        }
      ]
    },
    {
      "cell_type": "code",
      "source": [
        "from sklearn import metrics\n",
        "\n",
        "def plot_cluster_metrics(data, min_clusters=2, max_clusters=20, iters=10):\n",
        "    n_clusters = []\n",
        "\n",
        "    wgss_mean = [] # within group sum of squares, or inertia\n",
        "    wgss_var = [] # variance of results because it's stochastic\n",
        "\n",
        "    silhouette_mean = []\n",
        "    silhouette_var = []\n",
        "    \n",
        "    for n in range(min_clusters, max_clusters+1):\n",
        "        n_clusters.append(n)\n",
        "\n",
        "        wgss_iters = []\n",
        "        silhouette_iters = []\n",
        "\n",
        "        for i in range(iters):\n",
        "            clusterer = KMeans(n_clusters=n).fit(data)\n",
        "            wgss_iters.append(clusterer.inertia_)\n",
        "            silhouette_iters.append(metrics.silhouette_score(data,\n",
        "                                                             clusterer.labels_,\n",
        "                                                             metric='euclidean'))\n",
        "\n",
        "        wgss_mean.append(np.array(wgss_iters).mean())\n",
        "        wgss_var.append(np.array(wgss_iters).var())\n",
        "\n",
        "        silhouette_mean.append(np.array(silhouette_iters).mean())\n",
        "        silhouette_var.append(np.array(silhouette_iters).var())\n",
        "\n",
        "    wgss_mean = np.array(wgss_mean)\n",
        "    wgss_var = np.array(wgss_var)\n",
        "\n",
        "    silhouette_mean = np.array(silhouette_mean)\n",
        "    silhouette_var = np.array(silhouette_var)\n",
        "    \n",
        "    # plot every metric\n",
        "    plt.figure(figsize=(10, 10))\n",
        "    \n",
        "    plt.subplot(211)\n",
        "    plt.xticks(n_clusters)\n",
        "    plt.plot(n_clusters, silhouette_mean, alpha=1, color='red', label='silhouette')\n",
        "    plt.fill_between(n_clusters,\n",
        "                     silhouette_mean-silhouette_var,\n",
        "                     silhouette_mean+silhouette_var,\n",
        "                     alpha=0.2)\n",
        "    plt.title(\"Evaluate quality of clusters\")\n",
        "    plt.grid(True)\n",
        "    plt.legend()\n",
        "    \n",
        "    plt.subplot(212)\n",
        "    plt.xticks(n_clusters)\n",
        "    plt.plot(n_clusters, wgss_mean, alpha=1, label='inertia', color='orange')\n",
        "    plt.fill_between(n_clusters, wgss_mean-wgss_var, wgss_mean+wgss_var, alpha=0.2)\n",
        "    plt.xlabel(\"# clusters\")\n",
        "    plt.legend()\n",
        "    plt.grid(True)\n",
        "    \n",
        "    #plt.savefig(\"part-2-images/clustering-metrics.jpg\", dpi=100)\n",
        "    plt.show()\n",
        "    return\n",
        "plot_cluster_metrics(doc_topic)"
      ],
      "metadata": {
        "colab": {
          "base_uri": "https://localhost:8080/",
          "height": 621
        },
        "id": "1lW1X7DAkKcp",
        "outputId": "7cb3eca4-8c70-45d2-d471-5e77ded8514d"
      },
      "execution_count": null,
      "outputs": [
        {
          "output_type": "display_data",
          "data": {
            "text/plain": [
              "<Figure size 720x720 with 2 Axes>"
            ],
            "image/png": "[encoded data removed]"
          },
          "metadata": {
            "needs_background": "light"
          }
        }
      ]
    },
    {
      "cell_type": "code",
      "source": [
        "# adapted from: https://scikit-learn.org/stable/auto_examples/cluster/plot_kmeans_\n",
        "# silhouette_analysis.html#sphx-glr-auto-examples-cluster-plot-kmeans-silhouette-analysis-py\n",
        "\n",
        "def plot_cluster_silhouette(data, n_clusters, cluster_labels):\n",
        "    fig, ax1 = plt.subplots(1, 1)\n",
        "    fig.set_size_inches(10, 7)\n",
        "\n",
        "    # The 1st subplot is the silhouette plot\n",
        "    # The silhouette coefficient can range from -1, 1 but in this example all\n",
        "    # lie within [-0.1, 1]\n",
        "    ax1.set_xlim([-0.1, 1])\n",
        "    # The (n_clusters+1)*10 is for inserting blank space between silhouette\n",
        "    # plots of individual clusters, to demarcate them clearly.\n",
        "    ax1.set_ylim([0, len(data) + (n_clusters + 1) * 10])\n",
        "\n",
        "    # The silhouette_score gives the average value for all the samples.\n",
        "    # This gives a perspective into the density and separation of the formed\n",
        "    # clusters\n",
        "    silhouette_avg = metrics.silhouette_score(data, cluster_labels)\n",
        "\n",
        "    # Compute the silhouette scores for each sample\n",
        "    sample_silhouette_values = metrics.silhouette_samples(data, cluster_labels)\n",
        "\n",
        "    y_lower = 10\n",
        "    for i in range(n_clusters):\n",
        "        # Aggregate the silhouette scores for samples belonging to\n",
        "        # cluster i, and sort them\n",
        "        ith_cluster_silhouette_values = sample_silhouette_values[cluster_labels == i]\n",
        "\n",
        "        ith_cluster_silhouette_values.sort()\n",
        "\n",
        "        size_cluster_i = ith_cluster_silhouette_values.shape[0]\n",
        "        y_upper = y_lower + size_cluster_i\n",
        "\n",
        "        color = matplotlib.cm.nipy_spectral(float(i) / n_clusters)\n",
        "        ax1.fill_betweenx(np.arange(y_lower, y_upper), 0,\n",
        "                          ith_cluster_silhouette_values,\n",
        "                          facecolor=color,\n",
        "                          edgecolor=color,\n",
        "                          alpha=0.7)\n",
        "\n",
        "        # Label the silhouette plots with their cluster numbers at the middle\n",
        "        ax1.text(-0.05, y_lower + 0.5 * size_cluster_i, str(i))\n",
        "\n",
        "        # Compute the new y_lower for next plot\n",
        "        y_lower = y_upper + 10  # 10 for the 0 samples\n",
        "\n",
        "    ax1.set_xlabel(\"silhouette coefficient values\")\n",
        "    ax1.set_ylabel(\"cluster label\")\n",
        "\n",
        "    # The vertical line for average silhouette score of all the values\n",
        "    ax1.axvline(x=silhouette_avg, color=\"red\", linestyle=\"--\")\n",
        "\n",
        "    ax1.set_yticks([])  # Clear the yaxis labels / ticks\n",
        "    ax1.set_xticks([-0.1, 0, 0.2, 0.4, 0.6, 0.8, 1])\n",
        "\n",
        "    plt.suptitle((\"Clustering on sample data with # clusters = \"\n",
        "                  + str(n_clusters) + \"\\nAverage silhouette_score is : \"\n",
        "                  + str(silhouette_avg)))\n",
        "    \n",
        "    #plt.savefig(\"part-2-images/clustering-silhouette.jpg\", dpi=100)\n",
        "    plt.show()\n",
        "C = n_topics\n",
        "clusterer = KMeans(n_clusters=C, random_state=random_state)\n",
        "cluster_labels = clusterer.fit_predict(doc_topic)\n",
        "\n",
        "plot_cluster_silhouette(doc_topic, C, cluster_labels)"
      ],
      "metadata": {
        "colab": {
          "base_uri": "https://localhost:8080/",
          "height": 493
        },
        "id": "28STaMzFkKgj",
        "outputId": "010ec835-0c8a-46d3-bd16-633b68f14d8b"
      },
      "execution_count": null,
      "outputs": [
        {
          "output_type": "display_data",
          "data": {
            "text/plain": [
              "<Figure size 720x504 with 1 Axes>"
            ],
            "image/png": "[encoded data removed]"
          },
          "metadata": {
            "needs_background": "light"
          }
        }
      ]
    }
  ]
}