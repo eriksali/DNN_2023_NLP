{
  "nbformat": 4,
  "nbformat_minor": 0,
  "metadata": {
    "colab": {
      "provenance": [],
      "include_colab_link": true
    },
    "kernelspec": {
      "name": "python3",
      "display_name": "Python 3"
    },
    "language_info": {
      "name": "python"
    }
  },
  "cells": [
    {
      "cell_type": "markdown",
      "metadata": {
        "id": "view-in-github",
        "colab_type": "text"
      },
      "source": [
        "<a href=\"https://colab.research.google.com/github/eriksali/DNN_2023_NLP/blob/main/NLP10.ipynb\" target=\"_parent\"><img src=\"https://colab.research.google.com/assets/colab-badge.svg\" alt=\"Open In Colab\"/></a>"
      ]
    },
    {
      "cell_type": "markdown",
      "source": [
        "# CSI 5900: Lecture 10 Code Examples\n",
        "\n",
        "Prof. Steven Wilson, Oakland University"
      ],
      "metadata": {
        "id": "rtEyOr1s5Yz9"
      }
    },
    {
      "cell_type": "markdown",
      "source": [
        "## Lexical Resources"
      ],
      "metadata": {
        "id": "ILmje2mgcSvf"
      }
    },
    {
      "cell_type": "code",
      "source": [
        "from nltk.corpus import wordnet as wn\n",
        "import nltk\n",
        "nltk.download('wordnet')\n",
        "nltk.download('omw-1.4')"
      ],
      "metadata": {
        "id": "Kp85hDtkcVbw",
        "colab": {
          "base_uri": "https://localhost:8080/"
        },
        "outputId": "e2ad278b-dd41-49b4-d85c-7528524a84c1"
      },
      "execution_count": null,
      "outputs": [
        {
          "output_type": "stream",
          "name": "stderr",
          "text": [
            "[nltk_data] Downloading package wordnet to /root/nltk_data...\n",
            "[nltk_data] Downloading package omw-1.4 to /root/nltk_data...\n"
          ]
        },
        {
          "output_type": "execute_result",
          "data": {
            "text/plain": [
              "True"
            ]
          },
          "metadata": {},
          "execution_count": 1
        }
      ]
    },
    {
      "cell_type": "code",
      "source": [
        "# load all synsets that contain a word\n",
        "print(wn.synsets('apple'))\n",
        "# store individual synsets\n",
        "apple0 = wn.synsets('apple')[0]\n",
        "apple1 = wn.synsets('apple')[1]\n",
        "# and print their definitions\n",
        "print(apple0.definition())\n",
        "print(apple1.definition())"
      ],
      "metadata": {
        "id": "9_vC9_cFMITt",
        "colab": {
          "base_uri": "https://localhost:8080/"
        },
        "outputId": "f0c06642-26bf-4fa5-f7f7-f4758ffdae45"
      },
      "execution_count": null,
      "outputs": [
        {
          "output_type": "stream",
          "name": "stdout",
          "text": [
            "[Synset('apple.n.01'), Synset('apple.n.02')]\n",
            "fruit with red or yellow or green skin and sweet to tart crisp whitish flesh\n",
            "native Eurasian tree widely cultivated in many varieties for its firm rounded edible fruits\n"
          ]
        }
      ]
    },
    {
      "cell_type": "code",
      "source": [
        "wn.synsets('bat')"
      ],
      "metadata": {
        "id": "PPRnnTWLMmRs",
        "colab": {
          "base_uri": "https://localhost:8080/"
        },
        "outputId": "d91a1716-50c6-4a28-bbf9-28fa45e427bb"
      },
      "execution_count": null,
      "outputs": [
        {
          "output_type": "execute_result",
          "data": {
            "text/plain": [
              "[Synset('bat.n.01'),\n",
              " Synset('bat.n.02'),\n",
              " Synset('squash_racket.n.01'),\n",
              " Synset('cricket_bat.n.01'),\n",
              " Synset('bat.n.05'),\n",
              " Synset('bat.v.01'),\n",
              " Synset('bat.v.02'),\n",
              " Synset('bat.v.03'),\n",
              " Synset('bat.v.04'),\n",
              " Synset('cream.v.02')]"
            ]
          },
          "metadata": {},
          "execution_count": 3
        }
      ]
    },
    {
      "cell_type": "code",
      "source": [
        "# filter on part-of-speech (pos)\n",
        "wn.synsets('bat',pos=wn.VERB)"
      ],
      "metadata": {
        "id": "NQh9-yRtMp4T",
        "colab": {
          "base_uri": "https://localhost:8080/"
        },
        "outputId": "596cf562-afcf-4b6a-e266-62d24c2bb787"
      },
      "execution_count": null,
      "outputs": [
        {
          "output_type": "execute_result",
          "data": {
            "text/plain": [
              "[Synset('bat.v.01'),\n",
              " Synset('bat.v.02'),\n",
              " Synset('bat.v.03'),\n",
              " Synset('bat.v.04'),\n",
              " Synset('cream.v.02')]"
            ]
          },
          "metadata": {},
          "execution_count": 4
        }
      ]
    },
    {
      "cell_type": "code",
      "source": [
        "# show all lemmas\n",
        "print([lemma.name() for lemma in wn.synset('bat.v.02').lemmas()])\n",
        "# show the definition\n",
        "print(wn.synset('bat.v.02').definition())\n",
        "# show the lemmas from this synset in japanese\n",
        "print(wn.synset('bat.v.02').lemma_names('jpn'))"
      ],
      "metadata": {
        "id": "98p3aqwOMwjo",
        "colab": {
          "base_uri": "https://localhost:8080/"
        },
        "outputId": "46a7be0d-b9a7-4574-b372-999748695bcb"
      },
      "execution_count": null,
      "outputs": [
        {
          "output_type": "stream",
          "name": "stdout",
          "text": [
            "['bat', 'flutter']\n",
            "wink briefly\n",
            "['しばたく', 'しばたたく', 'パチパチ+する', '瞬く']\n"
          ]
        }
      ]
    },
    {
      "cell_type": "code",
      "source": [
        "# examples for orange\n",
        "orange0 = wn.synsets('orange')[0]\n",
        "print(orange0.definition())\n",
        "orange1 = wn.synsets('orange')[1]\n",
        "print(orange1.definition())"
      ],
      "metadata": {
        "id": "6TH9nJ3MNVp_",
        "colab": {
          "base_uri": "https://localhost:8080/"
        },
        "outputId": "ade3ecdf-163b-4ac3-f63d-78231721127e"
      },
      "execution_count": null,
      "outputs": [
        {
          "output_type": "stream",
          "name": "stdout",
          "text": [
            "round yellow to orange fruit of any of several citrus trees\n",
            "orange color or pigment; any of a range of colors between red and yellow\n"
          ]
        }
      ]
    },
    {
      "cell_type": "markdown",
      "source": [
        "![image.png](data:image/png;base64,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)\n",
        "\n",
        "Example: deer is more similar to elk than giraffe based on the number of \"steps\" we need to take in the graph. Horse is even less similar to deer than either elk or giraffe (according to wordnet path distance)."
      ],
      "metadata": {
        "id": "KiTfzERToTXD"
      }
    },
    {
      "cell_type": "code",
      "source": [
        "# another way to compute word similarity\n",
        "# computed as 1/(shortest path distance + 1)\n",
        "orange0.path_similarity(apple0)"
      ],
      "metadata": {
        "id": "Pw5-LLu2Nita",
        "colab": {
          "base_uri": "https://localhost:8080/"
        },
        "outputId": "5c39d256-07d1-443b-a833-5f5cfb18dcc9"
      },
      "execution_count": null,
      "outputs": [
        {
          "output_type": "execute_result",
          "data": {
            "text/plain": [
              "0.25"
            ]
          },
          "metadata": {},
          "execution_count": 7
        }
      ]
    },
    {
      "cell_type": "code",
      "source": [
        "# what about this definition?\n",
        "orange1.path_similarity(apple0)"
      ],
      "metadata": {
        "id": "4bamItd5NngR",
        "colab": {
          "base_uri": "https://localhost:8080/"
        },
        "outputId": "236b82a5-991e-4393-cf60-937f7a37e9a1"
      },
      "execution_count": null,
      "outputs": [
        {
          "output_type": "execute_result",
          "data": {
            "text/plain": [
              "0.06666666666666667"
            ]
          },
          "metadata": {},
          "execution_count": 8
        }
      ]
    },
    {
      "cell_type": "code",
      "source": [
        "# can also use for lemmatization\n",
        "wn.morphy('wolves')"
      ],
      "metadata": {
        "id": "QfvGrePENt_Z",
        "colab": {
          "base_uri": "https://localhost:8080/",
          "height": 36
        },
        "outputId": "5a676798-6654-483a-9e83-5d2b94c565fb"
      },
      "execution_count": null,
      "outputs": [
        {
          "output_type": "execute_result",
          "data": {
            "text/plain": [
              "'wolf'"
            ],
            "application/vnd.google.colaboratory.intrinsic+json": {
              "type": "string"
            }
          },
          "metadata": {},
          "execution_count": 9
        }
      ]
    },
    {
      "cell_type": "code",
      "source": [
        "# compare to porter stemmer\n",
        "from nltk.stem.porter import *\n",
        "stemmer = PorterStemmer()\n",
        "stemmer.stem('wolves')"
      ],
      "metadata": {
        "id": "divMq9i8N8z0",
        "colab": {
          "base_uri": "https://localhost:8080/",
          "height": 36
        },
        "outputId": "adaefb0c-e079-4adc-8fc1-aefcd3b93b7d"
      },
      "execution_count": null,
      "outputs": [
        {
          "output_type": "execute_result",
          "data": {
            "text/plain": [
              "'wolv'"
            ],
            "application/vnd.google.colaboratory.intrinsic+json": {
              "type": "string"
            }
          },
          "metadata": {},
          "execution_count": 10
        }
      ]
    },
    {
      "cell_type": "code",
      "source": [
        "# what about this one?\n",
        "wn.morphy(\"leaves\")"
      ],
      "metadata": {
        "id": "ArG7KjCxOHAe",
        "colab": {
          "base_uri": "https://localhost:8080/",
          "height": 36
        },
        "outputId": "09db1c08-807e-46fb-aa6f-ad360e51e943"
      },
      "execution_count": null,
      "outputs": [
        {
          "output_type": "execute_result",
          "data": {
            "text/plain": [
              "'leaf'"
            ],
            "application/vnd.google.colaboratory.intrinsic+json": {
              "type": "string"
            }
          },
          "metadata": {},
          "execution_count": 11
        }
      ]
    },
    {
      "cell_type": "code",
      "source": [
        "# may need to specify the part-of-speech!\n",
        "wn.morphy(\"leaves\",pos=\"v\")"
      ],
      "metadata": {
        "id": "cIpg4Cf7OKPS",
        "colab": {
          "base_uri": "https://localhost:8080/",
          "height": 36
        },
        "outputId": "ac0c936c-a6c6-4d92-9543-d2be74c11891"
      },
      "execution_count": null,
      "outputs": [
        {
          "output_type": "execute_result",
          "data": {
            "text/plain": [
              "'leave'"
            ],
            "application/vnd.google.colaboratory.intrinsic+json": {
              "type": "string"
            }
          },
          "metadata": {},
          "execution_count": 12
        }
      ]
    }
  ]
}